{
 "cells": [
  {
   "cell_type": "code",
   "execution_count": 1,
   "metadata": {
    "collapsed": true,
    "ExecuteTime": {
     "end_time": "2023-12-19T07:19:16.538263500Z",
     "start_time": "2023-12-19T07:19:14.848490Z"
    }
   },
   "outputs": [],
   "source": [
    "import xgboost as xgb\n",
    "\n",
    "from sklearn.model_selection import train_test_split, RandomizedSearchCV\n",
    "from sklearn.metrics import accuracy_score, recall_score, precision_score\n",
    "import numpy as np\n",
    "import pandas as pd\n",
    "from sklearn.metrics import classification_report\n",
    "from sklearn.preprocessing import StandardScaler\n",
    "from sklearn.svm import SVC\n",
    "import matplotlib as plt\n",
    "from sklearn.model_selection import train_test_split, GridSearchCV\n",
    "from sklearn.model_selection import GridSearchCV"
   ]
  },
  {
   "cell_type": "markdown",
   "source": [
    "Importing and processing the data"
   ],
   "metadata": {
    "collapsed": false
   }
  },
  {
   "cell_type": "code",
   "execution_count": 2,
   "outputs": [],
   "source": [
    "file_path = './data./Data Set for Chapter - Sheet1.csv'\n",
    "df = pd.read_csv(file_path)\n",
    "df.dropna(inplace=True)"
   ],
   "metadata": {
    "collapsed": false,
    "ExecuteTime": {
     "end_time": "2023-12-19T07:19:16.554264500Z",
     "start_time": "2023-12-19T07:19:16.538263500Z"
    }
   }
  },
  {
   "cell_type": "markdown",
   "source": [
    "Splitting the data into train, test and cross validation sets"
   ],
   "metadata": {
    "collapsed": false
   }
  },
  {
   "cell_type": "code",
   "execution_count": 3,
   "outputs": [
    {
     "name": "stdout",
     "output_type": "stream",
     "text": [
      "length of training set:  380\n",
      "length of test set:  82\n",
      "length of cv set:  82\n"
     ]
    }
   ],
   "source": [
    "x = df.loc[:,'Age':'Testing']\n",
    "y = df['STD Status']\n",
    "\n",
    "scaler = StandardScaler()\n",
    "x = scaler.fit_transform(x)\n",
    "\n",
    "# Split dataset into training set and test set\n",
    "X_train, X_test, y_train, y_test = train_test_split(x,y,test_size=0.3,random_state=41) # 70% training and 30% test\n",
    "X_cv,y_cv = X_test[:int(len(X_test)/2)],y_test[:int(len(y_test)/2)]\n",
    "X_test,y_test = X_test[int(len(X_test)/2):],y_test[int(len(y_test)/2):]\n",
    "\n",
    "print(\"length of training set: \", len(X_train))\n",
    "print(\"length of test set: \", len(X_test))\n",
    "print(\"length of cv set: \", len(X_cv))"
   ],
   "metadata": {
    "collapsed": false,
    "ExecuteTime": {
     "end_time": "2023-12-19T07:19:16.595339100Z",
     "start_time": "2023-12-19T07:19:16.562235300Z"
    }
   }
  },
  {
   "cell_type": "markdown",
   "source": [
    "Creating the XGBoost model"
   ],
   "metadata": {
    "collapsed": false
   }
  },
  {
   "cell_type": "code",
   "execution_count": 4,
   "outputs": [],
   "source": [
    "xgb_clf = xgb.XGBClassifier(\n",
    "    objective=\"binary:logistic\",\n",
    "    eta=0.1,\n",
    "    max_depth=5,\n",
    "    min_child_weight=5,\n",
    "    subsample=0.8,\n",
    "    colsample_bytree=0.9\n",
    ")\n",
    "\n",
    "# Create classification matrices\n",
    "dtrain_clf = xgb.DMatrix(X_train, y_train, enable_categorical=True)\n",
    "dtest_clf = xgb.DMatrix(X_test, y_test, enable_categorical=True)\n",
    "param_grid = { 'eta': [0.01, 0.1, 0.2,0.5],\n",
    "               'max_depth': [3, 5, 7, 9, 11, 15, 20],\n",
    "               'min_child_weight': [1, 5, 10],\n",
    "               'subsample': [0.8, 0.9],\n",
    "               'colsample_bytree': [0.8, 0.9]\n",
    "             }"
   ],
   "metadata": {
    "collapsed": false,
    "ExecuteTime": {
     "end_time": "2023-12-19T07:19:16.658373600Z",
     "start_time": "2023-12-19T07:19:16.586261100Z"
    }
   }
  },
  {
   "cell_type": "markdown",
   "source": [
    "Performing RandomSearch with initial parameters"
   ],
   "metadata": {
    "collapsed": false
   }
  },
  {
   "cell_type": "code",
   "execution_count": 5,
   "outputs": [
    {
     "name": "stdout",
     "output_type": "stream",
     "text": [
      "Fitting 5 folds for each of 100 candidates, totalling 500 fits\n",
      "Best Hyperparameters: {'subsample': 0.9, 'min_child_weight': 5, 'max_depth': 15, 'eta': 0.1, 'colsample_bytree': 0.8}\n",
      "Accuracy: 0.8536585365853658\n",
      "Precision: 0.9285714285714286\n",
      "Recall: 0.8125\n"
     ]
    }
   ],
   "source": [
    "random_search_xgboost_model = RandomizedSearchCV(\n",
    "    xgb_clf, param_grid, cv=5, scoring='neg_log_loss', n_iter=100, verbose=1\n",
    ")\n",
    "# Fit the model on the training data\n",
    "random_search_xgboost_model.fit(X_train, y_train)\n",
    "\n",
    "# Display the best hyperparameters\n",
    "print(\"Best Hyperparameters:\", random_search_xgboost_model.best_params_)\n",
    "\n",
    "# Get the best model\n",
    "best_random_search_xgb_model = random_search_xgboost_model.best_estimator_\n",
    "\n",
    "# Evaluate the model with additional metrics\n",
    "predictions = best_random_search_xgb_model.predict(X_test)\n",
    "print(\"Accuracy:\", accuracy_score(y_test, predictions))\n",
    "print(\"Precision:\", precision_score(y_test, predictions))\n",
    "print(\"Recall:\", recall_score(y_test, predictions))"
   ],
   "metadata": {
    "collapsed": false,
    "ExecuteTime": {
     "end_time": "2023-12-19T07:19:35.825836200Z",
     "start_time": "2023-12-19T07:19:16.658373600Z"
    }
   }
  },
  {
   "cell_type": "markdown",
   "source": [
    "Using the parameters from Random Search"
   ],
   "metadata": {
    "collapsed": false
   }
  },
  {
   "cell_type": "code",
   "execution_count": 6,
   "outputs": [
    {
     "name": "stdout",
     "output_type": "stream",
     "text": [
      "[0]\ttrain-auc:0.76212+0.01928\ttrain-error:0.40007+0.04662\ttrain-logloss:0.67105+0.00371\ttest-auc:0.58830+0.04077\ttest-error:0.50000+0.00321\ttest-logloss:0.69273+0.00457\n",
      "[1]\ttrain-auc:0.78715+0.02002\ttrain-error:0.31188+0.03146\ttrain-logloss:0.65344+0.00493\ttest-auc:0.59133+0.02873\ttest-error:0.44205+0.03265\ttest-logloss:0.68837+0.00569\n",
      "[2]\ttrain-auc:0.79447+0.01780\ttrain-error:0.29873+0.02466\ttrain-logloss:0.63762+0.00516\ttest-auc:0.60873+0.00980\ttest-error:0.45257+0.02569\ttest-logloss:0.68234+0.00429\n",
      "[3]\ttrain-auc:0.94232+0.00647\ttrain-error:0.16583+0.02040\ttrain-logloss:0.57826+0.00634\ttest-auc:0.81835+0.01569\ttest-error:0.29465+0.02508\ttest-logloss:0.62571+0.00281\n",
      "[4]\ttrain-auc:0.96451+0.00377\ttrain-error:0.09474+0.00337\ttrain-logloss:0.52875+0.00656\ttest-auc:0.88246+0.01312\ttest-error:0.19993+0.01903\ttest-logloss:0.57801+0.00115\n",
      "[5]\ttrain-auc:0.97356+0.00391\ttrain-error:0.08288+0.00631\ttrain-logloss:0.49196+0.00518\ttest-auc:0.89656+0.00869\ttest-error:0.16315+0.00715\ttest-logloss:0.54517+0.00310\n",
      "[6]\ttrain-auc:0.97381+0.00486\ttrain-error:0.08684+0.00323\ttrain-logloss:0.48130+0.00544\ttest-auc:0.89240+0.00618\ttest-error:0.17889+0.01920\ttest-logloss:0.54068+0.00382\n",
      "[7]\ttrain-auc:0.97555+0.00373\ttrain-error:0.08025+0.00661\ttrain-logloss:0.45146+0.00524\ttest-auc:0.90253+0.00463\ttest-error:0.14215+0.01172\ttest-logloss:0.51240+0.00384\n",
      "[8]\ttrain-auc:0.97611+0.00420\ttrain-error:0.07894+0.00551\ttrain-logloss:0.44360+0.00546\ttest-auc:0.89676+0.00419\ttest-error:0.16052+0.02254\ttest-logloss:0.51145+0.00512\n",
      "[9]\ttrain-auc:0.97692+0.00569\ttrain-error:0.07631+0.00668\ttrain-logloss:0.43551+0.00641\ttest-auc:0.89599+0.00621\ttest-error:0.16052+0.02896\ttest-logloss:0.50883+0.00684\n",
      "[10]\ttrain-auc:0.97824+0.00551\ttrain-error:0.07236+0.00662\ttrain-logloss:0.40583+0.00670\ttest-auc:0.90252+0.00766\ttest-error:0.14215+0.01172\ttest-logloss:0.48186+0.00709\n",
      "[11]\ttrain-auc:0.97945+0.00427\ttrain-error:0.07762+0.01027\ttrain-logloss:0.38384+0.00610\ttest-auc:0.90692+0.01007\ttest-error:0.14477+0.01038\ttest-logloss:0.46164+0.00832\n",
      "[12]\ttrain-auc:0.97988+0.00425\ttrain-error:0.07762+0.01296\ttrain-logloss:0.36069+0.00664\ttest-auc:0.90798+0.00986\ttest-error:0.13950+0.00798\ttest-logloss:0.44260+0.00878\n",
      "[13]\ttrain-auc:0.98017+0.00458\ttrain-error:0.07498+0.01152\ttrain-logloss:0.35666+0.00663\ttest-auc:0.90804+0.01252\ttest-error:0.14215+0.01172\ttest-logloss:0.44125+0.00930\n",
      "[14]\ttrain-auc:0.98015+0.00452\ttrain-error:0.07498+0.01152\ttrain-logloss:0.33730+0.00709\ttest-auc:0.90960+0.01022\ttest-error:0.13950+0.00798\ttest-logloss:0.42454+0.00920\n",
      "[15]\ttrain-auc:0.97958+0.00416\ttrain-error:0.07367+0.01332\ttrain-logloss:0.32283+0.00655\ttest-auc:0.91217+0.01113\ttest-error:0.13157+0.00324\ttest-logloss:0.41177+0.01085\n",
      "[16]\ttrain-auc:0.97950+0.00403\ttrain-error:0.07367+0.01332\ttrain-logloss:0.30701+0.00723\ttest-auc:0.91208+0.01212\ttest-error:0.12894+0.00350\ttest-logloss:0.40005+0.01164\n",
      "[17]\ttrain-auc:0.97993+0.00355\ttrain-error:0.07762+0.01296\ttrain-logloss:0.29474+0.00721\ttest-auc:0.91334+0.01249\ttest-error:0.12894+0.00350\ttest-logloss:0.39172+0.01167\n",
      "[18]\ttrain-auc:0.98071+0.00385\ttrain-error:0.07498+0.01152\ttrain-logloss:0.29087+0.00774\ttest-auc:0.91184+0.01308\ttest-error:0.13159+0.00399\ttest-logloss:0.39089+0.01179\n",
      "[19]\ttrain-auc:0.98161+0.00425\ttrain-error:0.07498+0.01152\ttrain-logloss:0.28722+0.00803\ttest-auc:0.91150+0.01288\ttest-error:0.13421+0.00050\ttest-logloss:0.39099+0.01204\n",
      "[20]\ttrain-auc:0.98207+0.00423\ttrain-error:0.07498+0.01152\ttrain-logloss:0.27511+0.00870\ttest-auc:0.91149+0.01154\ttest-error:0.12894+0.00350\ttest-logloss:0.38170+0.01088\n",
      "[21]\ttrain-auc:0.98213+0.00393\ttrain-error:0.07367+0.01028\ttrain-logloss:0.26596+0.00863\ttest-auc:0.91220+0.01342\ttest-error:0.13688+0.01035\ttest-logloss:0.37523+0.01276\n",
      "[22]\ttrain-auc:0.98210+0.00368\ttrain-error:0.07499+0.00844\ttrain-logloss:0.25585+0.00860\ttest-auc:0.91596+0.01299\ttest-error:0.12894+0.00350\ttest-logloss:0.36715+0.01365\n",
      "[23]\ttrain-auc:0.98223+0.00401\ttrain-error:0.07499+0.00844\ttrain-logloss:0.24842+0.00892\ttest-auc:0.91556+0.01306\ttest-error:0.12630+0.00605\ttest-logloss:0.36259+0.01447\n",
      "[24]\ttrain-auc:0.98190+0.00385\ttrain-error:0.07762+0.01339\ttrain-logloss:0.24224+0.00908\ttest-auc:0.91589+0.01298\ttest-error:0.12630+0.00605\ttest-logloss:0.35870+0.01570\n",
      "[25]\ttrain-auc:0.98211+0.00395\ttrain-error:0.07631+0.00924\ttrain-logloss:0.23451+0.00916\ttest-auc:0.91664+0.01286\ttest-error:0.12630+0.00605\ttest-logloss:0.35420+0.01570\n",
      "[26]\ttrain-auc:0.98233+0.00379\ttrain-error:0.07367+0.01297\ttrain-logloss:0.22789+0.00923\ttest-auc:0.91762+0.01196\ttest-error:0.12892+0.00698\ttest-logloss:0.34955+0.01623\n",
      "[27]\ttrain-auc:0.98300+0.00366\ttrain-error:0.06972+0.01333\ttrain-logloss:0.22626+0.00936\ttest-auc:0.91706+0.01240\ttest-error:0.12892+0.00698\ttest-logloss:0.34993+0.01699\n",
      "[28]\ttrain-auc:0.98317+0.00380\ttrain-error:0.07235+0.00974\ttrain-logloss:0.22026+0.00952\ttest-auc:0.91712+0.01169\ttest-error:0.12630+0.00605\ttest-logloss:0.34701+0.01711\n",
      "[29]\ttrain-auc:0.98331+0.00358\ttrain-error:0.07235+0.00974\ttrain-logloss:0.21471+0.00946\ttest-auc:0.91702+0.01126\ttest-error:0.12630+0.00605\ttest-logloss:0.34434+0.01747\n",
      "[30]\ttrain-auc:0.98344+0.00332\ttrain-error:0.07104+0.01153\ttrain-logloss:0.21040+0.00947\ttest-auc:0.91695+0.01176\ttest-error:0.12892+0.00698\ttest-logloss:0.34372+0.01919\n",
      "[31]\ttrain-auc:0.98404+0.00327\ttrain-error:0.06841+0.00975\ttrain-logloss:0.20548+0.00915\ttest-auc:0.91737+0.01149\ttest-error:0.12630+0.00605\ttest-logloss:0.34264+0.01966\n",
      "[32]\ttrain-auc:0.98460+0.00317\ttrain-error:0.06709+0.01153\ttrain-logloss:0.20391+0.00918\ttest-auc:0.91571+0.01218\ttest-error:0.13423+0.00689\ttest-logloss:0.34336+0.02099\n",
      "[33]\ttrain-auc:0.98446+0.00305\ttrain-error:0.06841+0.00975\ttrain-logloss:0.19979+0.00922\ttest-auc:0.91528+0.01222\ttest-error:0.13161+0.00795\ttest-logloss:0.34277+0.02168\n",
      "[34]\ttrain-auc:0.98498+0.00318\ttrain-error:0.06578+0.01029\ttrain-logloss:0.19837+0.00950\ttest-auc:0.91528+0.01210\ttest-error:0.12630+0.00605\ttest-logloss:0.34243+0.02082\n",
      "[35]\ttrain-auc:0.98527+0.00324\ttrain-error:0.06710+0.00845\ttrain-logloss:0.19442+0.00968\ttest-auc:0.91587+0.01214\ttest-error:0.12630+0.00605\ttest-logloss:0.34212+0.02202\n",
      "[36]\ttrain-auc:0.98556+0.00310\ttrain-error:0.06709+0.01153\ttrain-logloss:0.19333+0.00970\ttest-auc:0.91529+0.01257\ttest-error:0.12630+0.00605\ttest-logloss:0.34318+0.02179\n",
      "[37]\ttrain-auc:0.98579+0.00304\ttrain-error:0.06578+0.00801\ttrain-logloss:0.18900+0.00968\ttest-auc:0.91665+0.01353\ttest-error:0.12630+0.00605\ttest-logloss:0.34119+0.02241\n",
      "[38]\ttrain-auc:0.98594+0.00291\ttrain-error:0.06314+0.00956\ttrain-logloss:0.18575+0.00985\ttest-auc:0.91649+0.01400\ttest-error:0.12630+0.00605\ttest-logloss:0.34102+0.02383\n",
      "[39]\ttrain-auc:0.98592+0.00315\ttrain-error:0.06314+0.00956\ttrain-logloss:0.18281+0.01025\ttest-auc:0.91665+0.01368\ttest-error:0.12630+0.00605\ttest-logloss:0.34168+0.02479\n",
      "[40]\ttrain-auc:0.98627+0.00286\ttrain-error:0.06314+0.00956\ttrain-logloss:0.18194+0.01006\ttest-auc:0.91675+0.01392\ttest-error:0.13155+0.00940\ttest-logloss:0.34132+0.02426\n",
      "[41]\ttrain-auc:0.98669+0.00293\ttrain-error:0.06314+0.00956\ttrain-logloss:0.17844+0.01037\ttest-auc:0.91624+0.01420\ttest-error:0.13155+0.00940\ttest-logloss:0.34210+0.02539\n",
      "[42]\ttrain-auc:0.98713+0.00296\ttrain-error:0.06314+0.00956\ttrain-logloss:0.17743+0.01048\ttest-auc:0.91775+0.01406\ttest-error:0.12367+0.00721\ttest-logloss:0.34084+0.02502\n",
      "[43]\ttrain-auc:0.98719+0.00300\ttrain-error:0.06314+0.00956\ttrain-logloss:0.17469+0.01036\ttest-auc:0.91766+0.01392\ttest-error:0.12367+0.00721\ttest-logloss:0.33984+0.02572\n",
      "[44]\ttrain-auc:0.98742+0.00312\ttrain-error:0.06314+0.00956\ttrain-logloss:0.17187+0.01064\ttest-auc:0.91697+0.01336\ttest-error:0.12367+0.00721\ttest-logloss:0.34063+0.02650\n",
      "[45]\ttrain-auc:0.98753+0.00310\ttrain-error:0.06314+0.00956\ttrain-logloss:0.16965+0.01058\ttest-auc:0.91706+0.01341\ttest-error:0.12630+0.01092\ttest-logloss:0.34205+0.02762\n",
      "[46]\ttrain-auc:0.98748+0.00301\ttrain-error:0.06314+0.00956\ttrain-logloss:0.16771+0.01093\ttest-auc:0.91740+0.01368\ttest-error:0.12630+0.01092\ttest-logloss:0.34224+0.02864\n",
      "[47]\ttrain-auc:0.98755+0.00314\ttrain-error:0.06314+0.00956\ttrain-logloss:0.16626+0.01116\ttest-auc:0.91698+0.01339\ttest-error:0.12894+0.00974\ttest-logloss:0.34605+0.03027\n",
      "[48]\ttrain-auc:0.98769+0.00313\ttrain-error:0.06314+0.00956\ttrain-logloss:0.16419+0.01106\ttest-auc:0.91705+0.01377\ttest-error:0.12894+0.00974\ttest-logloss:0.34864+0.02418\n",
      "[49]\ttrain-auc:0.98780+0.00326\ttrain-error:0.06314+0.00956\ttrain-logloss:0.16214+0.01131\ttest-auc:0.91630+0.01416\ttest-error:0.12894+0.00974\ttest-logloss:0.43214+0.09091\n",
      "[50]\ttrain-auc:0.98801+0.00345\ttrain-error:0.06314+0.00956\ttrain-logloss:0.16076+0.01132\ttest-auc:0.91663+0.01387\ttest-error:0.12894+0.00974\ttest-logloss:0.35034+0.03005\n",
      "[51]\ttrain-auc:0.98811+0.00320\ttrain-error:0.06314+0.00956\ttrain-logloss:0.15965+0.01137\ttest-auc:0.91657+0.01513\ttest-error:0.13157+0.00720\ttest-logloss:0.35450+0.02370\n",
      "[52]\ttrain-auc:0.98811+0.00330\ttrain-error:0.06314+0.00956\ttrain-logloss:0.15913+0.01144\ttest-auc:0.91647+0.01494\ttest-error:0.12630+0.01092\ttest-logloss:0.43011+0.09108\n",
      "[53]\ttrain-auc:0.98836+0.00320\ttrain-error:0.06051+0.01024\ttrain-logloss:0.15855+0.01150\ttest-auc:0.91657+0.01524\ttest-error:0.12894+0.00974\ttest-logloss:0.43214+0.08911\n",
      "Tuned Results:\n",
      "train-auc-mean        0.987192\n",
      "train-auc-std         0.002996\n",
      "train-error-mean      0.063143\n",
      "train-error-std       0.009561\n",
      "train-logloss-mean    0.174693\n",
      "train-logloss-std     0.010365\n",
      "test-auc-mean         0.917660\n",
      "test-auc-std          0.013919\n",
      "test-error-mean       0.123672\n",
      "test-error-std        0.007213\n",
      "test-logloss-mean     0.339838\n",
      "test-logloss-std      0.025716\n",
      "Name: 43, dtype: float64\n"
     ]
    }
   ],
   "source": [
    "best_params = random_search_xgboost_model.best_params_\n",
    "\n",
    "# Re-run XGBoost CV with early stopping and additional metrics\n",
    "xgb_random_search_tuned_results = xgb.cv(\n",
    "    best_params, dtrain_clf,\n",
    "    num_boost_round=1000,\n",
    "    nfold=3,\n",
    "    early_stopping_rounds=10,\n",
    "    metrics=[\"auc\", \"error\", \"logloss\"],\n",
    "    verbose_eval=True\n",
    ")\n",
    "\n",
    "# Display tuned results\n",
    "print(\"Tuned Results:\")\n",
    "print(xgb_random_search_tuned_results.iloc[-1])"
   ],
   "metadata": {
    "collapsed": false,
    "ExecuteTime": {
     "end_time": "2023-12-19T07:19:36.146521300Z",
     "start_time": "2023-12-19T07:19:35.825836200Z"
    }
   }
  },
  {
   "cell_type": "markdown",
   "source": [
    "Performing GridSearch with default parameters"
   ],
   "metadata": {
    "collapsed": false
   }
  },
  {
   "cell_type": "code",
   "execution_count": 7,
   "outputs": [
    {
     "name": "stdout",
     "output_type": "stream",
     "text": [
      "Fitting 5 folds for each of 336 candidates, totalling 1680 fits\n",
      "Best Hyperparameters: {'colsample_bytree': 0.9, 'eta': 0.1, 'max_depth': 7, 'min_child_weight': 5, 'subsample': 0.9}\n",
      "Accuracy: 0.8536585365853658\n",
      "Precision: 0.9285714285714286\n",
      "Recall: 0.8125\n"
     ]
    }
   ],
   "source": [
    "# Create the grid search object\n",
    "grid_search_xgboost_model = GridSearchCV(\n",
    "    xgb_clf, param_grid, cv=5, scoring='neg_log_loss', verbose=1\n",
    ")\n",
    "\n",
    "# Fit the model on the training data\n",
    "grid_search_xgboost_model.fit(X_train, y_train)\n",
    "\n",
    "# Display the best hyperparameters\n",
    "print(\"Best Hyperparameters:\", grid_search_xgboost_model.best_params_)\n",
    "\n",
    "# Get the best model\n",
    "best_grid_search_xgb_model = grid_search_xgboost_model.best_estimator_\n",
    "\n",
    "# Evaluate the model with additional metrics\n",
    "predictions = best_grid_search_xgb_model.predict(X_test)\n",
    "print(\"Accuracy:\", accuracy_score(y_test, predictions))\n",
    "print(\"Precision:\", precision_score(y_test, predictions))\n",
    "print(\"Recall:\", recall_score(y_test, predictions))\n"
   ],
   "metadata": {
    "collapsed": false,
    "ExecuteTime": {
     "end_time": "2023-12-19T07:20:34.619526500Z",
     "start_time": "2023-12-19T07:19:36.146521300Z"
    }
   }
  },
  {
   "cell_type": "markdown",
   "source": [
    "Using parameters from Grid Search"
   ],
   "metadata": {
    "collapsed": false
   }
  },
  {
   "cell_type": "code",
   "execution_count": 8,
   "outputs": [
    {
     "name": "stdout",
     "output_type": "stream",
     "text": [
      "[0]\ttrain-logloss:0.67177+0.00306\ttrain-auc:0.75574+0.02425\ttrain-error:0.36645+0.03862\ttest-logloss:0.68953+0.00295\ttest-auc:0.56633+0.06034\ttest-error:0.48421+0.00985\n",
      "[1]\ttrain-logloss:0.65553+0.00397\ttrain-auc:0.78045+0.01764\ttrain-error:0.31711+0.01509\ttest-logloss:0.68727+0.00555\ttest-auc:0.57820+0.05632\ttest-error:0.50000+0.03627\n",
      "[2]\ttrain-logloss:0.64100+0.00583\ttrain-auc:0.79210+0.01935\ttrain-error:0.30132+0.01914\ttest-logloss:0.68347+0.00773\ttest-auc:0.58582+0.04640\ttest-error:0.47895+0.03777\n",
      "[3]\ttrain-logloss:0.58130+0.00582\ttrain-auc:0.94444+0.00787\ttrain-error:0.14408+0.01492\ttest-logloss:0.62658+0.00645\ttest-auc:0.81905+0.04534\ttest-error:0.29211+0.04588\n",
      "[4]\ttrain-logloss:0.53154+0.00595\ttrain-auc:0.96508+0.00702\ttrain-error:0.09671+0.01224\ttest-logloss:0.57795+0.00710\ttest-auc:0.88623+0.03453\ttest-error:0.17632+0.03287\n",
      "[5]\ttrain-logloss:0.49479+0.00482\ttrain-auc:0.97278+0.00522\ttrain-error:0.08355+0.00767\ttest-logloss:0.54399+0.00769\ttest-auc:0.90888+0.02793\ttest-error:0.13947+0.02138\n",
      "[6]\ttrain-logloss:0.48583+0.00550\ttrain-auc:0.97185+0.00662\ttrain-error:0.08421+0.00897\ttest-logloss:0.54288+0.00670\ttest-auc:0.89720+0.03006\ttest-error:0.15000+0.02440\n",
      "[7]\ttrain-logloss:0.45522+0.00576\ttrain-auc:0.97491+0.00493\ttrain-error:0.08421+0.00534\ttest-logloss:0.51505+0.00781\ttest-auc:0.91078+0.02312\ttest-error:0.13684+0.02138\n",
      "[8]\ttrain-logloss:0.44696+0.00494\ttrain-auc:0.97551+0.00386\ttrain-error:0.08092+0.00610\ttest-logloss:0.51335+0.00879\ttest-auc:0.90652+0.02624\ttest-error:0.14737+0.02551\n",
      "[9]\ttrain-logloss:0.44078+0.00466\ttrain-auc:0.97511+0.00482\ttrain-error:0.08158+0.00436\ttest-logloss:0.51122+0.00986\ttest-auc:0.90747+0.02471\ttest-error:0.15526+0.03158\n",
      "[10]\ttrain-logloss:0.41054+0.00532\ttrain-auc:0.97617+0.00455\ttrain-error:0.08092+0.00335\ttest-logloss:0.48328+0.01132\ttest-auc:0.91183+0.02501\ttest-error:0.13947+0.01785\n",
      "[11]\ttrain-logloss:0.38781+0.00529\ttrain-auc:0.97794+0.00294\ttrain-error:0.08158+0.00384\ttest-logloss:0.46426+0.01160\ttest-auc:0.91639+0.02040\ttest-error:0.14474+0.02354\n",
      "[12]\ttrain-logloss:0.36404+0.00584\ttrain-auc:0.97880+0.00245\ttrain-error:0.08158+0.00384\ttest-logloss:0.44292+0.01356\ttest-auc:0.92227+0.02140\ttest-error:0.14474+0.03114\n",
      "[13]\ttrain-logloss:0.35889+0.00598\ttrain-auc:0.97960+0.00217\ttrain-error:0.07895+0.00550\ttest-logloss:0.44225+0.01370\ttest-auc:0.91892+0.02254\ttest-error:0.15000+0.02294\n",
      "[14]\ttrain-logloss:0.33894+0.00586\ttrain-auc:0.97995+0.00206\ttrain-error:0.07961+0.00566\ttest-logloss:0.42493+0.01592\ttest-auc:0.92310+0.02272\ttest-error:0.14211+0.02810\n",
      "[15]\ttrain-logloss:0.32145+0.00609\ttrain-auc:0.98018+0.00201\ttrain-error:0.07763+0.00534\ttest-logloss:0.40872+0.01855\ttest-auc:0.92563+0.02152\ttest-error:0.13158+0.02883\n",
      "[16]\ttrain-logloss:0.30551+0.00651\ttrain-auc:0.98048+0.00199\ttrain-error:0.07697+0.00446\ttest-logloss:0.39516+0.02115\ttest-auc:0.92687+0.02279\ttest-error:0.13684+0.03069\n",
      "[17]\ttrain-logloss:0.29316+0.00679\ttrain-auc:0.98108+0.00191\ttrain-error:0.07697+0.00446\ttest-logloss:0.38554+0.02277\ttest-auc:0.92661+0.02093\ttest-error:0.13158+0.03627\n",
      "[18]\ttrain-logloss:0.28925+0.00716\ttrain-auc:0.98185+0.00239\ttrain-error:0.07632+0.00566\ttest-logloss:0.38500+0.02257\ttest-auc:0.92520+0.02175\ttest-error:0.13421+0.03158\n",
      "[19]\ttrain-logloss:0.28564+0.00688\ttrain-auc:0.98211+0.00219\ttrain-error:0.07763+0.00677\ttest-logloss:0.38372+0.02310\ttest-auc:0.92679+0.01899\ttest-error:0.14211+0.02810\n",
      "[20]\ttrain-logloss:0.27350+0.00700\ttrain-auc:0.98274+0.00216\ttrain-error:0.07632+0.00762\ttest-logloss:0.37523+0.02438\ttest-auc:0.92678+0.02015\ttest-error:0.13421+0.03158\n",
      "[21]\ttrain-logloss:0.26391+0.00729\ttrain-auc:0.98269+0.00199\ttrain-error:0.07566+0.00721\ttest-logloss:0.36962+0.02517\ttest-auc:0.92580+0.01970\ttest-error:0.13158+0.02883\n",
      "[22]\ttrain-logloss:0.25355+0.00779\ttrain-auc:0.98286+0.00219\ttrain-error:0.07566+0.00360\ttest-logloss:0.36227+0.02652\ttest-auc:0.92653+0.01853\ttest-error:0.13421+0.02412\n",
      "[23]\ttrain-logloss:0.24452+0.00793\ttrain-auc:0.98308+0.00202\ttrain-error:0.07434+0.00446\ttest-logloss:0.35512+0.02662\ttest-auc:0.92680+0.01752\ttest-error:0.13684+0.01969\n",
      "[24]\ttrain-logloss:0.23642+0.00833\ttrain-auc:0.98321+0.00188\ttrain-error:0.07434+0.00446\ttest-logloss:0.34984+0.02814\ttest-auc:0.92678+0.01801\ttest-error:0.13684+0.02440\n",
      "[25]\ttrain-logloss:0.22896+0.00826\ttrain-auc:0.98337+0.00174\ttrain-error:0.07500+0.00384\ttest-logloss:0.34454+0.02930\ttest-auc:0.92874+0.01919\ttest-error:0.13684+0.02440\n",
      "Tuned Results:\n",
      "train-logloss-mean    0.321448\n",
      "train-logloss-std     0.006086\n",
      "train-auc-mean        0.980180\n",
      "train-auc-std         0.002014\n",
      "train-error-mean      0.077632\n",
      "train-error-std       0.005345\n",
      "test-logloss-mean     0.408719\n",
      "test-logloss-std      0.018546\n",
      "test-auc-mean         0.925635\n",
      "test-auc-std          0.021522\n",
      "test-error-mean       0.131579\n",
      "test-error-std        0.028828\n",
      "Name: 15, dtype: float64\n"
     ]
    }
   ],
   "source": [
    "# Get the best parameters from  grid search\n",
    "best_params = grid_search_xgboost_model.best_params_\n",
    "\n",
    "# Re-run XGBoost CV with early stopping and additional metrics\n",
    "xgb_grid_search_tuned_results = xgb.cv(\n",
    "    best_params, dtrain_clf,\n",
    "    num_boost_round=1000,\n",
    "    nfold=5,\n",
    "    early_stopping_rounds=10,\n",
    "    metrics=[\"logloss\", \"auc\", \"error\"],\n",
    "    verbose_eval=True\n",
    ")\n",
    "\n",
    "# Display tuned results\n",
    "print(\"Tuned Results:\")\n",
    "print(xgb_grid_search_tuned_results.iloc[-1])\n"
   ],
   "metadata": {
    "collapsed": false,
    "ExecuteTime": {
     "end_time": "2023-12-19T07:20:34.819616300Z",
     "start_time": "2023-12-19T07:20:34.619526500Z"
    }
   }
  },
  {
   "cell_type": "code",
   "execution_count": 8,
   "outputs": [],
   "source": [],
   "metadata": {
    "collapsed": false,
    "ExecuteTime": {
     "end_time": "2023-12-19T07:20:34.839653600Z",
     "start_time": "2023-12-19T07:20:34.819616300Z"
    }
   }
  }
 ],
 "metadata": {
  "kernelspec": {
   "display_name": "Python 3",
   "language": "python",
   "name": "python3"
  },
  "language_info": {
   "codemirror_mode": {
    "name": "ipython",
    "version": 2
   },
   "file_extension": ".py",
   "mimetype": "text/x-python",
   "name": "python",
   "nbconvert_exporter": "python",
   "pygments_lexer": "ipython2",
   "version": "2.7.6"
  }
 },
 "nbformat": 4,
 "nbformat_minor": 0
}
