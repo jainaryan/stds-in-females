{
 "cells": [
  {
   "cell_type": "code",
   "execution_count": 1,
   "metadata": {
    "collapsed": true,
    "ExecuteTime": {
     "end_time": "2023-12-13T06:01:30.087780100Z",
     "start_time": "2023-12-13T06:01:27.648143900Z"
    }
   },
   "outputs": [],
   "source": [
    "import xgboost as xgb\n",
    "\n",
    "from sklearn.model_selection import train_test_split\n",
    "from sklearn.metrics import accuracy_score\n",
    "import numpy as np\n",
    "import pandas as pd\n",
    "from sklearn.metrics import classification_report\n",
    "from sklearn.preprocessing import StandardScaler\n",
    "from sklearn.svm import SVC\n",
    "import matplotlib as plt\n",
    "from sklearn.model_selection import train_test_split, GridSearchCV"
   ]
  },
  {
   "cell_type": "code",
   "execution_count": 2,
   "outputs": [],
   "source": [
    "file_path = './data./Data Set for Chapter - Sheet1.csv'\n",
    "df = pd.read_csv(file_path)\n",
    "df.dropna(inplace=True)\n",
    "\n",
    "x = df.loc[:,'Age':'Testing']\n",
    "y = df['STD Status']\n",
    "\n",
    "scaler = StandardScaler()\n",
    "x = scaler.fit_transform(x)\n",
    "\n",
    "# Split dataset into training set and test set\n",
    "X_train, X_test, y_train, y_test = train_test_split(x,y,test_size=0.3,random_state=41) # 70% training and 30% test\n"
   ],
   "metadata": {
    "collapsed": false,
    "ExecuteTime": {
     "end_time": "2023-12-13T06:01:30.125565300Z",
     "start_time": "2023-12-13T06:01:30.087780100Z"
    }
   }
  },
  {
   "cell_type": "code",
   "execution_count": 3,
   "outputs": [
    {
     "name": "stdout",
     "output_type": "stream",
     "text": [
      "Fitting 5 folds for each of 336 candidates, totalling 1680 fits\n",
      "Best Hyperparameters: {'colsample_bytree': 0.9, 'eta': 0.1, 'max_depth': 7, 'min_child_weight': 5, 'subsample': 0.9}\n",
      "[0]\ttrain-logloss:0.68311+0.00194\ttrain-auc:0.66468+0.01876\ttrain-error:0.44276+0.02917\ttest-logloss:0.68938+0.00433\ttest-auc:0.61051+0.08479\ttest-error:0.46053+0.07012\n",
      "[1]\ttrain-logloss:0.67542+0.00284\ttrain-auc:0.69199+0.01488\ttrain-error:0.38882+0.02627\ttest-logloss:0.68760+0.00545\ttest-auc:0.58474+0.04309\ttest-error:0.45263+0.03956\n",
      "[2]\ttrain-logloss:0.66859+0.00329\ttrain-auc:0.70038+0.00660\ttrain-error:0.38224+0.02602\ttest-logloss:0.68510+0.00804\ttest-auc:0.58616+0.06813\ttest-error:0.45789+0.03939\n",
      "[3]\ttrain-logloss:0.61107+0.00286\ttrain-auc:0.92454+0.00797\ttrain-error:0.19013+0.03618\ttest-logloss:0.62700+0.00414\ttest-auc:0.90289+0.04243\ttest-error:0.22895+0.06637\n",
      "[4]\ttrain-logloss:0.56342+0.00350\ttrain-auc:0.94350+0.00498\ttrain-error:0.10987+0.00738\ttest-logloss:0.57843+0.00364\ttest-auc:0.92015+0.03014\ttest-error:0.12895+0.03266\n",
      "[5]\ttrain-logloss:0.52900+0.00384\ttrain-auc:0.95140+0.00230\ttrain-error:0.10263+0.00789\ttest-logloss:0.54475+0.00580\ttest-auc:0.93380+0.01859\ttest-error:0.11842+0.03814\n",
      "[6]\ttrain-logloss:0.52441+0.00373\ttrain-auc:0.95164+0.00532\ttrain-error:0.10000+0.00492\ttest-logloss:0.54277+0.00544\ttest-auc:0.92533+0.02558\ttest-error:0.10526+0.02038\n",
      "[7]\ttrain-logloss:0.49526+0.00477\ttrain-auc:0.95296+0.00350\ttrain-error:0.10197+0.00690\ttest-logloss:0.51384+0.00720\ttest-auc:0.93399+0.01901\ttest-error:0.12105+0.04276\n",
      "[8]\ttrain-logloss:0.49121+0.00454\ttrain-auc:0.95501+0.00332\ttrain-error:0.10132+0.00603\ttest-logloss:0.51299+0.00758\ttest-auc:0.93336+0.01913\ttest-error:0.11842+0.03814\n",
      "[9]\ttrain-logloss:0.48802+0.00419\ttrain-auc:0.95408+0.00536\ttrain-error:0.09803+0.00566\ttest-logloss:0.51179+0.00706\ttest-auc:0.92712+0.02407\ttest-error:0.10789+0.02264\n",
      "[10]\ttrain-logloss:0.45901+0.00497\ttrain-auc:0.95666+0.00303\ttrain-error:0.09868+0.00510\ttest-logloss:0.48252+0.00961\ttest-auc:0.93360+0.01936\ttest-error:0.10789+0.02264\n",
      "[11]\ttrain-logloss:0.43792+0.00548\ttrain-auc:0.95700+0.00292\ttrain-error:0.10132+0.00603\ttest-logloss:0.46252+0.01135\ttest-auc:0.93392+0.01953\ttest-error:0.11842+0.03814\n",
      "[12]\ttrain-logloss:0.41609+0.00617\ttrain-auc:0.95761+0.00283\ttrain-error:0.10132+0.00603\ttest-logloss:0.44051+0.01350\ttest-auc:0.93518+0.01904\ttest-error:0.11842+0.03814\n",
      "[13]\ttrain-logloss:0.41326+0.00609\ttrain-auc:0.95873+0.00240\ttrain-error:0.10132+0.00603\ttest-logloss:0.43980+0.01302\ttest-auc:0.93405+0.01929\ttest-error:0.11842+0.03814\n",
      "[14]\ttrain-logloss:0.39455+0.00633\ttrain-auc:0.95906+0.00265\ttrain-error:0.10132+0.00603\ttest-logloss:0.42067+0.01541\ttest-auc:0.93348+0.02006\ttest-error:0.11842+0.03814\n",
      "[15]\ttrain-logloss:0.37794+0.00663\ttrain-auc:0.95904+0.00305\ttrain-error:0.10132+0.00603\ttest-logloss:0.40358+0.01774\ttest-auc:0.93265+0.01860\ttest-error:0.11842+0.03814\n",
      "[16]\ttrain-logloss:0.36362+0.00707\ttrain-auc:0.95894+0.00310\ttrain-error:0.10132+0.00603\ttest-logloss:0.38941+0.01972\ttest-auc:0.93265+0.01797\ttest-error:0.11842+0.03814\n",
      "Tuned Results:\n",
      "train-logloss-mean    0.524414\n",
      "train-logloss-std     0.003725\n",
      "train-auc-mean        0.951644\n",
      "train-auc-std         0.005317\n",
      "train-error-mean      0.100000\n",
      "train-error-std       0.004923\n",
      "test-logloss-mean     0.542768\n",
      "test-logloss-std      0.005435\n",
      "test-auc-mean         0.925326\n",
      "test-auc-std          0.025580\n",
      "test-error-mean       0.105263\n",
      "test-error-std        0.020384\n",
      "Name: 6, dtype: float64\n"
     ]
    },
    {
     "name": "stderr",
     "output_type": "stream",
     "text": [
      "D:\\std-project\\stds-in-females\\venv\\lib\\site-packages\\xgboost\\core.py:160: UserWarning: [11:32:48] WARNING: C:\\buildkite-agent\\builds\\buildkite-windows-cpu-autoscaling-group-i-0750514818a16474a-1\\xgboost\\xgboost-ci-windows\\src\\learner.cc:742: \n",
      "Parameters: { \"enable_categorical\", \"missing\" } are not used.\n",
      "\n",
      "  warnings.warn(smsg, UserWarning)\n"
     ]
    }
   ],
   "source": [
    "param_grid = {\n",
    "    'eta': [0.01, 0.1, 0.2,0.5],\n",
    "    'max_depth': [3, 5, 7, 9, 11, 15, 20],\n",
    "    'min_child_weight': [1, 5, 10],\n",
    "    'subsample': [0.8, 0.9],\n",
    "    'colsample_bytree': [0.8, 0.9]\n",
    "}\n",
    "# Create an XGBoost classifier\n",
    "xgb_clf = xgb.XGBClassifier(objective='binary:logistic', tree_method='hist', eval_metric=[\"logloss\", \"auc\", \"error\"])\n",
    "\n",
    "# Perform grid search\n",
    "grid_search = GridSearchCV(xgb_clf, param_grid, cv=5, scoring='neg_log_loss', verbose=1)\n",
    "grid_search.fit(X_train, y_train)\n",
    "\n",
    "# Display the best hyperparameters\n",
    "print(\"Best Hyperparameters:\", grid_search.best_params_)\n",
    "\n",
    "# Get the best model\n",
    "best_xgb_model = grid_search.best_estimator_\n",
    "\n",
    "# Convert the data to XGBoost DMatrix\n",
    "dtrain_clf = xgb.DMatrix(X_train, label=y_train)\n",
    "\n",
    "# Number of boosting rounds\n",
    "n_boosting_rounds = 1000\n",
    "\n",
    "# Re-run cross-validation with tuned hyperparameters\n",
    "results_tuned = xgb.cv(\n",
    "    best_xgb_model.get_params(), dtrain_clf,\n",
    "    num_boost_round=n_boosting_rounds,\n",
    "    nfold=5,\n",
    "    early_stopping_rounds=10,\n",
    "    metrics=[\"logloss\", \"auc\", \"error\"],\n",
    "    verbose_eval=True\n",
    ")\n",
    "\n",
    "# Display tuned results\n",
    "print(\"Tuned Results:\")\n",
    "print(results_tuned.iloc[-1])"
   ],
   "metadata": {
    "collapsed": false,
    "ExecuteTime": {
     "end_time": "2023-12-13T06:02:48.600612Z",
     "start_time": "2023-12-13T06:01:30.125565300Z"
    }
   }
  },
  {
   "cell_type": "code",
   "execution_count": 5,
   "outputs": [],
   "source": [
    "# Create classification matrices\n",
    "dtrain_clf = xgb.DMatrix(X_train, y_train, enable_categorical=True)\n",
    "dtest_clf = xgb.DMatrix(X_test, y_test, enable_categorical=True)"
   ],
   "metadata": {
    "collapsed": false,
    "ExecuteTime": {
     "end_time": "2023-12-13T06:02:48.645623300Z",
     "start_time": "2023-12-13T06:02:48.612966600Z"
    }
   }
  },
  {
   "cell_type": "code",
   "execution_count": 6,
   "outputs": [],
   "source": [
    "params = {\"objective\": \"binary:logistic\", \"tree_method\": \"hist\"}\n",
    "n = 1000\n",
    "\n",
    "results = xgb.cv(\n",
    "   params, dtrain_clf,\n",
    "   num_boost_round=n,\n",
    "   nfold=5,\n",
    "   metrics=[\"logloss\", \"auc\", \"error\"],\n",
    ")"
   ],
   "metadata": {
    "collapsed": false,
    "ExecuteTime": {
     "end_time": "2023-12-13T06:02:52.453586300Z",
     "start_time": "2023-12-13T06:02:48.625008700Z"
    }
   }
  },
  {
   "cell_type": "code",
   "execution_count": 7,
   "outputs": [
    {
     "data": {
      "text/plain": "Index(['train-logloss-mean', 'train-logloss-std', 'train-auc-mean',\n       'train-auc-std', 'train-error-mean', 'train-error-std',\n       'test-logloss-mean', 'test-logloss-std', 'test-auc-mean',\n       'test-auc-std', 'test-error-mean', 'test-error-std'],\n      dtype='object')"
     },
     "execution_count": 7,
     "metadata": {},
     "output_type": "execute_result"
    }
   ],
   "source": [
    "results.keys()"
   ],
   "metadata": {
    "collapsed": false,
    "ExecuteTime": {
     "end_time": "2023-12-13T06:02:52.472955300Z",
     "start_time": "2023-12-13T06:02:52.453586300Z"
    }
   }
  },
  {
   "cell_type": "code",
   "execution_count": 8,
   "outputs": [
    {
     "name": "stdout",
     "output_type": "stream",
     "text": [
      "Test Logloss: 0.3299284270621444\n",
      "Test AUC: 0.9242725993244194\n",
      "Test Error: 0.1236842105263158\n"
     ]
    }
   ],
   "source": [
    "test_logloss_mean = results['test-logloss-mean'].min()  # Minimize logloss\n",
    "test_auc_mean = results['test-auc-mean'].max()  # Maximize AUC\n",
    "test_error_mean = results['test-error-mean'].min()  # Minimize classification error\n",
    "\n",
    "# Print the results\n",
    "print(f\"Test Logloss: {test_logloss_mean}\")\n",
    "print(f\"Test AUC: {test_auc_mean}\")\n",
    "print(f\"Test Error: {test_error_mean}\")"
   ],
   "metadata": {
    "collapsed": false,
    "ExecuteTime": {
     "end_time": "2023-12-13T06:02:52.516771600Z",
     "start_time": "2023-12-13T06:02:52.472955300Z"
    }
   }
  },
  {
   "cell_type": "markdown",
   "source": [],
   "metadata": {
    "collapsed": false
   }
  },
  {
   "cell_type": "code",
   "execution_count": 8,
   "outputs": [],
   "source": [],
   "metadata": {
    "collapsed": false,
    "ExecuteTime": {
     "end_time": "2023-12-13T06:02:52.516771600Z",
     "start_time": "2023-12-13T06:02:52.488916500Z"
    }
   }
  }
 ],
 "metadata": {
  "kernelspec": {
   "display_name": "Python 3",
   "language": "python",
   "name": "python3"
  },
  "language_info": {
   "codemirror_mode": {
    "name": "ipython",
    "version": 2
   },
   "file_extension": ".py",
   "mimetype": "text/x-python",
   "name": "python",
   "nbconvert_exporter": "python",
   "pygments_lexer": "ipython2",
   "version": "2.7.6"
  }
 },
 "nbformat": 4,
 "nbformat_minor": 0
}
