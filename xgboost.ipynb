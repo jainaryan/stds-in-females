{
 "cells": [
  {
   "cell_type": "code",
   "execution_count": 1,
   "metadata": {
    "collapsed": true,
    "ExecuteTime": {
     "end_time": "2024-01-22T16:59:05.276834400Z",
     "start_time": "2024-01-22T16:59:03.525724400Z"
    }
   },
   "outputs": [],
   "source": [
    "import csv\n",
    "\n",
    "import xgboost as xgb\n",
    "\n",
    "from sklearn.model_selection import train_test_split, RandomizedSearchCV\n",
    "from sklearn.metrics import accuracy_score, recall_score, precision_score, confusion_matrix\n",
    "import numpy as np\n",
    "import pandas as pd\n",
    "from sklearn.metrics import classification_report\n",
    "from sklearn.preprocessing import StandardScaler\n",
    "from sklearn.svm import SVC\n",
    "import matplotlib as plt\n",
    "from sklearn.model_selection import train_test_split, GridSearchCV\n",
    "from sklearn.model_selection import GridSearchCV"
   ]
  },
  {
   "cell_type": "markdown",
   "source": [
    "Importing and processing the data"
   ],
   "metadata": {
    "collapsed": false
   }
  },
  {
   "cell_type": "code",
   "execution_count": 2,
   "outputs": [],
   "source": [
    "file_path = './data./Data Set for Chapter - Sheet1.csv'\n",
    "df = pd.read_csv(file_path)\n",
    "df.dropna(inplace=True)"
   ],
   "metadata": {
    "collapsed": false,
    "ExecuteTime": {
     "end_time": "2024-01-22T16:59:05.310879Z",
     "start_time": "2024-01-22T16:59:05.279832300Z"
    }
   }
  },
  {
   "cell_type": "markdown",
   "source": [
    "Splitting the data into train, test and cross validation sets"
   ],
   "metadata": {
    "collapsed": false
   }
  },
  {
   "cell_type": "code",
   "execution_count": 3,
   "outputs": [],
   "source": [
    "x = df.loc[:,'Age':'Testing']\n",
    "y = df['STD Status']\n",
    "\n",
    "scaler = StandardScaler()\n",
    "x = scaler.fit_transform(x)\n",
    "\n",
    "# Split dataset into training set and test set\n",
    "X_train, X_test, y_train, y_test = train_test_split(x,y,test_size=0.2,random_state=41) # 80% training and 20% test"
   ],
   "metadata": {
    "collapsed": false,
    "ExecuteTime": {
     "end_time": "2024-01-22T16:59:05.351912200Z",
     "start_time": "2024-01-22T16:59:05.311875700Z"
    }
   }
  },
  {
   "cell_type": "markdown",
   "source": [
    "Creating the XGBoost model"
   ],
   "metadata": {
    "collapsed": false
   }
  },
  {
   "cell_type": "code",
   "execution_count": 4,
   "outputs": [],
   "source": [
    "xgb_clf = xgb.XGBClassifier(\n",
    "    objective=\"binary:logistic\",\n",
    "    eta=0.1,\n",
    "    max_depth=5,\n",
    "    min_child_weight=5,\n",
    "    subsample=0.8,\n",
    "    colsample_bytree=0.9\n",
    ")\n",
    "\n",
    "# Create classification matrices\n",
    "dtrain_clf = xgb.DMatrix(X_train, y_train, enable_categorical=True)\n",
    "dtest_clf = xgb.DMatrix(X_test, y_test, enable_categorical=True)\n",
    "param_grid = { 'eta': [0.01, 0.1, 0.2,0.5],\n",
    "               'max_depth': [3, 5, 7, 9, 11, 15, 20],\n",
    "               'min_child_weight': [1,3,5,7,10],\n",
    "               'subsample': [0.7,0.8, 0.9],\n",
    "               'colsample_bytree': [0.7,0.8, 0.9]\n",
    "             }"
   ],
   "metadata": {
    "collapsed": false,
    "ExecuteTime": {
     "end_time": "2024-01-22T16:59:05.405451300Z",
     "start_time": "2024-01-22T16:59:05.344911300Z"
    }
   }
  },
  {
   "cell_type": "markdown",
   "source": [
    "Performing RandomSearch with initial parameters"
   ],
   "metadata": {
    "collapsed": false
   }
  },
  {
   "cell_type": "code",
   "execution_count": 5,
   "outputs": [
    {
     "name": "stdout",
     "output_type": "stream",
     "text": [
      "Fitting 5 folds for each of 100 candidates, totalling 500 fits\n",
      "Best Hyperparameters: {'subsample': 0.8, 'min_child_weight': 5, 'max_depth': 5, 'eta': 0.1, 'colsample_bytree': 0.7}\n",
      "Accuracy: 0.8807339449541285\n",
      "Precision: 0.9444444444444444\n",
      "Recall: 0.8360655737704918\n"
     ]
    }
   ],
   "source": [
    "random_search_xgboost_model = RandomizedSearchCV(\n",
    "    xgb_clf, param_grid, cv=5, scoring='neg_log_loss', n_iter=100, verbose=1\n",
    ")\n",
    "# Fit the model on the training data\n",
    "random_search_xgboost_model.fit(X_train, y_train)\n",
    "\n",
    "# Display the best hyperparameters\n",
    "print(\"Best Hyperparameters:\", random_search_xgboost_model.best_params_)\n",
    "\n",
    "# Get the best model\n",
    "best_random_search_xgb_model = random_search_xgboost_model.best_estimator_\n",
    "\n",
    "# Evaluate the model with additional metrics\n",
    "random_predictions = best_random_search_xgb_model.predict(X_test)\n",
    "random_search_accuracy = accuracy_score(y_test, random_predictions)\n",
    "print(\"Accuracy:\", random_search_accuracy)\n",
    "print(\"Precision:\", precision_score(y_test, random_predictions))\n",
    "print(\"Recall:\", recall_score(y_test, random_predictions))"
   ],
   "metadata": {
    "collapsed": false,
    "ExecuteTime": {
     "end_time": "2024-01-22T16:59:20.214107200Z",
     "start_time": "2024-01-22T16:59:05.407439800Z"
    }
   }
  },
  {
   "cell_type": "markdown",
   "source": [
    "Using the parameters from Random Search"
   ],
   "metadata": {
    "collapsed": false
   }
  },
  {
   "cell_type": "code",
   "execution_count": 6,
   "outputs": [
    {
     "name": "stdout",
     "output_type": "stream",
     "text": [
      "[0]\ttrain-auc:0.66342+0.01891\ttrain-error:0.40115+0.02524\ttrain-logloss:0.68071+0.00041\ttest-auc:0.53902+0.03235\ttest-error:0.45287+0.01417\ttest-logloss:0.69047+0.00204\n",
      "[1]\ttrain-auc:0.71865+0.00929\ttrain-error:0.36667+0.02834\ttrain-logloss:0.66882+0.00093\ttest-auc:0.55826+0.01880\ttest-error:0.45057+0.02661\ttest-logloss:0.68707+0.00396\n",
      "[2]\ttrain-auc:0.74022+0.00608\ttrain-error:0.34253+0.01331\ttrain-logloss:0.65823+0.00160\ttest-auc:0.54362+0.02596\ttest-error:0.45977+0.03995\ttest-logloss:0.68970+0.00384\n",
      "[3]\ttrain-auc:0.93566+0.00228\ttrain-error:0.17471+0.02661\ttrain-logloss:0.59930+0.00252\ttest-auc:0.83375+0.00922\ttest-error:0.28736+0.03441\ttest-logloss:0.63056+0.00264\n",
      "[4]\ttrain-auc:0.93092+0.00740\ttrain-error:0.17586+0.02030\ttrain-logloss:0.59259+0.00211\ttest-auc:0.82648+0.00903\ttest-error:0.28736+0.01810\ttest-logloss:0.62718+0.00196\n",
      "[5]\ttrain-auc:0.96340+0.00573\ttrain-error:0.11494+0.01270\ttrain-logloss:0.54939+0.00531\ttest-auc:0.88925+0.00670\ttest-error:0.20460+0.02539\ttest-logloss:0.58864+0.00424\n",
      "[6]\ttrain-auc:0.96175+0.00581\ttrain-error:0.12414+0.01713\ttrain-logloss:0.54324+0.00452\ttest-auc:0.88304+0.01350\ttest-error:0.22069+0.03135\ttest-logloss:0.58732+0.00531\n",
      "[7]\ttrain-auc:0.96521+0.00370\ttrain-error:0.10345+0.01490\ttrain-logloss:0.50836+0.00709\ttest-auc:0.90952+0.01584\ttest-error:0.16552+0.01490\ttest-logloss:0.55244+0.00633\n",
      "[8]\ttrain-auc:0.96670+0.00606\ttrain-error:0.10345+0.01490\ttrain-logloss:0.50270+0.00608\ttest-auc:0.89860+0.00932\ttest-error:0.18161+0.01978\ttest-logloss:0.55277+0.00605\n",
      "[9]\ttrain-auc:0.96507+0.00637\ttrain-error:0.10460+0.02132\ttrain-logloss:0.49619+0.00595\ttest-auc:0.89464+0.01134\ttest-error:0.19540+0.03299\ttest-logloss:0.55091+0.00680\n",
      "[10]\ttrain-auc:0.96860+0.00468\ttrain-error:0.09655+0.01015\ttrain-logloss:0.46109+0.00651\ttest-auc:0.91375+0.01143\ttest-error:0.15632+0.01626\ttest-logloss:0.51542+0.00642\n",
      "[11]\ttrain-auc:0.96917+0.00379\ttrain-error:0.10000+0.00745\ttrain-logloss:0.43584+0.00912\ttest-auc:0.92016+0.01707\ttest-error:0.14253+0.00860\ttest-logloss:0.49089+0.00793\n",
      "[12]\ttrain-auc:0.97059+0.00373\ttrain-error:0.10000+0.00745\ttrain-logloss:0.40926+0.00950\ttest-auc:0.92061+0.01563\ttest-error:0.13333+0.01172\ttest-logloss:0.46565+0.00897\n",
      "[13]\ttrain-auc:0.97094+0.00371\ttrain-error:0.09770+0.00905\ttrain-logloss:0.40515+0.00975\ttest-auc:0.91897+0.01441\ttest-error:0.13793+0.00000\ttest-logloss:0.46588+0.00821\n",
      "[14]\ttrain-auc:0.97122+0.00331\ttrain-error:0.09770+0.00650\ttrain-logloss:0.38334+0.00991\ttest-auc:0.92164+0.01429\ttest-error:0.13563+0.00650\ttest-logloss:0.44469+0.00977\n",
      "[15]\ttrain-auc:0.97150+0.00306\ttrain-error:0.09885+0.00860\ttrain-logloss:0.36725+0.01030\ttest-auc:0.92246+0.01787\ttest-error:0.11724+0.01490\ttest-logloss:0.43049+0.01242\n",
      "[16]\ttrain-auc:0.97153+0.00319\ttrain-error:0.09655+0.00563\ttrain-logloss:0.35022+0.01052\ttest-auc:0.92285+0.01669\ttest-error:0.12184+0.01810\ttest-logloss:0.41417+0.01245\n",
      "[17]\ttrain-auc:0.97159+0.00292\ttrain-error:0.10000+0.00488\ttrain-logloss:0.33729+0.01146\ttest-auc:0.92405+0.01860\ttest-error:0.11954+0.02276\ttest-logloss:0.40337+0.01382\n",
      "[18]\ttrain-auc:0.97215+0.00295\ttrain-error:0.09540+0.00586\ttrain-logloss:0.33378+0.01151\ttest-auc:0.92393+0.01786\ttest-error:0.12184+0.02344\ttest-logloss:0.40130+0.01310\n",
      "[19]\ttrain-auc:0.97339+0.00274\ttrain-error:0.09540+0.00586\ttrain-logloss:0.33112+0.01113\ttest-auc:0.92260+0.01637\ttest-error:0.12644+0.01720\ttest-logloss:0.40091+0.01276\n",
      "[20]\ttrain-auc:0.97336+0.00216\ttrain-error:0.09655+0.00975\ttrain-logloss:0.31750+0.01058\ttest-auc:0.92445+0.01477\ttest-error:0.13103+0.00563\ttest-logloss:0.38971+0.01424\n",
      "[21]\ttrain-auc:0.97393+0.00279\ttrain-error:0.09655+0.00745\ttrain-logloss:0.30692+0.01164\ttest-auc:0.92374+0.01669\ttest-error:0.13333+0.00860\ttest-logloss:0.38367+0.01664\n",
      "[22]\ttrain-auc:0.97455+0.00262\ttrain-error:0.09655+0.00745\ttrain-logloss:0.30519+0.01142\ttest-auc:0.92311+0.01483\ttest-error:0.13563+0.01172\ttest-logloss:0.38229+0.01590\n",
      "[23]\ttrain-auc:0.97514+0.00247\ttrain-error:0.09540+0.00860\ttrain-logloss:0.30364+0.01144\ttest-auc:0.92285+0.01572\ttest-error:0.13563+0.00650\ttest-logloss:0.38209+0.01619\n",
      "[24]\ttrain-auc:0.97495+0.00304\ttrain-error:0.09655+0.00745\ttrain-logloss:0.29449+0.01169\ttest-auc:0.92335+0.01840\ttest-error:0.12874+0.00325\ttest-logloss:0.37449+0.01910\n",
      "[25]\ttrain-auc:0.97504+0.00297\ttrain-error:0.09770+0.00905\ttrain-logloss:0.28425+0.01157\ttest-auc:0.92380+0.01793\ttest-error:0.12644+0.00325\ttest-logloss:0.36655+0.01975\n",
      "[26]\ttrain-auc:0.97552+0.00296\ttrain-error:0.09655+0.00845\ttrain-logloss:0.28185+0.01145\ttest-auc:0.92304+0.01681\ttest-error:0.13333+0.00860\ttest-logloss:0.36655+0.01987\n",
      "[27]\ttrain-auc:0.97585+0.00309\ttrain-error:0.09425+0.00586\ttrain-logloss:0.28059+0.01146\ttest-auc:0.92202+0.01605\ttest-error:0.13333+0.00860\ttest-logloss:0.36751+0.01950\n",
      "[28]\ttrain-auc:0.97579+0.00325\ttrain-error:0.09080+0.00709\ttrain-logloss:0.27968+0.01173\ttest-auc:0.92279+0.01713\ttest-error:0.13103+0.00563\ttest-logloss:0.36613+0.01940\n",
      "[29]\ttrain-auc:0.97550+0.00315\ttrain-error:0.08966+0.00745\ttrain-logloss:0.27059+0.01202\ttest-auc:0.92234+0.01605\ttest-error:0.13103+0.00563\ttest-logloss:0.35945+0.02081\n",
      "[30]\ttrain-auc:0.97614+0.00369\ttrain-error:0.09080+0.00905\ttrain-logloss:0.26315+0.01192\ttest-auc:0.92190+0.01754\ttest-error:0.12414+0.01126\ttest-logloss:0.35541+0.02240\n",
      "[31]\ttrain-auc:0.97635+0.00352\ttrain-error:0.09080+0.00905\ttrain-logloss:0.25616+0.01196\ttest-auc:0.92234+0.01874\ttest-error:0.11724+0.02030\ttest-logloss:0.35031+0.02412\n",
      "[32]\ttrain-auc:0.97662+0.00339\ttrain-error:0.09080+0.00905\ttrain-logloss:0.25483+0.01169\ttest-auc:0.92298+0.01846\ttest-error:0.11954+0.01720\ttest-logloss:0.34994+0.02418\n",
      "[33]\ttrain-auc:0.97678+0.00336\ttrain-error:0.08736+0.00905\ttrain-logloss:0.24827+0.01223\ttest-auc:0.92413+0.01865\ttest-error:0.12414+0.01126\ttest-logloss:0.34665+0.02494\n",
      "[34]\ttrain-auc:0.97735+0.00318\ttrain-error:0.08736+0.00650\ttrain-logloss:0.24693+0.01199\ttest-auc:0.92221+0.01844\ttest-error:0.12184+0.01417\ttest-logloss:0.34681+0.02489\n",
      "[35]\ttrain-auc:0.97748+0.00286\ttrain-error:0.08736+0.00650\ttrain-logloss:0.24113+0.01225\ttest-auc:0.92374+0.01895\ttest-error:0.12184+0.01417\ttest-logloss:0.34198+0.02583\n",
      "[36]\ttrain-auc:0.97776+0.00302\ttrain-error:0.08736+0.00905\ttrain-logloss:0.24028+0.01178\ttest-auc:0.92438+0.01892\ttest-error:0.12184+0.01417\ttest-logloss:0.34233+0.02591\n",
      "[37]\ttrain-auc:0.97786+0.00276\ttrain-error:0.08851+0.00813\ttrain-logloss:0.23569+0.01182\ttest-auc:0.92501+0.01844\ttest-error:0.12414+0.01126\ttest-logloss:0.33891+0.02625\n",
      "[38]\ttrain-auc:0.97786+0.00314\ttrain-error:0.08736+0.00905\ttrain-logloss:0.23153+0.01278\ttest-auc:0.92330+0.01828\ttest-error:0.12644+0.01417\ttest-logloss:0.33850+0.02601\n",
      "[39]\ttrain-auc:0.97795+0.00279\ttrain-error:0.08851+0.01066\ttrain-logloss:0.22700+0.01271\ttest-auc:0.92260+0.01704\ttest-error:0.12874+0.01720\ttest-logloss:0.33699+0.02700\n",
      "[40]\ttrain-auc:0.97852+0.00272\ttrain-error:0.08736+0.00905\ttrain-logloss:0.22609+0.01246\ttest-auc:0.92183+0.01733\ttest-error:0.13103+0.01689\ttest-logloss:0.33734+0.02712\n",
      "[41]\ttrain-auc:0.97843+0.00253\ttrain-error:0.08736+0.00905\ttrain-logloss:0.22257+0.01249\ttest-auc:0.92259+0.01854\ttest-error:0.13333+0.01978\ttest-logloss:0.33576+0.02890\n",
      "[42]\ttrain-auc:0.97873+0.00275\ttrain-error:0.08736+0.00905\ttrain-logloss:0.22131+0.01264\ttest-auc:0.92164+0.01799\ttest-error:0.13103+0.01689\ttest-logloss:0.33563+0.02841\n",
      "[43]\ttrain-auc:0.97916+0.00285\ttrain-error:0.08276+0.00745\ttrain-logloss:0.21691+0.01272\ttest-auc:0.92158+0.01712\ttest-error:0.12644+0.01720\ttest-logloss:0.33503+0.02866\n",
      "[44]\ttrain-auc:0.97910+0.00274\ttrain-error:0.08276+0.00563\ttrain-logloss:0.21412+0.01216\ttest-auc:0.92126+0.01663\ttest-error:0.12644+0.01720\ttest-logloss:0.33615+0.02921\n",
      "[45]\ttrain-auc:0.97905+0.00273\ttrain-error:0.08046+0.00430\ttrain-logloss:0.21087+0.01207\ttest-auc:0.92222+0.01845\ttest-error:0.13563+0.01720\ttest-logloss:0.33663+0.03038\n",
      "[46]\ttrain-auc:0.97930+0.00314\ttrain-error:0.08161+0.00586\ttrain-logloss:0.20820+0.01265\ttest-auc:0.92094+0.01808\ttest-error:0.13793+0.02580\ttest-logloss:0.33828+0.03155\n",
      "[47]\ttrain-auc:0.97895+0.00308\ttrain-error:0.08276+0.00563\ttrain-logloss:0.20615+0.01274\ttest-auc:0.92081+0.01825\ttest-error:0.13793+0.02580\ttest-logloss:0.33670+0.03170\n",
      "[48]\ttrain-auc:0.97932+0.00281\ttrain-error:0.08161+0.00430\ttrain-logloss:0.20491+0.01250\ttest-auc:0.92087+0.01859\ttest-error:0.12874+0.02539\ttest-logloss:0.33424+0.03039\n",
      "[49]\ttrain-auc:0.97954+0.00316\ttrain-error:0.08046+0.00430\ttrain-logloss:0.20255+0.01266\ttest-auc:0.92151+0.01858\ttest-error:0.13333+0.01978\ttest-logloss:0.33527+0.03178\n",
      "[50]\ttrain-auc:0.97958+0.00295\ttrain-error:0.08046+0.00430\ttrain-logloss:0.20100+0.01330\ttest-auc:0.92113+0.01834\ttest-error:0.13333+0.01978\ttest-logloss:0.33698+0.03056\n",
      "[51]\ttrain-auc:0.97973+0.00296\ttrain-error:0.07931+0.00488\ttrain-logloss:0.20004+0.01351\ttest-auc:0.92113+0.01868\ttest-error:0.13333+0.03101\ttest-logloss:0.41014+0.11514\n",
      "[52]\ttrain-auc:0.97994+0.00278\ttrain-error:0.07816+0.00325\ttrain-logloss:0.19968+0.01350\ttest-auc:0.92233+0.01890\ttest-error:0.13103+0.03135\ttest-logloss:0.40960+0.11517\n",
      "[53]\ttrain-auc:0.98048+0.00269\ttrain-error:0.07816+0.00325\ttrain-logloss:0.19912+0.01319\ttest-auc:0.92227+0.01950\ttest-error:0.12874+0.03441\ttest-logloss:0.41060+0.11548\n",
      "[54]\ttrain-auc:0.98021+0.00292\ttrain-error:0.07816+0.00325\ttrain-logloss:0.19767+0.01298\ttest-auc:0.92208+0.01931\ttest-error:0.12644+0.03394\ttest-logloss:0.41008+0.11572\n",
      "[55]\ttrain-auc:0.98056+0.00280\ttrain-error:0.07816+0.00325\ttrain-logloss:0.19564+0.01352\ttest-auc:0.92196+0.01895\ttest-error:0.12874+0.03664\ttest-logloss:0.40922+0.11639\n",
      "[56]\ttrain-auc:0.98054+0.00278\ttrain-error:0.07816+0.00325\ttrain-logloss:0.19332+0.01365\ttest-auc:0.92278+0.01920\ttest-error:0.12874+0.03664\ttest-logloss:0.41063+0.11590\n",
      "[57]\ttrain-auc:0.98124+0.00248\ttrain-error:0.07816+0.00325\ttrain-logloss:0.19265+0.01341\ttest-auc:0.92272+0.01907\ttest-error:0.12874+0.03664\ttest-logloss:0.41042+0.11662\n",
      "[58]\ttrain-auc:0.98104+0.00264\ttrain-error:0.07816+0.00325\ttrain-logloss:0.19174+0.01344\ttest-auc:0.92132+0.01948\ttest-error:0.12874+0.03664\ttest-logloss:0.41194+0.11452\n",
      "Tuned Results:\n",
      "train-auc-mean        0.979320\n",
      "train-auc-std         0.002805\n",
      "train-error-mean      0.081609\n",
      "train-error-std       0.004301\n",
      "train-logloss-mean    0.204912\n",
      "train-logloss-std     0.012502\n",
      "test-auc-mean         0.920873\n",
      "test-auc-std          0.018589\n",
      "test-error-mean       0.128736\n",
      "test-error-std        0.025392\n",
      "test-logloss-mean     0.334240\n",
      "test-logloss-std      0.030391\n",
      "Name: 48, dtype: float64\n"
     ]
    }
   ],
   "source": [
    "best_params = random_search_xgboost_model.best_params_\n",
    "\n",
    "# Re-run XGBoost CV with early stopping and additional metrics\n",
    "xgb_random_search_tuned_results = xgb.cv(\n",
    "    best_params, dtrain_clf,\n",
    "    num_boost_round=1000,\n",
    "    nfold=3,\n",
    "    early_stopping_rounds=10,\n",
    "    metrics=[\"auc\", \"error\", \"logloss\"],\n",
    "    verbose_eval=True\n",
    ")\n",
    "\n",
    "# Display tuned results\n",
    "print(\"Tuned Results:\")\n",
    "print(xgb_random_search_tuned_results.iloc[-1])"
   ],
   "metadata": {
    "collapsed": false,
    "ExecuteTime": {
     "end_time": "2024-01-22T16:59:20.495696700Z",
     "start_time": "2024-01-22T16:59:20.213108Z"
    }
   }
  },
  {
   "cell_type": "markdown",
   "source": [
    "Performing GridSearch with default parameters"
   ],
   "metadata": {
    "collapsed": false
   }
  },
  {
   "cell_type": "code",
   "execution_count": 7,
   "outputs": [
    {
     "name": "stdout",
     "output_type": "stream",
     "text": [
      "Fitting 5 folds for each of 1260 candidates, totalling 6300 fits\n",
      "Best Hyperparameters: {'colsample_bytree': 0.7, 'eta': 0.1, 'max_depth': 7, 'min_child_weight': 5, 'subsample': 0.8}\n",
      "Accuracy: 0.8807339449541285\n",
      "Precision: 0.9444444444444444\n",
      "Recall: 0.8360655737704918\n"
     ]
    }
   ],
   "source": [
    "# Create the grid search object\n",
    "grid_search_xgboost_model = GridSearchCV(\n",
    "    xgb_clf, param_grid, cv=5, scoring='neg_log_loss', verbose=1\n",
    ")\n",
    "\n",
    "# Fit the model on the training data\n",
    "grid_search_xgboost_model.fit(X_train, y_train)\n",
    "\n",
    "# Display the best hyperparameters\n",
    "print(\"Best Hyperparameters:\", grid_search_xgboost_model.best_params_)\n",
    "\n",
    "# Get the best model\n",
    "best_grid_search_xgb_model = grid_search_xgboost_model.best_estimator_\n",
    "\n",
    "# Evaluate the model with additional metrics\n",
    "grid_predictions = best_grid_search_xgb_model.predict(X_test)\n",
    "grid_search_accuracy =  accuracy_score(y_test, grid_predictions)\n",
    "print(\"Accuracy:\", grid_search_accuracy)\n",
    "print(\"Precision:\", precision_score(y_test, grid_predictions))\n",
    "print(\"Recall:\", recall_score(y_test, grid_predictions))\n"
   ],
   "metadata": {
    "collapsed": false,
    "ExecuteTime": {
     "end_time": "2024-01-22T17:02:30.442048Z",
     "start_time": "2024-01-22T16:59:20.466171900Z"
    }
   }
  },
  {
   "cell_type": "markdown",
   "source": [
    "Using parameters from Grid Search"
   ],
   "metadata": {
    "collapsed": false
   }
  },
  {
   "cell_type": "code",
   "execution_count": 8,
   "outputs": [
    {
     "name": "stdout",
     "output_type": "stream",
     "text": [
      "[0]\ttrain-logloss:0.68058+0.00252\ttrain-auc:0.67711+0.01532\ttrain-error:0.40862+0.01111\ttest-logloss:0.68911+0.00693\ttest-auc:0.56456+0.04432\ttest-error:0.44138+0.03379\n",
      "[1]\ttrain-logloss:0.66612+0.00455\ttrain-auc:0.74600+0.01832\ttrain-error:0.35575+0.02680\ttest-logloss:0.69008+0.00672\ttest-auc:0.54258+0.03280\ttest-error:0.46437+0.04214\n",
      "[2]\ttrain-logloss:0.65274+0.00547\ttrain-auc:0.76781+0.01322\ttrain-error:0.32816+0.02704\ttest-logloss:0.69090+0.00894\ttest-auc:0.53665+0.02158\ttest-error:0.46897+0.05603\n",
      "[3]\ttrain-logloss:0.59449+0.00532\ttrain-auc:0.94550+0.00444\ttrain-error:0.16264+0.01114\ttest-logloss:0.63192+0.01011\ttest-auc:0.82091+0.03829\ttest-error:0.32184+0.05292\n",
      "[4]\ttrain-logloss:0.58737+0.00619\ttrain-auc:0.93512+0.00553\ttrain-error:0.17759+0.01303\ttest-logloss:0.63114+0.01188\ttest-auc:0.79596+0.04940\ttest-error:0.33563+0.05603\n",
      "[5]\ttrain-logloss:0.54530+0.00771\ttrain-auc:0.96314+0.00326\ttrain-error:0.11724+0.01514\ttest-logloss:0.59237+0.01525\ttest-auc:0.87449+0.03842\ttest-error:0.24368+0.04386\n",
      "[6]\ttrain-logloss:0.53825+0.00798\ttrain-auc:0.96203+0.00612\ttrain-error:0.12069+0.01574\ttest-logloss:0.59122+0.01834\ttest-auc:0.86223+0.05380\ttest-error:0.24828+0.07435\n",
      "[7]\ttrain-logloss:0.50294+0.00982\ttrain-auc:0.96663+0.00497\ttrain-error:0.10057+0.00909\ttest-logloss:0.55592+0.02053\ttest-auc:0.90147+0.03849\ttest-error:0.17701+0.04276\n",
      "[8]\ttrain-logloss:0.49527+0.00994\ttrain-auc:0.96754+0.00469\ttrain-error:0.09943+0.00864\ttest-logloss:0.55313+0.02136\ttest-auc:0.89350+0.03526\ttest-error:0.18851+0.03678\n",
      "[9]\ttrain-logloss:0.48944+0.01151\ttrain-auc:0.96683+0.00411\ttrain-error:0.10517+0.01186\ttest-logloss:0.55261+0.02367\ttest-auc:0.88242+0.04297\ttest-error:0.22069+0.06796\n",
      "[10]\ttrain-logloss:0.45571+0.01155\ttrain-auc:0.96980+0.00377\ttrain-error:0.09540+0.00494\ttest-logloss:0.51790+0.02525\ttest-auc:0.90663+0.03281\ttest-error:0.15632+0.04855\n",
      "[11]\ttrain-logloss:0.43046+0.01227\ttrain-auc:0.96986+0.00348\ttrain-error:0.09253+0.00557\ttest-logloss:0.49245+0.02839\ttest-auc:0.91560+0.02970\ttest-error:0.13563+0.03517\n",
      "[12]\ttrain-logloss:0.40431+0.01234\ttrain-auc:0.97035+0.00357\ttrain-error:0.09310+0.00592\ttest-logloss:0.46704+0.02942\ttest-auc:0.91995+0.02800\ttest-error:0.13333+0.03299\n",
      "[13]\ttrain-logloss:0.40010+0.01237\ttrain-auc:0.97141+0.00375\ttrain-error:0.09138+0.00640\ttest-logloss:0.46806+0.03115\ttest-auc:0.91664+0.02844\ttest-error:0.13793+0.03635\n",
      "[14]\ttrain-logloss:0.37827+0.01216\ttrain-auc:0.97172+0.00384\ttrain-error:0.09080+0.00501\ttest-logloss:0.44887+0.03229\ttest-auc:0.91739+0.02628\ttest-error:0.13793+0.03084\n",
      "[15]\ttrain-logloss:0.36289+0.01260\ttrain-auc:0.97103+0.00381\ttrain-error:0.09368+0.00390\ttest-logloss:0.43426+0.03457\ttest-auc:0.91920+0.02732\ttest-error:0.13563+0.02853\n",
      "[16]\ttrain-logloss:0.34608+0.01238\ttrain-auc:0.97102+0.00402\ttrain-error:0.09425+0.00335\ttest-logloss:0.41753+0.03558\ttest-auc:0.92188+0.02597\ttest-error:0.13333+0.02778\n",
      "[17]\ttrain-logloss:0.33390+0.01254\ttrain-auc:0.97084+0.00421\ttrain-error:0.09368+0.00293\ttest-logloss:0.40744+0.03887\ttest-auc:0.92273+0.02616\ttest-error:0.13333+0.02778\n",
      "[18]\ttrain-logloss:0.32966+0.01248\ttrain-auc:0.97171+0.00419\ttrain-error:0.09080+0.00390\ttest-logloss:0.40686+0.03803\ttest-auc:0.92146+0.02704\ttest-error:0.13333+0.02778\n",
      "[19]\ttrain-logloss:0.32708+0.01222\ttrain-auc:0.97239+0.00389\ttrain-error:0.08793+0.00141\ttest-logloss:0.40609+0.03776\ttest-auc:0.92234+0.02678\ttest-error:0.13563+0.03032\n",
      "[20]\ttrain-logloss:0.31344+0.01226\ttrain-auc:0.97292+0.00393\ttrain-error:0.09023+0.00430\ttest-logloss:0.39461+0.03832\ttest-auc:0.92093+0.02594\ttest-error:0.13333+0.02778\n",
      "[21]\ttrain-logloss:0.30312+0.01222\ttrain-auc:0.97354+0.00401\ttrain-error:0.08736+0.00141\ttest-logloss:0.38723+0.03987\ttest-auc:0.92178+0.02574\ttest-error:0.13333+0.02778\n",
      "[22]\ttrain-logloss:0.30144+0.01188\ttrain-auc:0.97390+0.00376\ttrain-error:0.08793+0.00141\ttest-logloss:0.38540+0.03955\ttest-auc:0.92146+0.02590\ttest-error:0.13333+0.02778\n",
      "[23]\ttrain-logloss:0.29915+0.01196\ttrain-auc:0.97425+0.00387\ttrain-error:0.08793+0.00293\ttest-logloss:0.38605+0.04086\ttest-auc:0.92135+0.02594\ttest-error:0.13333+0.02778\n",
      "[24]\ttrain-logloss:0.29073+0.01204\ttrain-auc:0.97417+0.00400\ttrain-error:0.08908+0.00406\ttest-logloss:0.37983+0.04279\ttest-auc:0.92157+0.02566\ttest-error:0.13333+0.02778\n",
      "[25]\ttrain-logloss:0.28122+0.01179\ttrain-auc:0.97451+0.00394\ttrain-error:0.08851+0.00335\ttest-logloss:0.37174+0.04375\ttest-auc:0.92189+0.02446\ttest-error:0.13333+0.02778\n",
      "[26]\ttrain-logloss:0.27835+0.01113\ttrain-auc:0.97513+0.00374\ttrain-error:0.08621+0.00257\ttest-logloss:0.37205+0.04320\ttest-auc:0.91976+0.02481\ttest-error:0.14023+0.02560\n",
      "Tuned Results:\n",
      "train-logloss-mean    0.333905\n",
      "train-logloss-std     0.012541\n",
      "train-auc-mean        0.970837\n",
      "train-auc-std         0.004207\n",
      "train-error-mean      0.093678\n",
      "train-error-std       0.002930\n",
      "test-logloss-mean     0.407443\n",
      "test-logloss-std      0.038870\n",
      "test-auc-mean         0.922734\n",
      "test-auc-std          0.026156\n",
      "test-error-mean       0.133333\n",
      "test-error-std        0.027777\n",
      "Name: 17, dtype: float64\n"
     ]
    }
   ],
   "source": [
    "# Get the best parameters from  grid search\n",
    "best_params = grid_search_xgboost_model.best_params_\n",
    "\n",
    "# Re-run XGBoost CV with early stopping and additional metrics\n",
    "xgb_grid_search_tuned_results = xgb.cv(\n",
    "    best_params, dtrain_clf,\n",
    "    num_boost_round=1000,\n",
    "    nfold=5,\n",
    "    early_stopping_rounds=10,\n",
    "    metrics=[\"logloss\", \"auc\", \"error\"],\n",
    "    verbose_eval=True\n",
    ")\n",
    "\n",
    "# Display tuned results\n",
    "print(\"Tuned Results:\")\n",
    "print(xgb_grid_search_tuned_results.iloc[-1])\n"
   ],
   "metadata": {
    "collapsed": false,
    "ExecuteTime": {
     "end_time": "2024-01-22T17:02:30.635132900Z",
     "start_time": "2024-01-22T17:02:30.444047600Z"
    }
   }
  },
  {
   "cell_type": "code",
   "execution_count": 9,
   "outputs": [
    {
     "data": {
      "text/plain": "'\\ntry:\\n    with open(\\'data.csv\\', \\'a\\', newline=\\'\\') as csvfile:\\n        writer = csv.writer(csvfile)\\n        # Write data to the CSV file\\n        writer.writerow([\\'xgboost_grid_search\\', accuracy_score(y_test, grid_predictions) ])\\n        writer.writerow([\\'xgboost_random_search\\', accuracy_score(y_test, random_predictions)])\\n\\nexcept Exception as e:\\n    print(f\"An error occurred: {e}\")\\n\\n# Close the CSV file\\ncsvfile.close()'"
     },
     "execution_count": 9,
     "metadata": {},
     "output_type": "execute_result"
    }
   ],
   "source": [
    "'''\n",
    "try:\n",
    "    with open('data.csv', 'a', newline='') as csvfile:\n",
    "        writer = csv.writer(csvfile)\n",
    "        # Write data to the CSV file\n",
    "        writer.writerow(['xgboost_grid_search', accuracy_score(y_test, grid_predictions) ])\n",
    "        writer.writerow(['xgboost_random_search', accuracy_score(y_test, random_predictions)])\n",
    "\n",
    "except Exception as e:\n",
    "    print(f\"An error occurred: {e}\")\n",
    "\n",
    "# Close the CSV file\n",
    "csvfile.close()'''"
   ],
   "metadata": {
    "collapsed": false,
    "ExecuteTime": {
     "end_time": "2024-01-22T17:02:30.661126800Z",
     "start_time": "2024-01-22T17:02:30.618599300Z"
    }
   }
  },
  {
   "cell_type": "code",
   "execution_count": 10,
   "outputs": [
    {
     "name": "stdout",
     "output_type": "stream",
     "text": [
      "RANDOM SEARCH\n",
      "              precision    recall  f1-score   support\n",
      "\n",
      "           0       0.82      0.94      0.87        48\n",
      "           1       0.94      0.84      0.89        61\n",
      "\n",
      "    accuracy                           0.88       109\n",
      "   macro avg       0.88      0.89      0.88       109\n",
      "weighted avg       0.89      0.88      0.88       109\n",
      "\n",
      "[[45  3]\n",
      " [10 51]]\n"
     ]
    }
   ],
   "source": [
    "if grid_search_accuracy > random_search_accuracy:\n",
    "    print(\"GRID SEARCH\")\n",
    "    y_pred = best_grid_search_xgb_model.predict(X_test)\n",
    "else:\n",
    "    print(\"RANDOM SEARCH\")\n",
    "    y_pred = best_random_search_xgb_model.predict(X_test)\n",
    "\n",
    "conf_matrix = confusion_matrix(y_test, y_pred)\n",
    "report = classification_report(y_test, y_pred)\n",
    "\n",
    "print(report)\n",
    "print(conf_matrix)"
   ],
   "metadata": {
    "collapsed": false,
    "ExecuteTime": {
     "end_time": "2024-01-22T17:02:30.690133600Z",
     "start_time": "2024-01-22T17:02:30.633117400Z"
    }
   }
  }
 ],
 "metadata": {
  "kernelspec": {
   "display_name": "Python 3",
   "language": "python",
   "name": "python3"
  },
  "language_info": {
   "codemirror_mode": {
    "name": "ipython",
    "version": 2
   },
   "file_extension": ".py",
   "mimetype": "text/x-python",
   "name": "python",
   "nbconvert_exporter": "python",
   "pygments_lexer": "ipython2",
   "version": "2.7.6"
  }
 },
 "nbformat": 4,
 "nbformat_minor": 0
}
