{
 "cells": [
  {
   "cell_type": "code",
   "execution_count": 1,
   "metadata": {
    "collapsed": true,
    "ExecuteTime": {
     "end_time": "2023-12-22T07:22:35.680690800Z",
     "start_time": "2023-12-22T07:22:28.621430900Z"
    }
   },
   "outputs": [],
   "source": [
    "import xgboost as xgb\n",
    "\n",
    "from sklearn.model_selection import train_test_split, RandomizedSearchCV\n",
    "from sklearn.metrics import accuracy_score, recall_score, precision_score\n",
    "import numpy as np\n",
    "import pandas as pd\n",
    "from sklearn.metrics import classification_report\n",
    "from sklearn.preprocessing import StandardScaler\n",
    "from sklearn.svm import SVC\n",
    "import matplotlib as plt\n",
    "from sklearn.model_selection import train_test_split, GridSearchCV\n",
    "from sklearn.model_selection import GridSearchCV"
   ]
  },
  {
   "cell_type": "markdown",
   "source": [
    "Importing and processing the data"
   ],
   "metadata": {
    "collapsed": false
   }
  },
  {
   "cell_type": "code",
   "execution_count": 2,
   "outputs": [],
   "source": [
    "file_path = './data./Data Set for Chapter - Sheet1.csv'\n",
    "df = pd.read_csv(file_path)\n",
    "df.dropna(inplace=True)"
   ],
   "metadata": {
    "collapsed": false,
    "ExecuteTime": {
     "end_time": "2023-12-22T07:22:35.704718300Z",
     "start_time": "2023-12-22T07:22:35.672720600Z"
    }
   }
  },
  {
   "cell_type": "markdown",
   "source": [
    "Splitting the data into train, test and cross validation sets"
   ],
   "metadata": {
    "collapsed": false
   }
  },
  {
   "cell_type": "code",
   "execution_count": 3,
   "outputs": [
    {
     "name": "stdout",
     "output_type": "stream",
     "text": [
      "length of training set:  380\n",
      "length of test set:  82\n",
      "length of cv set:  82\n"
     ]
    }
   ],
   "source": [
    "x = df.loc[:,'Age':'Testing']\n",
    "y = df['STD Status']\n",
    "\n",
    "scaler = StandardScaler()\n",
    "x = scaler.fit_transform(x)\n",
    "\n",
    "# Split dataset into training set and test set\n",
    "X_train, X_test, y_train, y_test = train_test_split(x,y,test_size=0.3,random_state=41) # 70% training and 30% test\n",
    "X_cv,y_cv = X_test[:int(len(X_test)/2)],y_test[:int(len(y_test)/2)]\n",
    "X_test,y_test = X_test[int(len(X_test)/2):],y_test[int(len(y_test)/2):]\n",
    "\n",
    "print(\"length of training set: \", len(X_train))\n",
    "print(\"length of test set: \", len(X_test))\n",
    "print(\"length of cv set: \", len(X_cv))"
   ],
   "metadata": {
    "collapsed": false,
    "ExecuteTime": {
     "end_time": "2023-12-22T07:22:35.736960900Z",
     "start_time": "2023-12-22T07:22:35.712701Z"
    }
   }
  },
  {
   "cell_type": "markdown",
   "source": [
    "Creating the XGBoost model"
   ],
   "metadata": {
    "collapsed": false
   }
  },
  {
   "cell_type": "code",
   "execution_count": 4,
   "outputs": [],
   "source": [
    "xgb_clf = xgb.XGBClassifier(\n",
    "    objective=\"binary:logistic\",\n",
    "    eta=0.1,\n",
    "    max_depth=5,\n",
    "    min_child_weight=5,\n",
    "    subsample=0.8,\n",
    "    colsample_bytree=0.9\n",
    ")\n",
    "\n",
    "# Create classification matrices\n",
    "dtrain_clf = xgb.DMatrix(X_train, y_train, enable_categorical=True)\n",
    "dtest_clf = xgb.DMatrix(X_test, y_test, enable_categorical=True)\n",
    "param_grid = { 'eta': [0.01, 0.1, 0.2,0.5],\n",
    "               'max_depth': [3, 5, 7, 9, 11, 15, 20],\n",
    "               'min_child_weight': [1, 5, 10],\n",
    "               'subsample': [0.8, 0.9],\n",
    "               'colsample_bytree': [0.8, 0.9]\n",
    "             }"
   ],
   "metadata": {
    "collapsed": false,
    "ExecuteTime": {
     "end_time": "2023-12-22T07:22:35.832883300Z",
     "start_time": "2023-12-22T07:22:35.744688Z"
    }
   }
  },
  {
   "cell_type": "markdown",
   "source": [
    "Performing RandomSearch with initial parameters"
   ],
   "metadata": {
    "collapsed": false
   }
  },
  {
   "cell_type": "code",
   "execution_count": 5,
   "outputs": [
    {
     "name": "stdout",
     "output_type": "stream",
     "text": [
      "Fitting 5 folds for each of 100 candidates, totalling 500 fits\n",
      "Best Hyperparameters: {'subsample': 0.9, 'min_child_weight': 5, 'max_depth': 9, 'eta': 0.1, 'colsample_bytree': 0.9}\n",
      "Accuracy: 0.8536585365853658\n",
      "Precision: 0.9285714285714286\n",
      "Recall: 0.8125\n"
     ]
    }
   ],
   "source": [
    "random_search_xgboost_model = RandomizedSearchCV(\n",
    "    xgb_clf, param_grid, cv=5, scoring='neg_log_loss', n_iter=100, verbose=1\n",
    ")\n",
    "# Fit the model on the training data\n",
    "random_search_xgboost_model.fit(X_train, y_train)\n",
    "\n",
    "# Display the best hyperparameters\n",
    "print(\"Best Hyperparameters:\", random_search_xgboost_model.best_params_)\n",
    "\n",
    "# Get the best model\n",
    "best_random_search_xgb_model = random_search_xgboost_model.best_estimator_\n",
    "\n",
    "# Evaluate the model with additional metrics\n",
    "predictions = best_random_search_xgb_model.predict(X_test)\n",
    "print(\"Accuracy:\", accuracy_score(y_test, predictions))\n",
    "print(\"Precision:\", precision_score(y_test, predictions))\n",
    "print(\"Recall:\", recall_score(y_test, predictions))"
   ],
   "metadata": {
    "collapsed": false,
    "ExecuteTime": {
     "end_time": "2023-12-22T07:22:53.134491500Z",
     "start_time": "2023-12-22T07:22:35.840887400Z"
    }
   }
  },
  {
   "cell_type": "markdown",
   "source": [
    "Using the parameters from Random Search"
   ],
   "metadata": {
    "collapsed": false
   }
  },
  {
   "cell_type": "code",
   "execution_count": 6,
   "outputs": [
    {
     "name": "stdout",
     "output_type": "stream",
     "text": [
      "[0]\ttrain-auc:0.76391+0.02673\ttrain-error:0.39088+0.05705\ttrain-logloss:0.67035+0.00432\ttest-auc:0.60041+0.01255\ttest-error:0.48677+0.01898\ttest-logloss:0.69077+0.00118\n",
      "[1]\ttrain-auc:0.79075+0.02584\ttrain-error:0.31849+0.04079\ttrain-logloss:0.65169+0.00620\ttest-auc:0.60919+0.01205\ttest-error:0.42886+0.02778\ttest-logloss:0.68535+0.00316\n",
      "[2]\ttrain-auc:0.79758+0.02374\ttrain-error:0.29084+0.03883\ttrain-logloss:0.63522+0.00799\ttest-auc:0.61106+0.02094\ttest-error:0.42099+0.02138\ttest-logloss:0.68097+0.00367\n",
      "[3]\ttrain-auc:0.94151+0.00308\ttrain-error:0.16454+0.03788\ttrain-logloss:0.57568+0.00893\ttest-auc:0.81220+0.00830\ttest-error:0.29728+0.02501\ttest-logloss:0.62498+0.00286\n",
      "[4]\ttrain-auc:0.96357+0.00285\ttrain-error:0.09607+0.00947\ttrain-logloss:0.52616+0.00886\ttest-auc:0.87145+0.00624\ttest-error:0.20787+0.00928\ttest-logloss:0.57782+0.00357\n",
      "[5]\ttrain-auc:0.97256+0.00210\ttrain-error:0.08158+0.00179\ttrain-logloss:0.48951+0.00689\ttest-auc:0.89029+0.00474\ttest-error:0.16840+0.00683\ttest-logloss:0.54427+0.00654\n",
      "[6]\ttrain-auc:0.97307+0.00264\ttrain-error:0.08552+0.00356\ttrain-logloss:0.47942+0.00753\ttest-auc:0.89054+0.00591\ttest-error:0.18160+0.00705\ttest-logloss:0.54040+0.00614\n",
      "[7]\ttrain-auc:0.97694+0.00344\ttrain-error:0.07631+0.00478\ttrain-logloss:0.44878+0.00579\ttest-auc:0.90025+0.00758\ttest-error:0.16319+0.01518\ttest-logloss:0.51283+0.00711\n",
      "[8]\ttrain-auc:0.97656+0.00449\ttrain-error:0.07499+0.00544\ttrain-logloss:0.44092+0.00650\ttest-auc:0.89437+0.00637\ttest-error:0.16581+0.01147\ttest-logloss:0.51066+0.00799\n",
      "[9]\ttrain-auc:0.97666+0.00568\ttrain-error:0.07762+0.00481\ttrain-logloss:0.43316+0.00770\ttest-auc:0.88921+0.00884\ttest-error:0.17898+0.01037\ttest-logloss:0.50902+0.00720\n",
      "[10]\ttrain-auc:0.97872+0.00540\ttrain-error:0.07235+0.00798\ttrain-logloss:0.40323+0.00804\ttest-auc:0.89840+0.01049\ttest-error:0.15527+0.00995\ttest-logloss:0.48245+0.00823\n",
      "[11]\ttrain-auc:0.98028+0.00456\ttrain-error:0.07368+0.00482\ttrain-logloss:0.38085+0.00717\ttest-auc:0.90464+0.00919\ttest-error:0.16054+0.01977\ttest-logloss:0.46292+0.00990\n",
      "[12]\ttrain-auc:0.98089+0.00427\ttrain-error:0.07631+0.00668\ttrain-logloss:0.35736+0.00757\ttest-auc:0.90762+0.00881\ttest-error:0.14475+0.00772\ttest-logloss:0.44285+0.00973\n",
      "[13]\ttrain-auc:0.98153+0.00448\ttrain-error:0.07236+0.00479\ttrain-logloss:0.35153+0.00789\ttest-auc:0.90370+0.00958\ttest-error:0.14740+0.01027\ttest-logloss:0.44283+0.01061\n",
      "[14]\ttrain-auc:0.98170+0.00446\ttrain-error:0.07631+0.00668\ttrain-logloss:0.33161+0.00821\ttest-auc:0.90446+0.00913\ttest-error:0.14213+0.01143\ttest-logloss:0.42656+0.01084\n",
      "[15]\ttrain-auc:0.98208+0.00419\ttrain-error:0.07631+0.00366\ttrain-logloss:0.31410+0.00857\ttest-auc:0.90467+0.00987\ttest-error:0.14213+0.01143\ttest-logloss:0.41373+0.01187\n",
      "[16]\ttrain-auc:0.98208+0.00424\ttrain-error:0.07631+0.00366\ttrain-logloss:0.29878+0.00904\ttest-auc:0.90658+0.00900\ttest-error:0.13419+0.01091\ttest-logloss:0.40211+0.01184\n",
      "[17]\ttrain-auc:0.98212+0.00431\ttrain-error:0.07762+0.00481\ttrain-logloss:0.28689+0.00910\ttest-auc:0.90900+0.01020\ttest-error:0.13419+0.01091\ttest-logloss:0.39322+0.01208\n",
      "[18]\ttrain-auc:0.98282+0.00386\ttrain-error:0.07500+0.00310\ttrain-logloss:0.28344+0.00905\ttest-auc:0.90930+0.00972\ttest-error:0.13419+0.01091\ttest-logloss:0.39162+0.01278\n",
      "[19]\ttrain-auc:0.98326+0.00442\ttrain-error:0.07500+0.00310\ttrain-logloss:0.28003+0.00892\ttest-auc:0.90924+0.00958\ttest-error:0.13419+0.01091\ttest-logloss:0.39105+0.01254\n",
      "[20]\ttrain-auc:0.98363+0.00404\ttrain-error:0.07631+0.00172\ttrain-logloss:0.26811+0.00935\ttest-auc:0.91063+0.00823\ttest-error:0.13425+0.01170\ttest-logloss:0.38221+0.01248\n",
      "[21]\ttrain-auc:0.98415+0.00372\ttrain-error:0.07236+0.00662\ttrain-logloss:0.25844+0.00930\ttest-auc:0.91238+0.01068\ttest-error:0.13425+0.01170\ttest-logloss:0.37511+0.01412\n",
      "[22]\ttrain-auc:0.98400+0.00337\ttrain-error:0.07236+0.00662\ttrain-logloss:0.24827+0.00912\ttest-auc:0.91509+0.01125\ttest-error:0.13425+0.01170\ttest-logloss:0.36827+0.01588\n",
      "[23]\ttrain-auc:0.98413+0.00351\ttrain-error:0.07368+0.00482\ttrain-logloss:0.23942+0.00879\ttest-auc:0.91540+0.01063\ttest-error:0.13425+0.01170\ttest-logloss:0.36200+0.01535\n",
      "[24]\ttrain-auc:0.98461+0.00344\ttrain-error:0.07104+0.00844\ttrain-logloss:0.23157+0.00877\ttest-auc:0.91597+0.00953\ttest-error:0.12632+0.00047\ttest-logloss:0.35632+0.01603\n",
      "[25]\ttrain-auc:0.98477+0.00326\ttrain-error:0.07368+0.00482\ttrain-logloss:0.22395+0.00874\ttest-auc:0.91876+0.01037\ttest-error:0.12632+0.00047\ttest-logloss:0.35091+0.01574\n",
      "[26]\ttrain-auc:0.98490+0.00317\ttrain-error:0.06841+0.00975\ttrain-logloss:0.21759+0.00888\ttest-auc:0.91999+0.01281\ttest-error:0.12894+0.00350\ttest-logloss:0.34691+0.01756\n",
      "[27]\ttrain-auc:0.98533+0.00316\ttrain-error:0.06709+0.00956\ttrain-logloss:0.21232+0.00892\ttest-auc:0.91869+0.01435\ttest-error:0.13423+0.00689\ttest-logloss:0.34531+0.01890\n",
      "[28]\ttrain-auc:0.98535+0.00290\ttrain-error:0.06709+0.00956\ttrain-logloss:0.20717+0.00898\ttest-auc:0.91927+0.01406\ttest-error:0.13423+0.00689\ttest-logloss:0.34366+0.01921\n",
      "[29]\ttrain-auc:0.98548+0.00300\ttrain-error:0.06709+0.00956\ttrain-logloss:0.20211+0.00893\ttest-auc:0.91944+0.01467\ttest-error:0.13423+0.00689\ttest-logloss:0.34140+0.01936\n",
      "[30]\ttrain-auc:0.98542+0.00289\ttrain-error:0.06709+0.00956\ttrain-logloss:0.19722+0.00934\ttest-auc:0.91967+0.01362\ttest-error:0.13425+0.01170\ttest-logloss:0.33948+0.02024\n",
      "[31]\ttrain-auc:0.98586+0.00305\ttrain-error:0.06709+0.00956\ttrain-logloss:0.19315+0.00914\ttest-auc:0.91999+0.01341\ttest-error:0.13425+0.01170\ttest-logloss:0.33900+0.02122\n",
      "[32]\ttrain-auc:0.98590+0.00287\ttrain-error:0.06709+0.00956\ttrain-logloss:0.18906+0.00922\ttest-auc:0.91824+0.01342\ttest-error:0.13950+0.01025\ttest-logloss:0.34015+0.02262\n",
      "[33]\ttrain-auc:0.98609+0.00308\ttrain-error:0.06709+0.00956\ttrain-logloss:0.18586+0.00924\ttest-auc:0.91800+0.01383\ttest-error:0.14213+0.00692\ttest-logloss:0.34077+0.02242\n",
      "[34]\ttrain-auc:0.98636+0.00298\ttrain-error:0.06841+0.00799\ttrain-logloss:0.18240+0.00952\ttest-auc:0.91701+0.01371\ttest-error:0.13157+0.00720\ttest-logloss:0.34198+0.02402\n",
      "[35]\ttrain-auc:0.98629+0.00283\ttrain-error:0.06841+0.00799\ttrain-logloss:0.17955+0.00982\ttest-auc:0.91676+0.01407\ttest-error:0.13157+0.00720\ttest-logloss:0.34215+0.02545\n",
      "[36]\ttrain-auc:0.98686+0.00284\ttrain-error:0.06709+0.00956\ttrain-logloss:0.17678+0.00967\ttest-auc:0.91735+0.01415\ttest-error:0.13157+0.00720\ttest-logloss:0.34176+0.02623\n",
      "[37]\ttrain-auc:0.98690+0.00285\ttrain-error:0.06709+0.00956\ttrain-logloss:0.17416+0.00993\ttest-auc:0.91753+0.01443\ttest-error:0.13157+0.00720\ttest-logloss:0.34056+0.02582\n",
      "[38]\ttrain-auc:0.98692+0.00275\ttrain-error:0.06709+0.00956\ttrain-logloss:0.17157+0.01004\ttest-auc:0.91754+0.01499\ttest-error:0.13419+0.00603\ttest-logloss:0.34080+0.02776\n",
      "[39]\ttrain-auc:0.98682+0.00300\ttrain-error:0.06709+0.00956\ttrain-logloss:0.16968+0.01039\ttest-auc:0.91697+0.01532\ttest-error:0.12630+0.00605\ttest-logloss:0.34238+0.02956\n",
      "[40]\ttrain-auc:0.98717+0.00297\ttrain-error:0.06709+0.00956\ttrain-logloss:0.16722+0.01061\ttest-auc:0.91671+0.01512\ttest-error:0.13417+0.01069\ttest-logloss:0.34522+0.03141\n",
      "Tuned Results:\n",
      "train-auc-mean        0.985856\n",
      "train-auc-std         0.003047\n",
      "train-error-mean      0.067090\n",
      "train-error-std       0.009555\n",
      "train-logloss-mean    0.193152\n",
      "train-logloss-std     0.009142\n",
      "test-auc-mean         0.919994\n",
      "test-auc-std          0.013406\n",
      "test-error-mean       0.134254\n",
      "test-error-std        0.011695\n",
      "test-logloss-mean     0.338996\n",
      "test-logloss-std      0.021217\n",
      "Name: 31, dtype: float64\n"
     ]
    }
   ],
   "source": [
    "best_params = random_search_xgboost_model.best_params_\n",
    "\n",
    "# Re-run XGBoost CV with early stopping and additional metrics\n",
    "xgb_random_search_tuned_results = xgb.cv(\n",
    "    best_params, dtrain_clf,\n",
    "    num_boost_round=1000,\n",
    "    nfold=3,\n",
    "    early_stopping_rounds=10,\n",
    "    metrics=[\"auc\", \"error\", \"logloss\"],\n",
    "    verbose_eval=True\n",
    ")\n",
    "\n",
    "# Display tuned results\n",
    "print(\"Tuned Results:\")\n",
    "print(xgb_random_search_tuned_results.iloc[-1])"
   ],
   "metadata": {
    "collapsed": false,
    "ExecuteTime": {
     "end_time": "2023-12-22T07:22:53.358642100Z",
     "start_time": "2023-12-22T07:22:53.134491500Z"
    }
   }
  },
  {
   "cell_type": "markdown",
   "source": [
    "Performing GridSearch with default parameters"
   ],
   "metadata": {
    "collapsed": false
   }
  },
  {
   "cell_type": "code",
   "execution_count": 7,
   "outputs": [
    {
     "name": "stdout",
     "output_type": "stream",
     "text": [
      "Fitting 5 folds for each of 336 candidates, totalling 1680 fits\n",
      "Best Hyperparameters: {'colsample_bytree': 0.9, 'eta': 0.1, 'max_depth': 7, 'min_child_weight': 5, 'subsample': 0.9}\n",
      "Accuracy: 0.8536585365853658\n",
      "Precision: 0.9285714285714286\n",
      "Recall: 0.8125\n"
     ]
    }
   ],
   "source": [
    "# Create the grid search object\n",
    "grid_search_xgboost_model = GridSearchCV(\n",
    "    xgb_clf, param_grid, cv=5, scoring='neg_log_loss', verbose=1\n",
    ")\n",
    "\n",
    "# Fit the model on the training data\n",
    "grid_search_xgboost_model.fit(X_train, y_train)\n",
    "\n",
    "# Display the best hyperparameters\n",
    "print(\"Best Hyperparameters:\", grid_search_xgboost_model.best_params_)\n",
    "\n",
    "# Get the best model\n",
    "best_grid_search_xgb_model = grid_search_xgboost_model.best_estimator_\n",
    "\n",
    "# Evaluate the model with additional metrics\n",
    "predictions = best_grid_search_xgb_model.predict(X_test)\n",
    "print(\"Accuracy:\", accuracy_score(y_test, predictions))\n",
    "print(\"Precision:\", precision_score(y_test, predictions))\n",
    "print(\"Recall:\", recall_score(y_test, predictions))\n"
   ],
   "metadata": {
    "collapsed": false,
    "ExecuteTime": {
     "end_time": "2023-12-22T07:23:51.212985600Z",
     "start_time": "2023-12-22T07:22:53.358642100Z"
    }
   }
  },
  {
   "cell_type": "markdown",
   "source": [
    "Using parameters from Grid Search"
   ],
   "metadata": {
    "collapsed": false
   }
  },
  {
   "cell_type": "code",
   "execution_count": 12,
   "outputs": [
    {
     "name": "stdout",
     "output_type": "stream",
     "text": [
      "[0]\ttrain-logloss:0.67177+0.00306\ttrain-auc:0.75574+0.02425\ttrain-error:0.36645+0.03862\ttest-logloss:0.68953+0.00295\ttest-auc:0.56633+0.06034\ttest-error:0.48421+0.00985\n",
      "[1]\ttrain-logloss:0.65553+0.00397\ttrain-auc:0.78045+0.01764\ttrain-error:0.31711+0.01509\ttest-logloss:0.68727+0.00555\ttest-auc:0.57820+0.05632\ttest-error:0.50000+0.03627\n",
      "[2]\ttrain-logloss:0.64100+0.00583\ttrain-auc:0.79210+0.01935\ttrain-error:0.30132+0.01914\ttest-logloss:0.68347+0.00773\ttest-auc:0.58582+0.04640\ttest-error:0.47895+0.03777\n",
      "[3]\ttrain-logloss:0.58130+0.00582\ttrain-auc:0.94444+0.00787\ttrain-error:0.14408+0.01492\ttest-logloss:0.62658+0.00645\ttest-auc:0.81905+0.04534\ttest-error:0.29211+0.04588\n",
      "[4]\ttrain-logloss:0.53154+0.00595\ttrain-auc:0.96508+0.00702\ttrain-error:0.09671+0.01224\ttest-logloss:0.57795+0.00710\ttest-auc:0.88623+0.03453\ttest-error:0.17632+0.03287\n",
      "[5]\ttrain-logloss:0.49479+0.00482\ttrain-auc:0.97278+0.00522\ttrain-error:0.08355+0.00767\ttest-logloss:0.54399+0.00769\ttest-auc:0.90888+0.02793\ttest-error:0.13947+0.02138\n",
      "[6]\ttrain-logloss:0.48583+0.00550\ttrain-auc:0.97185+0.00662\ttrain-error:0.08421+0.00897\ttest-logloss:0.54288+0.00670\ttest-auc:0.89720+0.03006\ttest-error:0.15000+0.02440\n",
      "[7]\ttrain-logloss:0.45522+0.00576\ttrain-auc:0.97491+0.00493\ttrain-error:0.08421+0.00534\ttest-logloss:0.51505+0.00781\ttest-auc:0.91078+0.02312\ttest-error:0.13684+0.02138\n",
      "[8]\ttrain-logloss:0.44696+0.00494\ttrain-auc:0.97551+0.00386\ttrain-error:0.08092+0.00610\ttest-logloss:0.51335+0.00879\ttest-auc:0.90652+0.02624\ttest-error:0.14737+0.02551\n",
      "[9]\ttrain-logloss:0.44078+0.00466\ttrain-auc:0.97511+0.00482\ttrain-error:0.08158+0.00436\ttest-logloss:0.51122+0.00986\ttest-auc:0.90747+0.02471\ttest-error:0.15526+0.03158\n",
      "[10]\ttrain-logloss:0.41054+0.00532\ttrain-auc:0.97617+0.00455\ttrain-error:0.08092+0.00335\ttest-logloss:0.48328+0.01132\ttest-auc:0.91183+0.02501\ttest-error:0.13947+0.01785\n",
      "[11]\ttrain-logloss:0.38781+0.00529\ttrain-auc:0.97794+0.00294\ttrain-error:0.08158+0.00384\ttest-logloss:0.46426+0.01160\ttest-auc:0.91639+0.02040\ttest-error:0.14474+0.02354\n",
      "[12]\ttrain-logloss:0.36404+0.00584\ttrain-auc:0.97880+0.00245\ttrain-error:0.08158+0.00384\ttest-logloss:0.44292+0.01356\ttest-auc:0.92227+0.02140\ttest-error:0.14474+0.03114\n",
      "[13]\ttrain-logloss:0.35889+0.00598\ttrain-auc:0.97960+0.00217\ttrain-error:0.07895+0.00550\ttest-logloss:0.44225+0.01370\ttest-auc:0.91892+0.02254\ttest-error:0.15000+0.02294\n",
      "[14]\ttrain-logloss:0.33894+0.00586\ttrain-auc:0.97995+0.00206\ttrain-error:0.07961+0.00566\ttest-logloss:0.42493+0.01592\ttest-auc:0.92310+0.02272\ttest-error:0.14211+0.02810\n",
      "[15]\ttrain-logloss:0.32145+0.00609\ttrain-auc:0.98018+0.00201\ttrain-error:0.07763+0.00534\ttest-logloss:0.40872+0.01855\ttest-auc:0.92563+0.02152\ttest-error:0.13158+0.02883\n",
      "[16]\ttrain-logloss:0.30551+0.00651\ttrain-auc:0.98048+0.00199\ttrain-error:0.07697+0.00446\ttest-logloss:0.39516+0.02115\ttest-auc:0.92687+0.02279\ttest-error:0.13684+0.03069\n",
      "[17]\ttrain-logloss:0.29316+0.00679\ttrain-auc:0.98108+0.00191\ttrain-error:0.07697+0.00446\ttest-logloss:0.38554+0.02277\ttest-auc:0.92661+0.02093\ttest-error:0.13158+0.03627\n",
      "[18]\ttrain-logloss:0.28925+0.00716\ttrain-auc:0.98185+0.00239\ttrain-error:0.07632+0.00566\ttest-logloss:0.38500+0.02257\ttest-auc:0.92520+0.02175\ttest-error:0.13421+0.03158\n",
      "[19]\ttrain-logloss:0.28564+0.00688\ttrain-auc:0.98211+0.00219\ttrain-error:0.07763+0.00677\ttest-logloss:0.38372+0.02310\ttest-auc:0.92679+0.01899\ttest-error:0.14211+0.02810\n",
      "[20]\ttrain-logloss:0.27350+0.00700\ttrain-auc:0.98274+0.00216\ttrain-error:0.07632+0.00762\ttest-logloss:0.37523+0.02438\ttest-auc:0.92678+0.02015\ttest-error:0.13421+0.03158\n",
      "[21]\ttrain-logloss:0.26391+0.00729\ttrain-auc:0.98269+0.00199\ttrain-error:0.07566+0.00721\ttest-logloss:0.36962+0.02517\ttest-auc:0.92580+0.01970\ttest-error:0.13158+0.02883\n",
      "[22]\ttrain-logloss:0.25355+0.00779\ttrain-auc:0.98286+0.00219\ttrain-error:0.07566+0.00360\ttest-logloss:0.36227+0.02652\ttest-auc:0.92653+0.01853\ttest-error:0.13421+0.02412\n",
      "[23]\ttrain-logloss:0.24452+0.00793\ttrain-auc:0.98308+0.00202\ttrain-error:0.07434+0.00446\ttest-logloss:0.35512+0.02662\ttest-auc:0.92680+0.01752\ttest-error:0.13684+0.01969\n",
      "[24]\ttrain-logloss:0.23642+0.00833\ttrain-auc:0.98321+0.00188\ttrain-error:0.07434+0.00446\ttest-logloss:0.34984+0.02814\ttest-auc:0.92678+0.01801\ttest-error:0.13684+0.02440\n",
      "Tuned Results:\n",
      "train-logloss-mean    0.321448\n",
      "train-logloss-std     0.006086\n",
      "train-auc-mean        0.980180\n",
      "train-auc-std         0.002014\n",
      "train-error-mean      0.077632\n",
      "train-error-std       0.005345\n",
      "test-logloss-mean     0.408719\n",
      "test-logloss-std      0.018546\n",
      "test-auc-mean         0.925635\n",
      "test-auc-std          0.021522\n",
      "test-error-mean       0.131579\n",
      "test-error-std        0.028828\n",
      "Name: 15, dtype: float64\n"
     ]
    }
   ],
   "source": [
    "# Get the best parameters from  grid search\n",
    "best_params = grid_search_xgboost_model.best_params_\n",
    "\n",
    "# Re-run XGBoost CV with early stopping and additional metrics\n",
    "xgb_grid_search_tuned_results = xgb.cv(\n",
    "    best_params, dtrain_clf,\n",
    "    num_boost_round=1000,\n",
    "    nfold=5,\n",
    "    early_stopping_rounds=10,\n",
    "    metrics=[\"logloss\", \"auc\", \"error\"],\n",
    "    verbose_eval=True\n",
    ")\n",
    "\n",
    "# Display tuned results\n",
    "print(\"Tuned Results:\")\n",
    "print(xgb_grid_search_tuned_results.iloc[-1])\n"
   ],
   "metadata": {
    "collapsed": false,
    "ExecuteTime": {
     "end_time": "2023-12-22T07:26:26.719176700Z",
     "start_time": "2023-12-22T07:26:26.385276300Z"
    }
   }
  },
  {
   "cell_type": "code",
   "execution_count": null,
   "outputs": [],
   "source": [],
   "metadata": {
    "collapsed": false
   }
  }
 ],
 "metadata": {
  "kernelspec": {
   "display_name": "Python 3",
   "language": "python",
   "name": "python3"
  },
  "language_info": {
   "codemirror_mode": {
    "name": "ipython",
    "version": 2
   },
   "file_extension": ".py",
   "mimetype": "text/x-python",
   "name": "python",
   "nbconvert_exporter": "python",
   "pygments_lexer": "ipython2",
   "version": "2.7.6"
  }
 },
 "nbformat": 4,
 "nbformat_minor": 0
}
