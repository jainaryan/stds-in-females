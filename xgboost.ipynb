{
 "cells": [
  {
   "cell_type": "code",
   "execution_count": 1,
   "metadata": {
    "collapsed": true,
    "ExecuteTime": {
     "end_time": "2024-01-29T16:01:42.486420600Z",
     "start_time": "2024-01-29T16:01:40.932426100Z"
    }
   },
   "outputs": [],
   "source": [
    "import csv\n",
    "\n",
    "import xgboost as xgb\n",
    "\n",
    "from sklearn.model_selection import train_test_split, RandomizedSearchCV\n",
    "from sklearn.metrics import accuracy_score, recall_score, precision_score, confusion_matrix\n",
    "import numpy as np\n",
    "import pandas as pd\n",
    "from sklearn.metrics import classification_report\n",
    "from sklearn.preprocessing import StandardScaler\n",
    "from sklearn.svm import SVC\n",
    "import matplotlib as plt\n",
    "from sklearn.model_selection import train_test_split, GridSearchCV\n",
    "from sklearn.model_selection import GridSearchCV"
   ]
  },
  {
   "cell_type": "markdown",
   "source": [
    "Importing and processing the data"
   ],
   "metadata": {
    "collapsed": false
   }
  },
  {
   "cell_type": "code",
   "execution_count": 2,
   "outputs": [],
   "source": [
    "file_path = './data./Data Set for Chapter - Sheet1.csv'\n",
    "df = pd.read_csv(file_path)\n",
    "df.dropna(inplace=True)"
   ],
   "metadata": {
    "collapsed": false,
    "ExecuteTime": {
     "end_time": "2024-01-29T16:01:42.519428400Z",
     "start_time": "2024-01-29T16:01:42.487424600Z"
    }
   }
  },
  {
   "cell_type": "markdown",
   "source": [
    "Splitting the data into train, test and cross validation sets"
   ],
   "metadata": {
    "collapsed": false
   }
  },
  {
   "cell_type": "code",
   "execution_count": 3,
   "outputs": [],
   "source": [
    "x = df.loc[:,'Age':'Testing']\n",
    "y = df['STD Status']\n",
    "\n",
    "scaler = StandardScaler()\n",
    "x = scaler.fit_transform(x)\n",
    "\n",
    "# Split dataset into training set and test set\n",
    "X_train, X_test, y_train, y_test = train_test_split(x,y,test_size=0.2,random_state=41) # 80% training and 20% test"
   ],
   "metadata": {
    "collapsed": false,
    "ExecuteTime": {
     "end_time": "2024-01-29T16:01:42.549418900Z",
     "start_time": "2024-01-29T16:01:42.520429200Z"
    }
   }
  },
  {
   "cell_type": "markdown",
   "source": [
    "Creating the XGBoost model"
   ],
   "metadata": {
    "collapsed": false
   }
  },
  {
   "cell_type": "code",
   "execution_count": 4,
   "outputs": [],
   "source": [
    "xgb_clf = xgb.XGBClassifier(\n",
    "    objective=\"binary:logistic\",\n",
    "    eta=0.1,\n",
    "    max_depth=5,\n",
    "    min_child_weight=5,\n",
    "    subsample=0.8,\n",
    "    colsample_bytree=0.9\n",
    ")\n",
    "\n",
    "# Create classification matrices\n",
    "dtrain_clf = xgb.DMatrix(X_train, y_train, enable_categorical=True)\n",
    "dtest_clf = xgb.DMatrix(X_test, y_test, enable_categorical=True)\n",
    "param_grid = { 'eta': [0.01, 0.1, 0.2,0.5],\n",
    "               'max_depth': [3, 5, 7, 9, 11, 15, 20],\n",
    "               'min_child_weight': [1,3,5,7,10],\n",
    "               'subsample': [0.7,0.8, 0.9],\n",
    "               'colsample_bytree': [0.7,0.8, 0.9]\n",
    "             }"
   ],
   "metadata": {
    "collapsed": false,
    "ExecuteTime": {
     "end_time": "2024-01-29T16:01:43.902101Z",
     "start_time": "2024-01-29T16:01:42.551421600Z"
    }
   }
  },
  {
   "cell_type": "markdown",
   "source": [
    "Performing RandomSearch with initial parameters"
   ],
   "metadata": {
    "collapsed": false
   }
  },
  {
   "cell_type": "code",
   "execution_count": 5,
   "outputs": [
    {
     "name": "stdout",
     "output_type": "stream",
     "text": [
      "Fitting 5 folds for each of 100 candidates, totalling 500 fits\n",
      "Best Hyperparameters: {'subsample': 0.9, 'min_child_weight': 7, 'max_depth': 7, 'eta': 0.2, 'colsample_bytree': 0.9}\n",
      "Accuracy: 0.8807339449541285\n",
      "Precision: 0.9615384615384616\n",
      "Recall: 0.819672131147541\n"
     ]
    }
   ],
   "source": [
    "random_search_xgboost_model = RandomizedSearchCV(\n",
    "    xgb_clf, param_grid, cv=5, scoring='neg_log_loss', n_iter=100, verbose=1\n",
    ")\n",
    "# Fit the model on the training data\n",
    "random_search_xgboost_model.fit(X_train, y_train)\n",
    "\n",
    "# Display the best hyperparameters\n",
    "print(\"Best Hyperparameters:\", random_search_xgboost_model.best_params_)\n",
    "\n",
    "# Get the best model\n",
    "best_random_search_xgb_model = random_search_xgboost_model.best_estimator_\n",
    "\n",
    "# Evaluate the model with additional metrics\n",
    "random_predictions = best_random_search_xgb_model.predict(X_test)\n",
    "random_search_accuracy = accuracy_score(y_test, random_predictions)\n",
    "print(\"Accuracy:\", random_search_accuracy)\n",
    "print(\"Precision:\", precision_score(y_test, random_predictions))\n",
    "print(\"Recall:\", recall_score(y_test, random_predictions))"
   ],
   "metadata": {
    "collapsed": false,
    "ExecuteTime": {
     "end_time": "2024-01-29T16:02:11.119219800Z",
     "start_time": "2024-01-29T16:01:43.904087300Z"
    }
   }
  },
  {
   "cell_type": "markdown",
   "source": [
    "Using the parameters from Random Search"
   ],
   "metadata": {
    "collapsed": false
   }
  },
  {
   "cell_type": "code",
   "execution_count": 6,
   "outputs": [
    {
     "name": "stdout",
     "output_type": "stream",
     "text": [
      "[0]\ttrain-auc:0.72514+0.00645\ttrain-error:0.35862+0.01490\ttrain-logloss:0.66306+0.00287\ttest-auc:0.51326+0.05050\ttest-error:0.48276+0.03135\ttest-logloss:0.69259+0.00689\n",
      "[1]\ttrain-auc:0.76152+0.00781\ttrain-error:0.31264+0.00586\ttrain-logloss:0.63773+0.00614\ttest-auc:0.55288+0.01227\ttest-error:0.48966+0.01126\ttest-logloss:0.69009+0.00518\n",
      "[2]\ttrain-auc:0.77759+0.01206\ttrain-error:0.29310+0.01971\ttrain-logloss:0.61486+0.00935\ttest-auc:0.53939+0.00610\ttest-error:0.49195+0.02132\ttest-logloss:0.69816+0.00302\n",
      "[3]\ttrain-auc:0.94325+0.00692\ttrain-error:0.13678+0.01697\ttrain-logloss:0.50998+0.00696\ttest-auc:0.81219+0.01258\ttest-error:0.27586+0.03942\ttest-logloss:0.58982+0.00305\n",
      "[4]\ttrain-auc:0.96544+0.00668\ttrain-error:0.10000+0.01490\ttrain-logloss:0.43640+0.00868\ttest-auc:0.89330+0.00197\ttest-error:0.20230+0.01810\ttest-logloss:0.51617+0.00419\n",
      "[5]\ttrain-auc:0.96864+0.00460\ttrain-error:0.09080+0.01138\ttrain-logloss:0.38944+0.01136\ttest-auc:0.90844+0.00846\ttest-error:0.17471+0.01417\ttest-logloss:0.47007+0.01054\n",
      "[6]\ttrain-auc:0.97018+0.00498\ttrain-error:0.08966+0.01490\ttrain-logloss:0.38098+0.00947\ttest-auc:0.90172+0.00737\ttest-error:0.17241+0.02030\ttest-logloss:0.46998+0.00841\n",
      "[7]\ttrain-auc:0.97208+0.00518\ttrain-error:0.08851+0.01300\ttrain-logloss:0.34602+0.01099\ttest-auc:0.90898+0.01416\ttest-error:0.16782+0.01300\ttest-logloss:0.43847+0.01319\n",
      "[8]\ttrain-auc:0.97321+0.00484\ttrain-error:0.08851+0.01331\ttrain-logloss:0.33827+0.01023\ttest-auc:0.90606+0.01161\ttest-error:0.17011+0.00860\ttest-logloss:0.43729+0.01108\n",
      "[9]\ttrain-auc:0.97488+0.00459\ttrain-error:0.08851+0.01138\ttrain-logloss:0.33187+0.01035\ttest-auc:0.89979+0.00796\ttest-error:0.16782+0.00650\ttest-logloss:0.43994+0.00753\n",
      "[10]\ttrain-auc:0.97613+0.00498\ttrain-error:0.08391+0.00989\ttrain-logloss:0.30136+0.01091\ttest-auc:0.90514+0.01064\ttest-error:0.16322+0.00650\ttest-logloss:0.41281+0.00801\n",
      "[11]\ttrain-auc:0.97650+0.00374\ttrain-error:0.08391+0.00989\ttrain-logloss:0.28080+0.01304\ttest-auc:0.91030+0.01328\ttest-error:0.16552+0.00975\ttest-logloss:0.39689+0.01068\n",
      "[12]\ttrain-auc:0.97707+0.00366\ttrain-error:0.08391+0.00860\ttrain-logloss:0.26137+0.01409\ttest-auc:0.91291+0.01323\ttest-error:0.16552+0.00563\ttest-logloss:0.38325+0.01295\n",
      "[13]\ttrain-auc:0.97801+0.00432\ttrain-error:0.08391+0.00989\ttrain-logloss:0.25789+0.01407\ttest-auc:0.91046+0.01193\ttest-error:0.17011+0.01172\ttest-logloss:0.38391+0.01215\n",
      "[14]\ttrain-auc:0.97844+0.00406\ttrain-error:0.08276+0.01015\ttrain-logloss:0.24283+0.01422\ttest-auc:0.91441+0.01301\ttest-error:0.15402+0.01172\ttest-logloss:0.36978+0.01506\n",
      "[15]\ttrain-auc:0.97844+0.00398\ttrain-error:0.08161+0.00860\ttrain-logloss:0.23084+0.01493\ttest-auc:0.91474+0.01348\ttest-error:0.15402+0.01172\ttest-logloss:0.36380+0.01672\n",
      "[16]\ttrain-auc:0.97865+0.00396\ttrain-error:0.08276+0.00845\ttrain-logloss:0.22118+0.01458\ttest-auc:0.91504+0.01464\ttest-error:0.15632+0.00860\ttest-logloss:0.43216+0.11307\n",
      "[17]\ttrain-auc:0.97901+0.00416\ttrain-error:0.07931+0.00563\ttrain-logloss:0.21314+0.01513\ttest-auc:0.91448+0.01492\ttest-error:0.14943+0.01300\ttest-logloss:0.43038+0.11401\n",
      "[18]\ttrain-auc:0.98022+0.00413\ttrain-error:0.07931+0.00975\ttrain-logloss:0.21064+0.01449\ttest-auc:0.91346+0.01498\ttest-error:0.15402+0.01172\ttest-logloss:0.43103+0.11370\n",
      "[19]\ttrain-auc:0.98071+0.00388\ttrain-error:0.07586+0.00745\ttrain-logloss:0.20824+0.01317\ttest-auc:0.91397+0.01383\ttest-error:0.15172+0.00975\ttest-logloss:0.43075+0.11354\n",
      "[20]\ttrain-auc:0.98081+0.00391\ttrain-error:0.07701+0.00905\ttrain-logloss:0.20144+0.01320\ttest-auc:0.91339+0.01421\ttest-error:0.15172+0.00975\ttest-logloss:0.42943+0.11278\n",
      "[21]\ttrain-auc:0.98125+0.00388\ttrain-error:0.07816+0.00860\ttrain-logloss:0.19702+0.01356\ttest-auc:0.91300+0.01402\ttest-error:0.15172+0.00975\ttest-logloss:0.43062+0.11317\n",
      "[22]\ttrain-auc:0.98199+0.00355\ttrain-error:0.07471+0.00586\ttrain-logloss:0.19162+0.01433\ttest-auc:0.91281+0.01625\ttest-error:0.15632+0.00325\ttest-logloss:0.43211+0.11362\n",
      "[23]\ttrain-auc:0.98231+0.00335\ttrain-error:0.07241+0.00563\ttrain-logloss:0.18724+0.01420\ttest-auc:0.91243+0.01634\ttest-error:0.14023+0.00650\ttest-logloss:0.44048+0.11305\n",
      "[24]\ttrain-auc:0.98226+0.00368\ttrain-error:0.07241+0.00563\ttrain-logloss:0.18371+0.01457\ttest-auc:0.91363+0.01731\ttest-error:0.14943+0.01720\ttest-logloss:0.44552+0.11249\n",
      "Tuned Results:\n",
      "train-auc-mean        0.978439\n",
      "train-auc-std         0.003984\n",
      "train-error-mean      0.081609\n",
      "train-error-std       0.008602\n",
      "train-logloss-mean    0.230840\n",
      "train-logloss-std     0.014928\n",
      "test-auc-mean         0.914735\n",
      "test-auc-std          0.013476\n",
      "test-error-mean       0.154023\n",
      "test-error-std        0.011722\n",
      "test-logloss-mean     0.363799\n",
      "test-logloss-std      0.016721\n",
      "Name: 15, dtype: float64\n"
     ]
    }
   ],
   "source": [
    "best_params = random_search_xgboost_model.best_params_\n",
    "\n",
    "# Re-run XGBoost CV with early stopping and additional metrics\n",
    "xgb_random_search_tuned_results = xgb.cv(\n",
    "    best_params, dtrain_clf,\n",
    "    num_boost_round=1000,\n",
    "    nfold=3,\n",
    "    early_stopping_rounds=10,\n",
    "    metrics=[\"auc\", \"error\", \"logloss\"],\n",
    "    verbose_eval=True\n",
    ")\n",
    "\n",
    "# Display tuned results\n",
    "print(\"Tuned Results:\")\n",
    "print(xgb_random_search_tuned_results.iloc[-1])"
   ],
   "metadata": {
    "collapsed": false,
    "ExecuteTime": {
     "end_time": "2024-01-29T16:02:11.299225800Z",
     "start_time": "2024-01-29T16:02:11.120226700Z"
    }
   }
  },
  {
   "cell_type": "markdown",
   "source": [
    "Performing GridSearch with default parameters"
   ],
   "metadata": {
    "collapsed": false
   }
  },
  {
   "cell_type": "code",
   "execution_count": 7,
   "outputs": [
    {
     "name": "stdout",
     "output_type": "stream",
     "text": [
      "Fitting 5 folds for each of 1260 candidates, totalling 6300 fits\n",
      "Best Hyperparameters: {'colsample_bytree': 0.7, 'eta': 0.1, 'max_depth': 7, 'min_child_weight': 5, 'subsample': 0.8}\n",
      "Accuracy: 0.8807339449541285\n",
      "Precision: 0.9444444444444444\n",
      "Recall: 0.8360655737704918\n"
     ]
    }
   ],
   "source": [
    "# Create the grid search object\n",
    "grid_search_xgboost_model = GridSearchCV(\n",
    "    xgb_clf, param_grid, cv=5, scoring='neg_log_loss', verbose=1\n",
    ")\n",
    "\n",
    "# Fit the model on the training data\n",
    "grid_search_xgboost_model.fit(X_train, y_train)\n",
    "\n",
    "# Display the best hyperparameters\n",
    "print(\"Best Hyperparameters:\", grid_search_xgboost_model.best_params_)\n",
    "\n",
    "# Get the best model\n",
    "best_grid_search_xgb_model = grid_search_xgboost_model.best_estimator_\n",
    "\n",
    "# Evaluate the model with additional metrics\n",
    "grid_predictions = best_grid_search_xgb_model.predict(X_test)\n",
    "grid_search_accuracy =  accuracy_score(y_test, grid_predictions)\n",
    "print(\"Accuracy:\", grid_search_accuracy)\n",
    "print(\"Precision:\", precision_score(y_test, grid_predictions))\n",
    "print(\"Recall:\", recall_score(y_test, grid_predictions))\n"
   ],
   "metadata": {
    "collapsed": false,
    "ExecuteTime": {
     "end_time": "2024-01-29T16:06:07.840583300Z",
     "start_time": "2024-01-29T16:02:11.297224Z"
    }
   }
  },
  {
   "cell_type": "markdown",
   "source": [
    "Using parameters from Grid Search"
   ],
   "metadata": {
    "collapsed": false
   }
  },
  {
   "cell_type": "code",
   "execution_count": 8,
   "outputs": [
    {
     "name": "stdout",
     "output_type": "stream",
     "text": [
      "[0]\ttrain-logloss:0.68058+0.00252\ttrain-auc:0.67711+0.01532\ttrain-error:0.40862+0.01111\ttest-logloss:0.68911+0.00693\ttest-auc:0.56456+0.04432\ttest-error:0.44138+0.03379\n",
      "[1]\ttrain-logloss:0.66612+0.00455\ttrain-auc:0.74600+0.01832\ttrain-error:0.35575+0.02680\ttest-logloss:0.69008+0.00672\ttest-auc:0.54258+0.03280\ttest-error:0.46437+0.04214\n",
      "[2]\ttrain-logloss:0.65274+0.00547\ttrain-auc:0.76781+0.01322\ttrain-error:0.32816+0.02704\ttest-logloss:0.69090+0.00894\ttest-auc:0.53665+0.02158\ttest-error:0.46897+0.05603\n",
      "[3]\ttrain-logloss:0.59449+0.00532\ttrain-auc:0.94550+0.00444\ttrain-error:0.16264+0.01114\ttest-logloss:0.63192+0.01011\ttest-auc:0.82091+0.03829\ttest-error:0.32184+0.05292\n",
      "[4]\ttrain-logloss:0.58737+0.00619\ttrain-auc:0.93512+0.00553\ttrain-error:0.17759+0.01303\ttest-logloss:0.63114+0.01188\ttest-auc:0.79596+0.04940\ttest-error:0.33563+0.05603\n",
      "[5]\ttrain-logloss:0.54530+0.00771\ttrain-auc:0.96314+0.00326\ttrain-error:0.11724+0.01514\ttest-logloss:0.59237+0.01525\ttest-auc:0.87449+0.03842\ttest-error:0.24368+0.04386\n",
      "[6]\ttrain-logloss:0.53825+0.00798\ttrain-auc:0.96203+0.00612\ttrain-error:0.12069+0.01574\ttest-logloss:0.59122+0.01834\ttest-auc:0.86223+0.05380\ttest-error:0.24828+0.07435\n",
      "[7]\ttrain-logloss:0.50294+0.00982\ttrain-auc:0.96663+0.00497\ttrain-error:0.10057+0.00909\ttest-logloss:0.55592+0.02053\ttest-auc:0.90147+0.03849\ttest-error:0.17701+0.04276\n",
      "[8]\ttrain-logloss:0.49527+0.00994\ttrain-auc:0.96754+0.00469\ttrain-error:0.09943+0.00864\ttest-logloss:0.55313+0.02136\ttest-auc:0.89350+0.03526\ttest-error:0.18851+0.03678\n",
      "[9]\ttrain-logloss:0.48944+0.01151\ttrain-auc:0.96683+0.00411\ttrain-error:0.10517+0.01186\ttest-logloss:0.55261+0.02367\ttest-auc:0.88242+0.04297\ttest-error:0.22069+0.06796\n",
      "[10]\ttrain-logloss:0.45571+0.01155\ttrain-auc:0.96980+0.00377\ttrain-error:0.09540+0.00494\ttest-logloss:0.51790+0.02525\ttest-auc:0.90663+0.03281\ttest-error:0.15632+0.04855\n",
      "[11]\ttrain-logloss:0.43046+0.01227\ttrain-auc:0.96986+0.00348\ttrain-error:0.09253+0.00557\ttest-logloss:0.49245+0.02839\ttest-auc:0.91560+0.02970\ttest-error:0.13563+0.03517\n",
      "[12]\ttrain-logloss:0.40431+0.01234\ttrain-auc:0.97035+0.00357\ttrain-error:0.09310+0.00592\ttest-logloss:0.46704+0.02942\ttest-auc:0.91995+0.02800\ttest-error:0.13333+0.03299\n",
      "[13]\ttrain-logloss:0.40010+0.01237\ttrain-auc:0.97141+0.00375\ttrain-error:0.09138+0.00640\ttest-logloss:0.46806+0.03115\ttest-auc:0.91664+0.02844\ttest-error:0.13793+0.03635\n",
      "[14]\ttrain-logloss:0.37827+0.01216\ttrain-auc:0.97172+0.00384\ttrain-error:0.09080+0.00501\ttest-logloss:0.44887+0.03229\ttest-auc:0.91739+0.02628\ttest-error:0.13793+0.03084\n",
      "[15]\ttrain-logloss:0.36289+0.01260\ttrain-auc:0.97103+0.00381\ttrain-error:0.09368+0.00390\ttest-logloss:0.43426+0.03457\ttest-auc:0.91920+0.02732\ttest-error:0.13563+0.02853\n",
      "[16]\ttrain-logloss:0.34608+0.01238\ttrain-auc:0.97102+0.00402\ttrain-error:0.09425+0.00335\ttest-logloss:0.41753+0.03558\ttest-auc:0.92188+0.02597\ttest-error:0.13333+0.02778\n",
      "[17]\ttrain-logloss:0.33390+0.01254\ttrain-auc:0.97084+0.00421\ttrain-error:0.09368+0.00293\ttest-logloss:0.40744+0.03887\ttest-auc:0.92273+0.02616\ttest-error:0.13333+0.02778\n",
      "[18]\ttrain-logloss:0.32966+0.01248\ttrain-auc:0.97171+0.00419\ttrain-error:0.09080+0.00390\ttest-logloss:0.40686+0.03803\ttest-auc:0.92146+0.02704\ttest-error:0.13333+0.02778\n",
      "[19]\ttrain-logloss:0.32708+0.01222\ttrain-auc:0.97239+0.00389\ttrain-error:0.08793+0.00141\ttest-logloss:0.40609+0.03776\ttest-auc:0.92234+0.02678\ttest-error:0.13563+0.03032\n",
      "[20]\ttrain-logloss:0.31344+0.01226\ttrain-auc:0.97292+0.00393\ttrain-error:0.09023+0.00430\ttest-logloss:0.39461+0.03832\ttest-auc:0.92093+0.02594\ttest-error:0.13333+0.02778\n",
      "[21]\ttrain-logloss:0.30312+0.01222\ttrain-auc:0.97354+0.00401\ttrain-error:0.08736+0.00141\ttest-logloss:0.38723+0.03987\ttest-auc:0.92178+0.02574\ttest-error:0.13333+0.02778\n",
      "[22]\ttrain-logloss:0.30144+0.01188\ttrain-auc:0.97390+0.00376\ttrain-error:0.08793+0.00141\ttest-logloss:0.38540+0.03955\ttest-auc:0.92146+0.02590\ttest-error:0.13333+0.02778\n",
      "[23]\ttrain-logloss:0.29915+0.01196\ttrain-auc:0.97425+0.00387\ttrain-error:0.08793+0.00293\ttest-logloss:0.38605+0.04086\ttest-auc:0.92135+0.02594\ttest-error:0.13333+0.02778\n",
      "[24]\ttrain-logloss:0.29073+0.01204\ttrain-auc:0.97417+0.00400\ttrain-error:0.08908+0.00406\ttest-logloss:0.37983+0.04279\ttest-auc:0.92157+0.02566\ttest-error:0.13333+0.02778\n",
      "[25]\ttrain-logloss:0.28122+0.01179\ttrain-auc:0.97451+0.00394\ttrain-error:0.08851+0.00335\ttest-logloss:0.37174+0.04375\ttest-auc:0.92189+0.02446\ttest-error:0.13333+0.02778\n",
      "[26]\ttrain-logloss:0.27835+0.01113\ttrain-auc:0.97513+0.00374\ttrain-error:0.08621+0.00257\ttest-logloss:0.37205+0.04320\ttest-auc:0.91976+0.02481\ttest-error:0.14023+0.02560\n",
      "Tuned Results:\n",
      "train-logloss-mean    0.333905\n",
      "train-logloss-std     0.012541\n",
      "train-auc-mean        0.970837\n",
      "train-auc-std         0.004207\n",
      "train-error-mean      0.093678\n",
      "train-error-std       0.002930\n",
      "test-logloss-mean     0.407443\n",
      "test-logloss-std      0.038870\n",
      "test-auc-mean         0.922734\n",
      "test-auc-std          0.026156\n",
      "test-error-mean       0.133333\n",
      "test-error-std        0.027777\n",
      "Name: 17, dtype: float64\n"
     ]
    }
   ],
   "source": [
    "# Get the best parameters from  grid search\n",
    "best_params = grid_search_xgboost_model.best_params_\n",
    "\n",
    "# Re-run XGBoost CV with early stopping and additional metrics\n",
    "xgb_grid_search_tuned_results = xgb.cv(\n",
    "    best_params, dtrain_clf,\n",
    "    num_boost_round=1000,\n",
    "    nfold=5,\n",
    "    early_stopping_rounds=10,\n",
    "    metrics=[\"logloss\", \"auc\", \"error\"],\n",
    "    verbose_eval=True\n",
    ")\n",
    "\n",
    "# Display tuned results\n",
    "print(\"Tuned Results:\")\n",
    "print(xgb_grid_search_tuned_results.iloc[-1])\n"
   ],
   "metadata": {
    "collapsed": false,
    "ExecuteTime": {
     "end_time": "2024-01-29T16:06:08.031575900Z",
     "start_time": "2024-01-29T16:06:07.841585200Z"
    }
   }
  },
  {
   "cell_type": "code",
   "execution_count": 9,
   "outputs": [
    {
     "data": {
      "text/plain": "'\\ntry:\\n    with open(\\'data.csv\\', \\'a\\', newline=\\'\\') as csvfile:\\n        writer = csv.writer(csvfile)\\n        # Write data to the CSV file\\n        writer.writerow([\\'xgboost_grid_search\\', accuracy_score(y_test, grid_predictions) ])\\n        writer.writerow([\\'xgboost_random_search\\', accuracy_score(y_test, random_predictions)])\\n\\nexcept Exception as e:\\n    print(f\"An error occurred: {e}\")\\n\\n# Close the CSV file\\ncsvfile.close()'"
     },
     "execution_count": 9,
     "metadata": {},
     "output_type": "execute_result"
    }
   ],
   "source": [
    "'''\n",
    "try:\n",
    "    with open('data.csv', 'a', newline='') as csvfile:\n",
    "        writer = csv.writer(csvfile)\n",
    "        # Write data to the CSV file\n",
    "        writer.writerow(['xgboost_grid_search', accuracy_score(y_test, grid_predictions) ])\n",
    "        writer.writerow(['xgboost_random_search', accuracy_score(y_test, random_predictions)])\n",
    "\n",
    "except Exception as e:\n",
    "    print(f\"An error occurred: {e}\")\n",
    "\n",
    "# Close the CSV file\n",
    "csvfile.close()'''"
   ],
   "metadata": {
    "collapsed": false,
    "ExecuteTime": {
     "end_time": "2024-01-29T16:06:08.071572400Z",
     "start_time": "2024-01-29T16:06:08.029579Z"
    }
   }
  },
  {
   "cell_type": "code",
   "execution_count": 10,
   "outputs": [
    {
     "name": "stdout",
     "output_type": "stream",
     "text": [
      "RANDOM SEARCH\n",
      "              precision    recall  f1-score   support\n",
      "\n",
      "           0       0.81      0.96      0.88        48\n",
      "           1       0.96      0.82      0.88        61\n",
      "\n",
      "    accuracy                           0.88       109\n",
      "   macro avg       0.88      0.89      0.88       109\n",
      "weighted avg       0.89      0.88      0.88       109\n",
      "\n",
      "[[46  2]\n",
      " [11 50]]\n"
     ]
    }
   ],
   "source": [
    "if grid_search_accuracy > random_search_accuracy:\n",
    "    print(\"GRID SEARCH\")\n",
    "    y_pred = best_grid_search_xgb_model.predict(X_test)\n",
    "else:\n",
    "    print(\"RANDOM SEARCH\")\n",
    "    y_pred = best_random_search_xgb_model.predict(X_test)\n",
    "\n",
    "conf_matrix = confusion_matrix(y_test, y_pred)\n",
    "report = classification_report(y_test, y_pred)\n",
    "\n",
    "print(report)\n",
    "print(conf_matrix)"
   ],
   "metadata": {
    "collapsed": false,
    "ExecuteTime": {
     "end_time": "2024-01-29T16:06:08.086572700Z",
     "start_time": "2024-01-29T16:06:08.046581200Z"
    }
   }
  },
  {
   "cell_type": "code",
   "outputs": [
    {
     "name": "stdout",
     "output_type": "stream",
     "text": [
      "accuracy:  0.8807339449541285\n"
     ]
    }
   ],
   "source": [
    "accuracy = accuracy_score(y_test, y_pred)\n",
    "print(\"accuracy: \", accuracy)"
   ],
   "metadata": {
    "collapsed": false,
    "ExecuteTime": {
     "end_time": "2024-01-29T16:06:08.091573700Z",
     "start_time": "2024-01-29T16:06:08.076586700Z"
    }
   },
   "execution_count": 11
  }
 ],
 "metadata": {
  "kernelspec": {
   "display_name": "Python 3",
   "language": "python",
   "name": "python3"
  },
  "language_info": {
   "codemirror_mode": {
    "name": "ipython",
    "version": 2
   },
   "file_extension": ".py",
   "mimetype": "text/x-python",
   "name": "python",
   "nbconvert_exporter": "python",
   "pygments_lexer": "ipython2",
   "version": "2.7.6"
  }
 },
 "nbformat": 4,
 "nbformat_minor": 0
}
