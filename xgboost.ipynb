{
 "cells": [
  {
   "cell_type": "code",
   "execution_count": 1,
   "metadata": {
    "collapsed": true,
    "ExecuteTime": {
     "end_time": "2023-12-28T17:29:39.756251300Z",
     "start_time": "2023-12-28T17:29:32.735761500Z"
    }
   },
   "outputs": [],
   "source": [
    "import csv\n",
    "\n",
    "import xgboost as xgb\n",
    "\n",
    "from sklearn.model_selection import train_test_split, RandomizedSearchCV\n",
    "from sklearn.metrics import accuracy_score, recall_score, precision_score\n",
    "import numpy as np\n",
    "import pandas as pd\n",
    "from sklearn.metrics import classification_report\n",
    "from sklearn.preprocessing import StandardScaler\n",
    "from sklearn.svm import SVC\n",
    "import matplotlib as plt\n",
    "from sklearn.model_selection import train_test_split, GridSearchCV\n",
    "from sklearn.model_selection import GridSearchCV"
   ]
  },
  {
   "cell_type": "markdown",
   "source": [
    "Importing and processing the data"
   ],
   "metadata": {
    "collapsed": false
   }
  },
  {
   "cell_type": "code",
   "execution_count": 2,
   "outputs": [],
   "source": [
    "file_path = './data./Data Set for Chapter - Sheet1.csv'\n",
    "df = pd.read_csv(file_path)\n",
    "df.dropna(inplace=True)"
   ],
   "metadata": {
    "collapsed": false,
    "ExecuteTime": {
     "end_time": "2023-12-28T17:29:39.820314400Z",
     "start_time": "2023-12-28T17:29:39.748239100Z"
    }
   }
  },
  {
   "cell_type": "markdown",
   "source": [
    "Splitting the data into train, test and cross validation sets"
   ],
   "metadata": {
    "collapsed": false
   }
  },
  {
   "cell_type": "code",
   "execution_count": 3,
   "outputs": [
    {
     "name": "stdout",
     "output_type": "stream",
     "text": [
      "length of training set:  380\n",
      "length of test set:  82\n",
      "length of cv set:  82\n"
     ]
    }
   ],
   "source": [
    "x = df.loc[:,'Age':'Testing']\n",
    "y = df['STD Status']\n",
    "\n",
    "scaler = StandardScaler()\n",
    "x = scaler.fit_transform(x)\n",
    "\n",
    "# Split dataset into training set and test set\n",
    "X_train, X_test, y_train, y_test = train_test_split(x,y,test_size=0.3,random_state=41) # 70% training and 30% test\n",
    "X_cv,y_cv = X_test[:int(len(X_test)/2)],y_test[:int(len(y_test)/2)]\n",
    "X_test,y_test = X_test[int(len(X_test)/2):],y_test[int(len(y_test)/2):]\n",
    "\n",
    "print(\"length of training set: \", len(X_train))\n",
    "print(\"length of test set: \", len(X_test))\n",
    "print(\"length of cv set: \", len(X_cv))"
   ],
   "metadata": {
    "collapsed": false,
    "ExecuteTime": {
     "end_time": "2023-12-28T17:29:39.820314400Z",
     "start_time": "2023-12-28T17:29:39.788310700Z"
    }
   }
  },
  {
   "cell_type": "markdown",
   "source": [
    "Creating the XGBoost model"
   ],
   "metadata": {
    "collapsed": false
   }
  },
  {
   "cell_type": "code",
   "execution_count": 4,
   "outputs": [],
   "source": [
    "xgb_clf = xgb.XGBClassifier(\n",
    "    objective=\"binary:logistic\",\n",
    "    eta=0.1,\n",
    "    max_depth=5,\n",
    "    min_child_weight=5,\n",
    "    subsample=0.8,\n",
    "    colsample_bytree=0.9\n",
    ")\n",
    "\n",
    "# Create classification matrices\n",
    "dtrain_clf = xgb.DMatrix(X_train, y_train, enable_categorical=True)\n",
    "dtest_clf = xgb.DMatrix(X_test, y_test, enable_categorical=True)\n",
    "param_grid = { 'eta': [0.01, 0.1, 0.2,0.5],\n",
    "               'max_depth': [3, 5, 7, 9, 11, 15, 20],\n",
    "               'min_child_weight': [1,3,5,7,10],\n",
    "               'subsample': [0.7,0.8, 0.9],\n",
    "               'colsample_bytree': [0.7,0.8, 0.9]\n",
    "             }"
   ],
   "metadata": {
    "collapsed": false,
    "ExecuteTime": {
     "end_time": "2023-12-28T17:29:39.996411200Z",
     "start_time": "2023-12-28T17:29:39.812315900Z"
    }
   }
  },
  {
   "cell_type": "markdown",
   "source": [
    "Performing RandomSearch with initial parameters"
   ],
   "metadata": {
    "collapsed": false
   }
  },
  {
   "cell_type": "code",
   "execution_count": 5,
   "outputs": [
    {
     "name": "stdout",
     "output_type": "stream",
     "text": [
      "Fitting 5 folds for each of 100 candidates, totalling 500 fits\n",
      "Best Hyperparameters: {'subsample': 0.7, 'min_child_weight': 5, 'max_depth': 11, 'eta': 0.2, 'colsample_bytree': 0.5}\n",
      "Accuracy: 0.8536585365853658\n",
      "Precision: 0.9285714285714286\n",
      "Recall: 0.8125\n"
     ]
    }
   ],
   "source": [
    "random_search_xgboost_model = RandomizedSearchCV(\n",
    "    xgb_clf, param_grid, cv=5, scoring='neg_log_loss', n_iter=100, verbose=1\n",
    ")\n",
    "# Fit the model on the training data\n",
    "random_search_xgboost_model.fit(X_train, y_train)\n",
    "\n",
    "# Display the best hyperparameters\n",
    "print(\"Best Hyperparameters:\", random_search_xgboost_model.best_params_)\n",
    "\n",
    "# Get the best model\n",
    "best_random_search_xgb_model = random_search_xgboost_model.best_estimator_\n",
    "\n",
    "# Evaluate the model with additional metrics\n",
    "random_predictions = best_random_search_xgb_model.predict(X_test)\n",
    "print(\"Accuracy:\", accuracy_score(y_test, random_predictions))\n",
    "print(\"Precision:\", precision_score(y_test, random_predictions))\n",
    "print(\"Recall:\", recall_score(y_test, random_predictions))"
   ],
   "metadata": {
    "collapsed": false,
    "ExecuteTime": {
     "end_time": "2023-12-28T17:29:58.515534400Z",
     "start_time": "2023-12-28T17:29:39.932338400Z"
    }
   }
  },
  {
   "cell_type": "markdown",
   "source": [
    "Using the parameters from Random Search"
   ],
   "metadata": {
    "collapsed": false
   }
  },
  {
   "cell_type": "code",
   "execution_count": 6,
   "outputs": [
    {
     "name": "stdout",
     "output_type": "stream",
     "text": [
      "[0]\ttrain-auc:0.62154+0.02564\ttrain-error:0.40395+0.00974\ttrain-logloss:0.67960+0.00315\ttest-auc:0.49428+0.02716\ttest-error:0.51062+0.04398\ttest-logloss:0.69864+0.00583\n",
      "[1]\ttrain-auc:0.71655+0.02136\ttrain-error:0.35132+0.02583\ttrain-logloss:0.65296+0.00718\ttest-auc:0.58827+0.05645\ttest-error:0.46848+0.05407\ttest-logloss:0.68686+0.01356\n",
      "[2]\ttrain-auc:0.73042+0.02180\ttrain-error:0.33029+0.01877\ttrain-logloss:0.63982+0.00878\ttest-auc:0.58651+0.06727\ttest-error:0.45005+0.05302\ttest-logloss:0.68499+0.02014\n",
      "[3]\ttrain-auc:0.74077+0.02542\ttrain-error:0.32632+0.00807\ttrain-logloss:0.62904+0.01246\ttest-auc:0.59832+0.05918\ttest-error:0.45007+0.03989\ttest-logloss:0.68162+0.02252\n",
      "[4]\ttrain-auc:0.74044+0.01752\ttrain-error:0.32761+0.01236\ttrain-logloss:0.62204+0.01195\ttest-auc:0.58696+0.05265\ttest-error:0.45538+0.04504\ttest-logloss:0.68443+0.02434\n",
      "[5]\ttrain-auc:0.92209+0.00224\ttrain-error:0.17504+0.02102\ttrain-logloss:0.52599+0.00678\ttest-auc:0.80930+0.02479\ttest-error:0.31042+0.06459\ttest-logloss:0.58678+0.01292\n",
      "[6]\ttrain-auc:0.92323+0.00643\ttrain-error:0.16183+0.00618\ttrain-logloss:0.51405+0.00598\ttest-auc:0.80098+0.02638\ttest-error:0.30002+0.02970\ttest-logloss:0.58320+0.01328\n",
      "[7]\ttrain-auc:0.95700+0.00207\ttrain-error:0.11578+0.00472\ttrain-logloss:0.45051+0.00423\ttest-auc:0.88589+0.01356\ttest-error:0.18687+0.01039\ttest-logloss:0.51569+0.01026\n",
      "[8]\ttrain-auc:0.95894+0.00326\ttrain-error:0.11183+0.00723\ttrain-logloss:0.43980+0.00403\ttest-auc:0.87176+0.01479\ttest-error:0.20795+0.01570\ttest-logloss:0.51444+0.01165\n",
      "[9]\ttrain-auc:0.95947+0.00359\ttrain-error:0.10921+0.00206\ttrain-logloss:0.43389+0.00502\ttest-auc:0.86908+0.01837\ttest-error:0.20527+0.00647\ttest-logloss:0.51345+0.01180\n",
      "[10]\ttrain-auc:0.96915+0.00331\ttrain-error:0.09737+0.00178\ttrain-logloss:0.38104+0.00740\ttest-auc:0.90070+0.02033\ttest-error:0.14473+0.00348\ttest-logloss:0.45929+0.01372\n",
      "[11]\ttrain-auc:0.96907+0.00331\ttrain-error:0.09211+0.00195\ttrain-logloss:0.34838+0.00922\ttest-auc:0.91176+0.02314\ttest-error:0.14998+0.00598\ttest-logloss:0.42774+0.01613\n",
      "[12]\ttrain-auc:0.97116+0.00355\ttrain-error:0.09473+0.00307\ttrain-logloss:0.31460+0.00852\ttest-auc:0.91705+0.02006\ttest-error:0.13159+0.00399\ttest-logloss:0.39626+0.01943\n",
      "[13]\ttrain-auc:0.97081+0.00439\ttrain-error:0.08552+0.00480\ttrain-logloss:0.31210+0.00849\ttest-auc:0.91818+0.02111\ttest-error:0.13157+0.01326\ttest-logloss:0.39464+0.01869\n",
      "[14]\ttrain-auc:0.97192+0.00441\ttrain-error:0.09210+0.00169\ttrain-logloss:0.28847+0.01067\ttest-auc:0.91595+0.02001\ttest-error:0.12630+0.00605\ttest-logloss:0.37621+0.02063\n",
      "[15]\ttrain-auc:0.97217+0.00407\ttrain-error:0.08947+0.00480\ttrain-logloss:0.27287+0.01000\ttest-auc:0.91853+0.02068\ttest-error:0.12367+0.00327\ttest-logloss:0.36296+0.02634\n",
      "[16]\ttrain-auc:0.97311+0.00364\ttrain-error:0.08947+0.00480\ttrain-logloss:0.27049+0.00974\ttest-auc:0.91792+0.01930\ttest-error:0.12892+0.00949\ttest-logloss:0.36352+0.02465\n",
      "[17]\ttrain-auc:0.97398+0.00356\ttrain-error:0.09210+0.00476\ttrain-logloss:0.26885+0.00964\ttest-auc:0.91865+0.01819\ttest-error:0.12628+0.01250\ttest-logloss:0.36383+0.02276\n",
      "[18]\ttrain-auc:0.97438+0.00438\ttrain-error:0.09078+0.00630\ttrain-logloss:0.26564+0.01000\ttest-auc:0.91753+0.01726\ttest-error:0.12628+0.01250\ttest-logloss:0.36185+0.02220\n",
      "[19]\ttrain-auc:0.97444+0.00409\ttrain-error:0.08815+0.00660\ttrain-logloss:0.26484+0.01022\ttest-auc:0.91525+0.01966\ttest-error:0.14207+0.01245\ttest-logloss:0.36515+0.02003\n",
      "[20]\ttrain-auc:0.97434+0.00465\ttrain-error:0.08815+0.00365\ttrain-logloss:0.25002+0.01079\ttest-auc:0.91712+0.01658\ttest-error:0.13155+0.00940\ttest-logloss:0.35356+0.02050\n",
      "[21]\ttrain-auc:0.97564+0.00469\ttrain-error:0.08684+0.00323\ttrain-logloss:0.24757+0.00915\ttest-auc:0.91695+0.01678\ttest-error:0.13155+0.00940\ttest-logloss:0.35410+0.01885\n",
      "[22]\ttrain-auc:0.97581+0.00472\ttrain-error:0.08684+0.00323\ttrain-logloss:0.24734+0.00873\ttest-auc:0.91694+0.01678\ttest-error:0.12894+0.00974\ttest-logloss:0.35447+0.01980\n",
      "[23]\ttrain-auc:0.97605+0.00432\ttrain-error:0.08553+0.00381\ttrain-logloss:0.24633+0.00845\ttest-auc:0.91594+0.01696\ttest-error:0.13419+0.00603\ttest-logloss:0.35492+0.01960\n",
      "[24]\ttrain-auc:0.97641+0.00404\ttrain-error:0.08553+0.00381\ttrain-logloss:0.23594+0.00917\ttest-auc:0.91636+0.01628\ttest-error:0.13157+0.00720\ttest-logloss:0.35151+0.02550\n",
      "[25]\ttrain-auc:0.97638+0.00390\ttrain-error:0.08553+0.00381\ttrain-logloss:0.22697+0.00952\ttest-auc:0.91646+0.01729\ttest-error:0.13157+0.00720\ttest-logloss:0.43136+0.13418\n",
      "[26]\ttrain-auc:0.97737+0.00415\ttrain-error:0.08553+0.00202\ttrain-logloss:0.22439+0.00968\ttest-auc:0.91920+0.01621\ttest-error:0.12894+0.00974\ttest-logloss:0.42742+0.13065\n",
      "[27]\ttrain-auc:0.97782+0.00366\ttrain-error:0.08421+0.00194\ttrain-logloss:0.22313+0.00828\ttest-auc:0.91940+0.01685\ttest-error:0.13157+0.01326\ttest-logloss:0.42876+0.13359\n",
      "[28]\ttrain-auc:0.97812+0.00375\ttrain-error:0.08158+0.00201\ttrain-logloss:0.22307+0.00841\ttest-auc:0.91965+0.01604\ttest-error:0.12894+0.00974\ttest-logloss:0.42700+0.13532\n",
      "[29]\ttrain-auc:0.97847+0.00384\ttrain-error:0.07894+0.00843\ttrain-logloss:0.21405+0.00803\ttest-auc:0.91778+0.01450\ttest-error:0.12894+0.00974\ttest-logloss:0.51160+0.15264\n",
      "[30]\ttrain-auc:0.97860+0.00362\ttrain-error:0.08026+0.00365\ttrain-logloss:0.20726+0.00786\ttest-auc:0.91773+0.01542\ttest-error:0.12894+0.00974\ttest-logloss:0.59426+0.24036\n",
      "[31]\ttrain-auc:0.97861+0.00335\ttrain-error:0.07762+0.00738\ttrain-logloss:0.20309+0.00741\ttest-auc:0.91608+0.01351\ttest-error:0.12894+0.00974\ttest-logloss:0.59244+0.23975\n",
      "[32]\ttrain-auc:0.97928+0.00315\ttrain-error:0.07894+0.00551\ttrain-logloss:0.20296+0.00818\ttest-auc:0.91644+0.01470\ttest-error:0.13159+0.00993\ttest-logloss:0.59479+0.24011\n",
      "[33]\ttrain-auc:0.97964+0.00347\ttrain-error:0.07894+0.01110\ttrain-logloss:0.19868+0.00860\ttest-auc:0.91702+0.01461\ttest-error:0.13423+0.01141\ttest-logloss:0.59314+0.23934\n",
      "Tuned Results:\n",
      "train-auc-mean        0.976406\n",
      "train-auc-std         0.004043\n",
      "train-error-mean      0.085530\n",
      "train-error-std       0.003806\n",
      "train-logloss-mean    0.235937\n",
      "train-logloss-std     0.009173\n",
      "test-auc-mean         0.916362\n",
      "test-auc-std          0.016277\n",
      "test-error-mean       0.131567\n",
      "test-error-std        0.007200\n",
      "test-logloss-mean     0.351514\n",
      "test-logloss-std      0.025501\n",
      "Name: 24, dtype: float64\n"
     ]
    }
   ],
   "source": [
    "best_params = random_search_xgboost_model.best_params_\n",
    "\n",
    "# Re-run XGBoost CV with early stopping and additional metrics\n",
    "xgb_random_search_tuned_results = xgb.cv(\n",
    "    best_params, dtrain_clf,\n",
    "    num_boost_round=1000,\n",
    "    nfold=3,\n",
    "    early_stopping_rounds=10,\n",
    "    metrics=[\"auc\", \"error\", \"logloss\"],\n",
    "    verbose_eval=True\n",
    ")\n",
    "\n",
    "# Display tuned results\n",
    "print(\"Tuned Results:\")\n",
    "print(xgb_random_search_tuned_results.iloc[-1])"
   ],
   "metadata": {
    "collapsed": false,
    "ExecuteTime": {
     "end_time": "2023-12-28T17:29:58.739669400Z",
     "start_time": "2023-12-28T17:29:58.515534400Z"
    }
   }
  },
  {
   "cell_type": "markdown",
   "source": [
    "Performing GridSearch with default parameters"
   ],
   "metadata": {
    "collapsed": false
   }
  },
  {
   "cell_type": "code",
   "execution_count": 11,
   "outputs": [
    {
     "name": "stdout",
     "output_type": "stream",
     "text": [
      "Fitting 5 folds for each of 4000 candidates, totalling 20000 fits\n",
      "Best Hyperparameters: {'colsample_bytree': 0.9, 'eta': 0.1, 'max_depth': 7, 'min_child_weight': 3, 'subsample': 0.6}\n",
      "Accuracy: 0.8536585365853658\n",
      "Precision: 0.9285714285714286\n",
      "Recall: 0.8125\n"
     ]
    }
   ],
   "source": [
    "# Create the grid search object\n",
    "grid_search_xgboost_model = GridSearchCV(\n",
    "    xgb_clf, param_grid, cv=5, scoring='neg_log_loss', verbose=1\n",
    ")\n",
    "\n",
    "# Fit the model on the training data\n",
    "grid_search_xgboost_model.fit(X_train, y_train)\n",
    "\n",
    "# Display the best hyperparameters\n",
    "print(\"Best Hyperparameters:\", grid_search_xgboost_model.best_params_)\n",
    "\n",
    "# Get the best model\n",
    "best_grid_search_xgb_model = grid_search_xgboost_model.best_estimator_\n",
    "\n",
    "# Evaluate the model with additional metrics\n",
    "grid_predictions = best_grid_search_xgb_model.predict(X_test)\n",
    "print(\"Accuracy:\", accuracy_score(y_test, grid_predictions))\n",
    "print(\"Precision:\", precision_score(y_test, grid_predictions))\n",
    "print(\"Recall:\", recall_score(y_test, grid_predictions))\n"
   ],
   "metadata": {
    "collapsed": false,
    "ExecuteTime": {
     "end_time": "2023-12-28T18:02:46.742320600Z",
     "start_time": "2023-12-28T17:49:59.335564Z"
    }
   }
  },
  {
   "cell_type": "markdown",
   "source": [
    "Using parameters from Grid Search"
   ],
   "metadata": {
    "collapsed": false
   }
  },
  {
   "cell_type": "code",
   "execution_count": 8,
   "outputs": [
    {
     "name": "stdout",
     "output_type": "stream",
     "text": [
      "[0]\ttrain-logloss:0.67321+0.00256\ttrain-auc:0.72824+0.01988\ttrain-error:0.36842+0.04182\ttest-logloss:0.68850+0.00269\ttest-auc:0.58243+0.03898\ttest-error:0.46579+0.03180\n",
      "[1]\ttrain-logloss:0.65743+0.00313\ttrain-auc:0.75919+0.02040\ttrain-error:0.32697+0.02796\ttest-logloss:0.68612+0.00280\ttest-auc:0.58374+0.02004\ttest-error:0.47105+0.04194\n",
      "[2]\ttrain-logloss:0.64474+0.00465\ttrain-auc:0.77049+0.01677\ttrain-error:0.30987+0.02938\ttest-logloss:0.68485+0.00564\ttest-auc:0.58343+0.04374\ttest-error:0.49737+0.04512\n",
      "[3]\ttrain-logloss:0.58555+0.00635\ttrain-auc:0.93520+0.00739\ttrain-error:0.15789+0.01177\ttest-logloss:0.62997+0.01160\ttest-auc:0.80919+0.06607\ttest-error:0.30000+0.04588\n",
      "[4]\ttrain-logloss:0.53550+0.00518\ttrain-auc:0.96291+0.00426\ttrain-error:0.10395+0.01132\ttest-logloss:0.58347+0.01145\ttest-auc:0.87501+0.04856\ttest-error:0.21053+0.03329\n",
      "[5]\ttrain-logloss:0.50071+0.00428\ttrain-auc:0.97105+0.00429\ttrain-error:0.08684+0.01405\ttest-logloss:0.55224+0.01332\ttest-auc:0.89248+0.03871\ttest-error:0.17105+0.03431\n",
      "[6]\ttrain-logloss:0.48992+0.00436\ttrain-auc:0.97218+0.00444\ttrain-error:0.08684+0.01073\ttest-logloss:0.54923+0.01224\ttest-auc:0.89122+0.03928\ttest-error:0.18158+0.02810\n",
      "[7]\ttrain-logloss:0.45861+0.00424\ttrain-auc:0.97525+0.00301\ttrain-error:0.08289+0.00868\ttest-logloss:0.52102+0.01528\ttest-auc:0.90047+0.03227\ttest-error:0.15789+0.04243\n",
      "[8]\ttrain-logloss:0.45040+0.00458\ttrain-auc:0.97618+0.00321\ttrain-error:0.07895+0.01265\ttest-logloss:0.51777+0.01830\ttest-auc:0.90058+0.03500\ttest-error:0.16316+0.03956\n",
      "[9]\ttrain-logloss:0.44325+0.00521\ttrain-auc:0.97628+0.00442\ttrain-error:0.08158+0.00962\ttest-logloss:0.51687+0.01847\ttest-auc:0.89691+0.03534\ttest-error:0.18421+0.03431\n",
      "[10]\ttrain-logloss:0.41199+0.00535\ttrain-auc:0.97776+0.00337\ttrain-error:0.07632+0.01089\ttest-logloss:0.48777+0.01984\ttest-auc:0.90713+0.03323\ttest-error:0.15789+0.03431\n",
      "[11]\ttrain-logloss:0.39009+0.00591\ttrain-auc:0.97975+0.00244\ttrain-error:0.07237+0.01101\ttest-logloss:0.47038+0.02048\ttest-auc:0.90998+0.03086\ttest-error:0.15000+0.03180\n",
      "[12]\ttrain-logloss:0.36652+0.00663\ttrain-auc:0.98019+0.00214\ttrain-error:0.07368+0.01169\ttest-logloss:0.45132+0.02418\ttest-auc:0.91082+0.02985\ttest-error:0.14737+0.03158\n",
      "[13]\ttrain-logloss:0.36133+0.00781\ttrain-auc:0.98100+0.00209\ttrain-error:0.07368+0.00989\ttest-logloss:0.45230+0.02510\ttest-auc:0.90562+0.03275\ttest-error:0.15263+0.03287\n",
      "[14]\ttrain-logloss:0.34166+0.00778\ttrain-auc:0.98124+0.00230\ttrain-error:0.07500+0.01069\ttest-logloss:0.43605+0.02774\ttest-auc:0.90671+0.03230\ttest-error:0.15263+0.03491\n",
      "[15]\ttrain-logloss:0.32330+0.00745\ttrain-auc:0.98169+0.00281\ttrain-error:0.07303+0.01089\ttest-logloss:0.41947+0.03067\ttest-auc:0.91136+0.03015\ttest-error:0.15263+0.03287\n",
      "[16]\ttrain-logloss:0.30725+0.00742\ttrain-auc:0.98201+0.00279\ttrain-error:0.07434+0.01032\ttest-logloss:0.40533+0.03182\ttest-auc:0.91503+0.02817\ttest-error:0.14474+0.03000\n",
      "[17]\ttrain-logloss:0.29489+0.00757\ttrain-auc:0.98253+0.00260\ttrain-error:0.07434+0.00967\ttest-logloss:0.39518+0.03227\ttest-auc:0.91713+0.02712\ttest-error:0.14737+0.03158\n",
      "[18]\ttrain-logloss:0.29127+0.00766\ttrain-auc:0.98301+0.00254\ttrain-error:0.07237+0.00721\ttest-logloss:0.39470+0.03198\ttest-auc:0.91745+0.02538\ttest-error:0.14211+0.02684\n",
      "[19]\ttrain-logloss:0.28764+0.00837\ttrain-auc:0.98356+0.00262\ttrain-error:0.07237+0.00883\ttest-logloss:0.39473+0.03239\ttest-auc:0.91560+0.02661\ttest-error:0.14737+0.03266\n",
      "[20]\ttrain-logloss:0.27490+0.00760\ttrain-auc:0.98391+0.00274\ttrain-error:0.07039+0.00677\ttest-logloss:0.38524+0.03411\ttest-auc:0.91710+0.02671\ttest-error:0.14474+0.02760\n",
      "[21]\ttrain-logloss:0.26521+0.00766\ttrain-auc:0.98415+0.00239\ttrain-error:0.06974+0.00762\ttest-logloss:0.38046+0.03476\ttest-auc:0.91555+0.02664\ttest-error:0.14737+0.02810\n",
      "[22]\ttrain-logloss:0.25418+0.00819\ttrain-auc:0.98455+0.00236\ttrain-error:0.06776+0.00492\ttest-logloss:0.37231+0.03496\ttest-auc:0.91613+0.02616\ttest-error:0.14211+0.02930\n",
      "[23]\ttrain-logloss:0.24439+0.00880\ttrain-auc:0.98473+0.00236\ttrain-error:0.06711+0.00677\ttest-logloss:0.36586+0.03394\ttest-auc:0.91743+0.02371\ttest-error:0.13947+0.02709\n",
      "[24]\ttrain-logloss:0.23611+0.00936\ttrain-auc:0.98467+0.00249\ttrain-error:0.06711+0.00677\ttest-logloss:0.36149+0.03464\ttest-auc:0.91658+0.02375\ttest-error:0.13421+0.02264\n",
      "[25]\ttrain-logloss:0.22900+0.00990\ttrain-auc:0.98492+0.00236\ttrain-error:0.06645+0.00671\ttest-logloss:0.35832+0.03446\ttest-auc:0.91675+0.02339\ttest-error:0.13684+0.02578\n",
      "[26]\ttrain-logloss:0.22182+0.00956\ttrain-auc:0.98511+0.00241\ttrain-error:0.06645+0.00671\ttest-logloss:0.35640+0.03647\ttest-auc:0.91731+0.02336\ttest-error:0.14211+0.02684\n",
      "[27]\ttrain-logloss:0.21669+0.00968\ttrain-auc:0.98504+0.00244\ttrain-error:0.06776+0.00677\ttest-logloss:0.35302+0.03403\ttest-auc:0.91846+0.02178\ttest-error:0.14211+0.02684\n",
      "[28]\ttrain-logloss:0.21084+0.00961\ttrain-auc:0.98524+0.00228\ttrain-error:0.06776+0.00709\ttest-logloss:0.34868+0.03440\ttest-auc:0.91891+0.02135\ttest-error:0.13947+0.02709\n",
      "[29]\ttrain-logloss:0.20588+0.00965\ttrain-auc:0.98525+0.00220\ttrain-error:0.07171+0.00733\ttest-logloss:0.34635+0.03469\ttest-auc:0.91837+0.02167\ttest-error:0.13947+0.02709\n",
      "[30]\ttrain-logloss:0.20122+0.01027\ttrain-auc:0.98506+0.00234\ttrain-error:0.06908+0.00465\ttest-logloss:0.34363+0.03380\ttest-auc:0.92077+0.02038\ttest-error:0.13947+0.02709\n",
      "[31]\ttrain-logloss:0.19680+0.01038\ttrain-auc:0.98555+0.00234\ttrain-error:0.06974+0.00671\ttest-logloss:0.34049+0.03334\ttest-auc:0.92247+0.01923\ttest-error:0.14211+0.02684\n",
      "[32]\ttrain-logloss:0.19232+0.01044\ttrain-auc:0.98555+0.00263\ttrain-error:0.06908+0.00690\ttest-logloss:0.34042+0.03716\ttest-auc:0.92122+0.02010\ttest-error:0.14211+0.02684\n",
      "[33]\ttrain-logloss:0.18921+0.01026\ttrain-auc:0.98563+0.00259\ttrain-error:0.06842+0.00603\ttest-logloss:0.34146+0.03780\ttest-auc:0.92078+0.02056\ttest-error:0.13947+0.02578\n",
      "[34]\ttrain-logloss:0.18602+0.01018\ttrain-auc:0.98579+0.00236\ttrain-error:0.06711+0.00610\ttest-logloss:0.34048+0.03651\ttest-auc:0.92023+0.02054\ttest-error:0.13947+0.02578\n",
      "Tuned Results:\n",
      "train-logloss-mean    0.236111\n",
      "train-logloss-std     0.009359\n",
      "train-auc-mean        0.984673\n",
      "train-auc-std         0.002494\n",
      "train-error-mean      0.067105\n",
      "train-error-std       0.006773\n",
      "test-logloss-mean     0.361489\n",
      "test-logloss-std      0.034641\n",
      "test-auc-mean         0.916584\n",
      "test-auc-std          0.023750\n",
      "test-error-mean       0.134211\n",
      "test-error-std        0.022638\n",
      "Name: 24, dtype: float64\n"
     ]
    }
   ],
   "source": [
    "# Get the best parameters from  grid search\n",
    "best_params = grid_search_xgboost_model.best_params_\n",
    "\n",
    "# Re-run XGBoost CV with early stopping and additional metrics\n",
    "xgb_grid_search_tuned_results = xgb.cv(\n",
    "    best_params, dtrain_clf,\n",
    "    num_boost_round=1000,\n",
    "    nfold=5,\n",
    "    early_stopping_rounds=10,\n",
    "    metrics=[\"logloss\", \"auc\", \"error\"],\n",
    "    verbose_eval=True\n",
    ")\n",
    "\n",
    "# Display tuned results\n",
    "print(\"Tuned Results:\")\n",
    "print(xgb_grid_search_tuned_results.iloc[-1])\n"
   ],
   "metadata": {
    "collapsed": false,
    "ExecuteTime": {
     "end_time": "2023-12-28T17:43:44.893479300Z",
     "start_time": "2023-12-28T17:43:44.621208700Z"
    }
   }
  },
  {
   "cell_type": "code",
   "execution_count": 10,
   "outputs": [
    {
     "ename": "NameError",
     "evalue": "name 'stop' is not defined",
     "output_type": "error",
     "traceback": [
      "\u001B[1;31m---------------------------------------------------------------------------\u001B[0m",
      "\u001B[1;31mNameError\u001B[0m                                 Traceback (most recent call last)",
      "Cell \u001B[1;32mIn[10], line 1\u001B[0m\n\u001B[1;32m----> 1\u001B[0m \u001B[43mstop\u001B[49m\n",
      "\u001B[1;31mNameError\u001B[0m: name 'stop' is not defined"
     ]
    }
   ],
   "source": [
    "\n",
    "try:\n",
    "    with open('data.csv', 'a', newline='') as csvfile:\n",
    "        writer = csv.writer(csvfile)\n",
    "        # Write data to the CSV file\n",
    "        writer.writerow(['xgboost_grid_search', accuracy_score(y_test, grid_predictions) ])\n",
    "        writer.writerow(['xgboost_random_search', accuracy_score(y_test, random_predictions)])\n",
    "\n",
    "except Exception as e:\n",
    "    print(f\"An error occurred: {e}\")\n",
    "\n",
    "# Close the CSV file\n",
    "csvfile.close()"
   ],
   "metadata": {
    "collapsed": false,
    "ExecuteTime": {
     "end_time": "2023-12-28T17:49:29.180966400Z",
     "start_time": "2023-12-28T17:49:27.593272600Z"
    }
   }
  },
  {
   "cell_type": "code",
   "execution_count": 9,
   "outputs": [],
   "source": [],
   "metadata": {
    "collapsed": false,
    "ExecuteTime": {
     "end_time": "2023-12-28T17:43:44.901485300Z",
     "start_time": "2023-12-28T17:43:44.893479300Z"
    }
   }
  }
 ],
 "metadata": {
  "kernelspec": {
   "display_name": "Python 3",
   "language": "python",
   "name": "python3"
  },
  "language_info": {
   "codemirror_mode": {
    "name": "ipython",
    "version": 2
   },
   "file_extension": ".py",
   "mimetype": "text/x-python",
   "name": "python",
   "nbconvert_exporter": "python",
   "pygments_lexer": "ipython2",
   "version": "2.7.6"
  }
 },
 "nbformat": 4,
 "nbformat_minor": 0
}
