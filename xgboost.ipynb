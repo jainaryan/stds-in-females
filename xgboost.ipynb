{
 "cells": [
  {
   "cell_type": "code",
   "execution_count": 1,
   "metadata": {
    "collapsed": true,
    "ExecuteTime": {
     "end_time": "2023-12-26T06:43:42.218789300Z",
     "start_time": "2023-12-26T06:43:40.842117400Z"
    }
   },
   "outputs": [],
   "source": [
    "import csv\n",
    "\n",
    "import xgboost as xgb\n",
    "\n",
    "from sklearn.model_selection import train_test_split, RandomizedSearchCV\n",
    "from sklearn.metrics import accuracy_score, recall_score, precision_score\n",
    "import numpy as np\n",
    "import pandas as pd\n",
    "from sklearn.metrics import classification_report\n",
    "from sklearn.preprocessing import StandardScaler\n",
    "from sklearn.svm import SVC\n",
    "import matplotlib as plt\n",
    "from sklearn.model_selection import train_test_split, GridSearchCV\n",
    "from sklearn.model_selection import GridSearchCV"
   ]
  },
  {
   "cell_type": "markdown",
   "source": [
    "Importing and processing the data"
   ],
   "metadata": {
    "collapsed": false
   }
  },
  {
   "cell_type": "code",
   "execution_count": 2,
   "outputs": [],
   "source": [
    "file_path = './data./Data Set for Chapter - Sheet1.csv'\n",
    "df = pd.read_csv(file_path)\n",
    "df.dropna(inplace=True)"
   ],
   "metadata": {
    "collapsed": false,
    "ExecuteTime": {
     "end_time": "2023-12-26T06:43:42.259798900Z",
     "start_time": "2023-12-26T06:43:42.221808800Z"
    }
   }
  },
  {
   "cell_type": "markdown",
   "source": [
    "Splitting the data into train, test and cross validation sets"
   ],
   "metadata": {
    "collapsed": false
   }
  },
  {
   "cell_type": "code",
   "execution_count": 3,
   "outputs": [
    {
     "name": "stdout",
     "output_type": "stream",
     "text": [
      "length of training set:  380\n",
      "length of test set:  82\n",
      "length of cv set:  82\n"
     ]
    }
   ],
   "source": [
    "x = df.loc[:,'Age':'Testing']\n",
    "y = df['STD Status']\n",
    "\n",
    "scaler = StandardScaler()\n",
    "x = scaler.fit_transform(x)\n",
    "\n",
    "# Split dataset into training set and test set\n",
    "X_train, X_test, y_train, y_test = train_test_split(x,y,test_size=0.3,random_state=41) # 70% training and 30% test\n",
    "X_cv,y_cv = X_test[:int(len(X_test)/2)],y_test[:int(len(y_test)/2)]\n",
    "X_test,y_test = X_test[int(len(X_test)/2):],y_test[int(len(y_test)/2):]\n",
    "\n",
    "print(\"length of training set: \", len(X_train))\n",
    "print(\"length of test set: \", len(X_test))\n",
    "print(\"length of cv set: \", len(X_cv))"
   ],
   "metadata": {
    "collapsed": false,
    "ExecuteTime": {
     "end_time": "2023-12-26T06:43:42.280237600Z",
     "start_time": "2023-12-26T06:43:42.253816200Z"
    }
   }
  },
  {
   "cell_type": "markdown",
   "source": [
    "Creating the XGBoost model"
   ],
   "metadata": {
    "collapsed": false
   }
  },
  {
   "cell_type": "code",
   "execution_count": 4,
   "outputs": [],
   "source": [
    "xgb_clf = xgb.XGBClassifier(\n",
    "    objective=\"binary:logistic\",\n",
    "    eta=0.1,\n",
    "    max_depth=5,\n",
    "    min_child_weight=5,\n",
    "    subsample=0.8,\n",
    "    colsample_bytree=0.9\n",
    ")\n",
    "\n",
    "# Create classification matrices\n",
    "dtrain_clf = xgb.DMatrix(X_train, y_train, enable_categorical=True)\n",
    "dtest_clf = xgb.DMatrix(X_test, y_test, enable_categorical=True)\n",
    "param_grid = { 'eta': [0.01, 0.1, 0.2,0.5],\n",
    "               'max_depth': [3, 5, 7, 9, 11, 15, 20],\n",
    "               'min_child_weight': [1,3,5,7,10],\n",
    "               'subsample': [0.7,0.8, 0.9],\n",
    "               'colsample_bytree': [0.7,0.8, 0.9]\n",
    "             }"
   ],
   "metadata": {
    "collapsed": false,
    "ExecuteTime": {
     "end_time": "2023-12-26T06:43:42.343790800Z",
     "start_time": "2023-12-26T06:43:42.284237800Z"
    }
   }
  },
  {
   "cell_type": "markdown",
   "source": [
    "Performing RandomSearch with initial parameters"
   ],
   "metadata": {
    "collapsed": false
   }
  },
  {
   "cell_type": "code",
   "execution_count": 5,
   "outputs": [
    {
     "name": "stdout",
     "output_type": "stream",
     "text": [
      "Fitting 5 folds for each of 100 candidates, totalling 500 fits\n",
      "Best Hyperparameters: {'subsample': 0.8, 'min_child_weight': 5, 'max_depth': 20, 'eta': 0.1, 'colsample_bytree': 0.7}\n",
      "Accuracy: 0.8536585365853658\n",
      "Precision: 0.9285714285714286\n",
      "Recall: 0.8125\n"
     ]
    }
   ],
   "source": [
    "random_search_xgboost_model = RandomizedSearchCV(\n",
    "    xgb_clf, param_grid, cv=5, scoring='neg_log_loss', n_iter=100, verbose=1\n",
    ")\n",
    "# Fit the model on the training data\n",
    "random_search_xgboost_model.fit(X_train, y_train)\n",
    "\n",
    "# Display the best hyperparameters\n",
    "print(\"Best Hyperparameters:\", random_search_xgboost_model.best_params_)\n",
    "\n",
    "# Get the best model\n",
    "best_random_search_xgb_model = random_search_xgboost_model.best_estimator_\n",
    "\n",
    "# Evaluate the model with additional metrics\n",
    "random_predictions = best_random_search_xgb_model.predict(X_test)\n",
    "print(\"Accuracy:\", accuracy_score(y_test, random_predictions))\n",
    "print(\"Precision:\", precision_score(y_test, random_predictions))\n",
    "print(\"Recall:\", recall_score(y_test, random_predictions))"
   ],
   "metadata": {
    "collapsed": false,
    "ExecuteTime": {
     "end_time": "2023-12-26T06:43:56.074213900Z",
     "start_time": "2023-12-26T06:43:42.346794700Z"
    }
   }
  },
  {
   "cell_type": "markdown",
   "source": [
    "Using the parameters from Random Search"
   ],
   "metadata": {
    "collapsed": false
   }
  },
  {
   "cell_type": "code",
   "execution_count": 6,
   "outputs": [
    {
     "name": "stdout",
     "output_type": "stream",
     "text": [
      "[0]\ttrain-auc:0.68788+0.01872\ttrain-error:0.43296+0.03626\ttrain-logloss:0.67859+0.00293\ttest-auc:0.54148+0.02090\ttest-error:0.52110+0.01463\ttest-logloss:0.69616+0.00234\n",
      "[1]\ttrain-auc:0.74322+0.02158\ttrain-error:0.36058+0.03496\ttrain-logloss:0.66317+0.00496\ttest-auc:0.56181+0.01138\ttest-error:0.49225+0.04684\ttest-logloss:0.69240+0.00370\n",
      "[2]\ttrain-auc:0.76769+0.01502\ttrain-error:0.33294+0.03398\ttrain-logloss:0.65056+0.00765\ttest-auc:0.59434+0.00880\ttest-error:0.46321+0.02693\ttest-logloss:0.68917+0.00394\n",
      "[3]\ttrain-auc:0.94650+0.00730\ttrain-error:0.17638+0.03592\ttrain-logloss:0.59123+0.00865\ttest-auc:0.84429+0.02593\ttest-error:0.31302+0.03671\ttest-logloss:0.63074+0.00191\n",
      "[4]\ttrain-auc:0.93705+0.01086\ttrain-error:0.19347+0.02670\ttrain-logloss:0.58336+0.00975\ttest-auc:0.82293+0.03256\ttest-error:0.32881+0.04833\ttest-logloss:0.62988+0.00488\n",
      "[5]\ttrain-auc:0.96390+0.00497\ttrain-error:0.11186+0.01148\ttrain-logloss:0.53994+0.00799\ttest-auc:0.87985+0.01322\ttest-error:0.20779+0.03179\ttest-logloss:0.58849+0.00304\n",
      "[6]\ttrain-auc:0.96272+0.00658\ttrain-error:0.11841+0.01106\ttrain-logloss:0.53156+0.00804\ttest-auc:0.86974+0.02130\ttest-error:0.22370+0.03247\ttest-logloss:0.58682+0.00418\n",
      "[7]\ttrain-auc:0.96938+0.00366\ttrain-error:0.09737+0.00677\ttrain-logloss:0.49685+0.00664\ttest-auc:0.89684+0.01020\ttest-error:0.17364+0.02779\ttest-logloss:0.55299+0.00279\n",
      "[8]\ttrain-auc:0.97001+0.00500\ttrain-error:0.09999+0.00474\ttrain-logloss:0.48713+0.00627\ttest-auc:0.88595+0.01306\ttest-error:0.19208+0.03916\ttest-logloss:0.55009+0.00460\n",
      "[9]\ttrain-auc:0.96967+0.00616\ttrain-error:0.09999+0.00474\ttrain-logloss:0.47824+0.00876\ttest-auc:0.88210+0.01961\ttest-error:0.20000+0.03538\ttest-logloss:0.54694+0.00619\n",
      "[10]\ttrain-auc:0.97336+0.00503\ttrain-error:0.09211+0.00195\ttrain-logloss:0.44385+0.00909\ttest-auc:0.89886+0.01620\ttest-error:0.16315+0.01323\ttest-logloss:0.51364+0.00657\n",
      "[11]\ttrain-auc:0.97503+0.00454\ttrain-error:0.08684+0.00323\ttrain-logloss:0.41864+0.00829\ttest-auc:0.90882+0.01282\ttest-error:0.15519+0.03007\ttest-logloss:0.48967+0.00551\n",
      "[12]\ttrain-auc:0.97517+0.00361\ttrain-error:0.08552+0.00490\ttrain-logloss:0.39239+0.00732\ttest-auc:0.91365+0.01163\ttest-error:0.13948+0.00400\ttest-logloss:0.46468+0.00616\n",
      "[13]\ttrain-auc:0.97607+0.00369\ttrain-error:0.08684+0.00646\ttrain-logloss:0.38855+0.00667\ttest-auc:0.91266+0.01026\ttest-error:0.13686+0.00770\ttest-logloss:0.46438+0.00568\n",
      "[14]\ttrain-auc:0.97684+0.00355\ttrain-error:0.08421+0.00668\ttrain-logloss:0.36617+0.00689\ttest-auc:0.91367+0.01060\ttest-error:0.13157+0.00720\ttest-logloss:0.44456+0.00629\n",
      "[15]\ttrain-auc:0.97672+0.00354\ttrain-error:0.08421+0.00668\ttrain-logloss:0.34991+0.00567\ttest-auc:0.91696+0.01054\ttest-error:0.12626+0.01663\ttest-logloss:0.42972+0.00881\n",
      "[16]\ttrain-auc:0.97661+0.00368\ttrain-error:0.08684+0.00646\ttrain-logloss:0.33270+0.00625\ttest-auc:0.91702+0.00875\ttest-error:0.12630+0.00605\ttest-logloss:0.41511+0.00841\n",
      "[17]\ttrain-auc:0.97686+0.00310\ttrain-error:0.08815+0.00365\ttrain-logloss:0.31950+0.00681\ttest-auc:0.91923+0.00862\ttest-error:0.12628+0.01072\ttest-logloss:0.40415+0.00800\n",
      "[18]\ttrain-auc:0.97817+0.00312\ttrain-error:0.08684+0.00551\ttrain-logloss:0.31545+0.00711\ttest-auc:0.91768+0.00756\ttest-error:0.12628+0.01072\ttest-logloss:0.40283+0.00792\n",
      "[19]\ttrain-auc:0.97870+0.00328\ttrain-error:0.08684+0.00551\ttrain-logloss:0.31257+0.00718\ttest-auc:0.91701+0.00794\ttest-error:0.12892+0.00698\ttest-logloss:0.40339+0.00778\n",
      "[20]\ttrain-auc:0.97843+0.00324\ttrain-error:0.08420+0.00923\ttrain-logloss:0.29898+0.00779\ttest-auc:0.91823+0.00652\ttest-error:0.12365+0.00943\ttest-logloss:0.39247+0.00663\n",
      "[21]\ttrain-auc:0.97864+0.00338\ttrain-error:0.08420+0.00923\ttrain-logloss:0.28875+0.00763\ttest-auc:0.91955+0.00811\ttest-error:0.12365+0.00943\ttest-logloss:0.38423+0.00856\n",
      "[22]\ttrain-auc:0.97910+0.00406\ttrain-error:0.08420+0.00923\ttrain-logloss:0.28654+0.00774\ttest-auc:0.91878+0.00800\ttest-error:0.12365+0.00943\ttest-logloss:0.38265+0.00819\n",
      "[23]\ttrain-auc:0.97974+0.00373\ttrain-error:0.08157+0.01032\ttrain-logloss:0.28456+0.00756\ttest-auc:0.91745+0.00889\ttest-error:0.12892+0.00949\ttest-logloss:0.38286+0.00809\n",
      "[24]\ttrain-auc:0.97987+0.00336\ttrain-error:0.08157+0.01032\ttrain-logloss:0.27554+0.00736\ttest-auc:0.91834+0.00990\ttest-error:0.12628+0.01250\ttest-logloss:0.37551+0.01006\n",
      "[25]\ttrain-auc:0.97982+0.00318\ttrain-error:0.08157+0.01032\ttrain-logloss:0.26582+0.00782\ttest-auc:0.92042+0.00936\ttest-error:0.12103+0.00701\ttest-logloss:0.36685+0.01200\n",
      "[26]\ttrain-auc:0.98062+0.00312\ttrain-error:0.08025+0.00924\ttrain-logloss:0.26328+0.00831\ttest-auc:0.92011+0.01091\ttest-error:0.12103+0.00701\ttest-logloss:0.36609+0.01267\n",
      "[27]\ttrain-auc:0.98120+0.00304\ttrain-error:0.07630+0.01212\ttrain-logloss:0.26152+0.00823\ttest-auc:0.91905+0.01184\ttest-error:0.12103+0.00701\ttest-logloss:0.36692+0.01340\n",
      "[28]\ttrain-auc:0.98152+0.00327\ttrain-error:0.07367+0.01120\ttrain-logloss:0.26005+0.00832\ttest-auc:0.91870+0.01203\ttest-error:0.12365+0.00943\ttest-logloss:0.36590+0.01324\n",
      "[29]\ttrain-auc:0.98151+0.00292\ttrain-error:0.07367+0.01120\ttrain-logloss:0.25103+0.00797\ttest-auc:0.92020+0.01102\ttest-error:0.11840+0.00608\ttest-logloss:0.35841+0.01387\n",
      "[30]\ttrain-auc:0.98145+0.00290\ttrain-error:0.07498+0.01152\ttrain-logloss:0.24403+0.00800\ttest-auc:0.91970+0.01096\ttest-error:0.12367+0.00327\ttest-logloss:0.35353+0.01529\n",
      "[31]\ttrain-auc:0.98181+0.00300\ttrain-error:0.07498+0.01152\ttrain-logloss:0.23708+0.00812\ttest-auc:0.91959+0.01049\ttest-error:0.12105+0.00351\ttest-logloss:0.34973+0.01734\n",
      "[32]\ttrain-auc:0.98195+0.00354\ttrain-error:0.07367+0.01120\ttrain-logloss:0.23589+0.00877\ttest-auc:0.91812+0.01160\ttest-error:0.12105+0.00351\ttest-logloss:0.35128+0.01826\n",
      "[33]\ttrain-auc:0.98231+0.00331\ttrain-error:0.07235+0.01292\ttrain-logloss:0.23006+0.00884\ttest-auc:0.91804+0.01234\ttest-error:0.12105+0.00351\ttest-logloss:0.34865+0.01945\n",
      "[34]\ttrain-auc:0.98254+0.00334\ttrain-error:0.07104+0.01153\ttrain-logloss:0.22846+0.00925\ttest-auc:0.91852+0.01120\ttest-error:0.12367+0.00327\ttest-logloss:0.34858+0.01919\n",
      "[35]\ttrain-auc:0.98289+0.00352\ttrain-error:0.07104+0.01153\ttrain-logloss:0.22302+0.00906\ttest-auc:0.91828+0.01224\ttest-error:0.12105+0.00351\ttest-logloss:0.34576+0.02060\n",
      "[36]\ttrain-auc:0.98290+0.00372\ttrain-error:0.07104+0.01153\ttrain-logloss:0.22197+0.00929\ttest-auc:0.91862+0.01245\ttest-error:0.12369+0.00397\ttest-logloss:0.34600+0.02111\n",
      "[37]\ttrain-auc:0.98287+0.00363\ttrain-error:0.07104+0.01153\ttrain-logloss:0.21694+0.00971\ttest-auc:0.91986+0.01112\ttest-error:0.12369+0.00397\ttest-logloss:0.34340+0.02163\n",
      "[38]\ttrain-auc:0.98292+0.00370\ttrain-error:0.07104+0.01153\ttrain-logloss:0.21266+0.00963\ttest-auc:0.92064+0.01228\ttest-error:0.12369+0.00397\ttest-logloss:0.34362+0.02347\n",
      "[39]\ttrain-auc:0.98284+0.00435\ttrain-error:0.07104+0.00844\ttrain-logloss:0.20858+0.01014\ttest-auc:0.91943+0.01080\ttest-error:0.12105+0.00351\ttest-logloss:0.34400+0.02475\n",
      "[40]\ttrain-auc:0.98323+0.00383\ttrain-error:0.07104+0.01111\ttrain-logloss:0.20743+0.00969\ttest-auc:0.92005+0.01195\ttest-error:0.12894+0.00350\ttest-logloss:0.34436+0.02648\n",
      "[41]\ttrain-auc:0.98369+0.00355\ttrain-error:0.06841+0.00925\ttrain-logloss:0.20407+0.00934\ttest-auc:0.91982+0.01240\ttest-error:0.12630+0.00605\ttest-logloss:0.42614+0.13922\n",
      "[42]\ttrain-auc:0.98377+0.00371\ttrain-error:0.06973+0.00738\ttrain-logloss:0.20292+0.00949\ttest-auc:0.91954+0.01217\ttest-error:0.12105+0.00351\ttest-logloss:0.34252+0.02771\n",
      "[43]\ttrain-auc:0.98427+0.00340\ttrain-error:0.06972+0.00800\ttrain-logloss:0.19909+0.00881\ttest-auc:0.92015+0.01268\ttest-error:0.12369+0.00397\ttest-logloss:0.34577+0.03599\n",
      "[44]\ttrain-auc:0.98429+0.00337\ttrain-error:0.06972+0.00800\ttrain-logloss:0.19586+0.00880\ttest-auc:0.92083+0.01311\ttest-error:0.12105+0.00351\ttest-logloss:0.42270+0.14187\n",
      "[45]\ttrain-auc:0.98438+0.00348\ttrain-error:0.06710+0.00845\ttrain-logloss:0.19320+0.00939\ttest-auc:0.92090+0.01249\ttest-error:0.12367+0.00721\ttest-logloss:0.42192+0.14143\n",
      "[46]\ttrain-auc:0.98398+0.00373\ttrain-error:0.06710+0.00845\ttrain-logloss:0.19097+0.00995\ttest-auc:0.92041+0.01240\ttest-error:0.12367+0.00721\ttest-logloss:0.42206+0.14057\n",
      "[47]\ttrain-auc:0.98411+0.00371\ttrain-error:0.06710+0.00845\ttrain-logloss:0.18862+0.01005\ttest-auc:0.92000+0.01287\ttest-error:0.12367+0.00721\ttest-logloss:0.42252+0.14114\n",
      "[48]\ttrain-auc:0.98444+0.00379\ttrain-error:0.06710+0.00845\ttrain-logloss:0.18739+0.00985\ttest-auc:0.92006+0.01278\ttest-error:0.12632+0.00645\ttest-logloss:0.42162+0.14271\n",
      "[49]\ttrain-auc:0.98490+0.00337\ttrain-error:0.06710+0.00845\ttrain-logloss:0.18450+0.01040\ttest-auc:0.92043+0.01336\ttest-error:0.12632+0.00645\ttest-logloss:0.42105+0.14251\n",
      "[50]\ttrain-auc:0.98481+0.00335\ttrain-error:0.06710+0.00845\ttrain-logloss:0.18265+0.01032\ttest-auc:0.91977+0.01394\ttest-error:0.12632+0.00645\ttest-logloss:0.42025+0.14249\n",
      "[51]\ttrain-auc:0.98544+0.00300\ttrain-error:0.06710+0.00845\ttrain-logloss:0.18112+0.01012\ttest-auc:0.91969+0.01360\ttest-error:0.12367+0.00721\ttest-logloss:0.41978+0.14244\n",
      "Tuned Results:\n",
      "train-auc-mean        0.983773\n",
      "train-auc-std         0.003715\n",
      "train-error-mean      0.069730\n",
      "train-error-std       0.007384\n",
      "train-logloss-mean    0.202920\n",
      "train-logloss-std     0.009485\n",
      "test-auc-mean         0.919536\n",
      "test-auc-std          0.012173\n",
      "test-error-mean       0.121047\n",
      "test-error-std        0.003512\n",
      "test-logloss-mean     0.342519\n",
      "test-logloss-std      0.027710\n",
      "Name: 42, dtype: float64\n"
     ]
    }
   ],
   "source": [
    "best_params = random_search_xgboost_model.best_params_\n",
    "\n",
    "# Re-run XGBoost CV with early stopping and additional metrics\n",
    "xgb_random_search_tuned_results = xgb.cv(\n",
    "    best_params, dtrain_clf,\n",
    "    num_boost_round=1000,\n",
    "    nfold=3,\n",
    "    early_stopping_rounds=10,\n",
    "    metrics=[\"auc\", \"error\", \"logloss\"],\n",
    "    verbose_eval=True\n",
    ")\n",
    "\n",
    "# Display tuned results\n",
    "print(\"Tuned Results:\")\n",
    "print(xgb_random_search_tuned_results.iloc[-1])"
   ],
   "metadata": {
    "collapsed": false,
    "ExecuteTime": {
     "end_time": "2023-12-26T06:43:56.294327700Z",
     "start_time": "2023-12-26T06:43:56.077216700Z"
    }
   }
  },
  {
   "cell_type": "markdown",
   "source": [
    "Performing GridSearch with default parameters"
   ],
   "metadata": {
    "collapsed": false
   }
  },
  {
   "cell_type": "code",
   "execution_count": 7,
   "outputs": [
    {
     "name": "stdout",
     "output_type": "stream",
     "text": [
      "Fitting 5 folds for each of 1260 candidates, totalling 6300 fits\n",
      "Best Hyperparameters: {'colsample_bytree': 0.9, 'eta': 0.1, 'max_depth': 5, 'min_child_weight': 3, 'subsample': 0.7}\n",
      "Accuracy: 0.8536585365853658\n",
      "Precision: 0.9285714285714286\n",
      "Recall: 0.8125\n"
     ]
    }
   ],
   "source": [
    "# Create the grid search object\n",
    "grid_search_xgboost_model = GridSearchCV(\n",
    "    xgb_clf, param_grid, cv=5, scoring='neg_log_loss', verbose=1\n",
    ")\n",
    "\n",
    "# Fit the model on the training data\n",
    "grid_search_xgboost_model.fit(X_train, y_train)\n",
    "\n",
    "# Display the best hyperparameters\n",
    "print(\"Best Hyperparameters:\", grid_search_xgboost_model.best_params_)\n",
    "\n",
    "# Get the best model\n",
    "best_grid_search_xgb_model = grid_search_xgboost_model.best_estimator_\n",
    "\n",
    "# Evaluate the model with additional metrics\n",
    "grid_predictions = best_grid_search_xgb_model.predict(X_test)\n",
    "print(\"Accuracy:\", accuracy_score(y_test, grid_predictions))\n",
    "print(\"Precision:\", precision_score(y_test, grid_predictions))\n",
    "print(\"Recall:\", recall_score(y_test, grid_predictions))\n"
   ],
   "metadata": {
    "collapsed": false,
    "ExecuteTime": {
     "end_time": "2023-12-26T06:46:48.787455200Z",
     "start_time": "2023-12-26T06:43:56.298326900Z"
    }
   }
  },
  {
   "cell_type": "markdown",
   "source": [
    "Using parameters from Grid Search"
   ],
   "metadata": {
    "collapsed": false
   }
  },
  {
   "cell_type": "code",
   "execution_count": 8,
   "outputs": [
    {
     "name": "stdout",
     "output_type": "stream",
     "text": [
      "[0]\ttrain-logloss:0.67702+0.00239\ttrain-auc:0.69203+0.02664\ttrain-error:0.37237+0.02593\ttest-logloss:0.68940+0.00494\ttest-auc:0.56852+0.04705\ttest-error:0.45789+0.05966\n",
      "[1]\ttrain-logloss:0.66274+0.00202\ttrain-auc:0.73850+0.01167\ttrain-error:0.33684+0.01797\ttest-logloss:0.68602+0.00589\ttest-auc:0.57794+0.02177\ttest-error:0.46579+0.03868\n",
      "[2]\ttrain-logloss:0.65089+0.00452\ttrain-auc:0.75530+0.01393\ttrain-error:0.32829+0.01695\ttest-logloss:0.68440+0.00644\ttest-auc:0.58377+0.04153\ttest-error:0.45789+0.05419\n",
      "[3]\ttrain-logloss:0.59026+0.00502\ttrain-auc:0.94319+0.00618\ttrain-error:0.14737+0.01630\ttest-logloss:0.62827+0.00605\ttest-auc:0.83682+0.06344\ttest-error:0.28947+0.03329\n",
      "[4]\ttrain-logloss:0.53890+0.00351\ttrain-auc:0.96303+0.00483\ttrain-error:0.09013+0.01259\ttest-logloss:0.58215+0.00837\ttest-auc:0.87970+0.03970\ttest-error:0.20789+0.03570\n",
      "[5]\ttrain-logloss:0.50297+0.00341\ttrain-auc:0.97151+0.00429\ttrain-error:0.08026+0.00492\ttest-logloss:0.54827+0.00898\ttest-auc:0.90585+0.03013\ttest-error:0.16579+0.01342\n",
      "[6]\ttrain-logloss:0.49469+0.00438\ttrain-auc:0.97299+0.00417\ttrain-error:0.08421+0.00873\ttest-logloss:0.54781+0.00982\ttest-auc:0.89993+0.03170\ttest-error:0.19737+0.04161\n",
      "[7]\ttrain-logloss:0.46347+0.00399\ttrain-auc:0.97533+0.00449\ttrain-error:0.08158+0.00566\ttest-logloss:0.51823+0.01096\ttest-auc:0.91345+0.02575\ttest-error:0.16316+0.02138\n",
      "[8]\ttrain-logloss:0.45672+0.00483\ttrain-auc:0.97618+0.00507\ttrain-error:0.07829+0.00671\ttest-logloss:0.51441+0.01153\ttest-auc:0.91535+0.02632\ttest-error:0.17895+0.02709\n",
      "[9]\ttrain-logloss:0.45041+0.00485\ttrain-auc:0.97723+0.00521\ttrain-error:0.07829+0.00638\ttest-logloss:0.51182+0.01120\ttest-auc:0.91134+0.02352\ttest-error:0.18158+0.02264\n",
      "[10]\ttrain-logloss:0.41858+0.00492\ttrain-auc:0.97803+0.00454\ttrain-error:0.07434+0.00795\ttest-logloss:0.48287+0.01147\ttest-auc:0.91722+0.02236\ttest-error:0.16316+0.02440\n",
      "[11]\ttrain-logloss:0.39544+0.00496\ttrain-auc:0.97914+0.00362\ttrain-error:0.07697+0.00709\ttest-logloss:0.46374+0.01294\ttest-auc:0.92010+0.02251\ttest-error:0.14474+0.02202\n",
      "[12]\ttrain-logloss:0.37084+0.00575\ttrain-auc:0.97989+0.00277\ttrain-error:0.07434+0.00574\ttest-logloss:0.44346+0.01602\ttest-auc:0.92193+0.02259\ttest-error:0.14211+0.02264\n",
      "[13]\ttrain-logloss:0.36618+0.00696\ttrain-auc:0.98060+0.00246\ttrain-error:0.07303+0.00789\ttest-logloss:0.44383+0.01707\ttest-auc:0.91838+0.02494\ttest-error:0.14474+0.02883\n",
      "[14]\ttrain-logloss:0.34567+0.00712\ttrain-auc:0.98072+0.00293\ttrain-error:0.07500+0.00843\ttest-logloss:0.42555+0.01882\ttest-auc:0.91853+0.02565\ttest-error:0.13421+0.02930\n",
      "[15]\ttrain-logloss:0.32689+0.00774\ttrain-auc:0.98145+0.00284\ttrain-error:0.07303+0.00816\ttest-logloss:0.40890+0.02147\ttest-auc:0.92093+0.02510\ttest-error:0.13684+0.04043\n",
      "[16]\ttrain-logloss:0.31063+0.00779\ttrain-auc:0.98166+0.00253\ttrain-error:0.07303+0.00816\ttest-logloss:0.39445+0.02369\ttest-auc:0.92337+0.02231\ttest-error:0.13421+0.03570\n",
      "[17]\ttrain-logloss:0.29805+0.00811\ttrain-auc:0.98196+0.00235\ttrain-error:0.07237+0.00721\ttest-logloss:0.38440+0.02443\ttest-auc:0.92614+0.02010\ttest-error:0.12632+0.03180\n",
      "[18]\ttrain-logloss:0.29470+0.00799\ttrain-auc:0.98228+0.00246\ttrain-error:0.07171+0.00566\ttest-logloss:0.38477+0.02457\ttest-auc:0.92531+0.02209\ttest-error:0.13421+0.03158\n",
      "[19]\ttrain-logloss:0.29115+0.00871\ttrain-auc:0.98263+0.00256\ttrain-error:0.07105+0.00574\ttest-logloss:0.38376+0.02515\ttest-auc:0.92330+0.02255\ttest-error:0.12895+0.02684\n",
      "[20]\ttrain-logloss:0.27815+0.00791\ttrain-auc:0.98292+0.00244\ttrain-error:0.07171+0.00566\ttest-logloss:0.37363+0.02648\ttest-auc:0.92440+0.02152\ttest-error:0.13158+0.02883\n",
      "[21]\ttrain-logloss:0.26841+0.00835\ttrain-auc:0.98315+0.00245\ttrain-error:0.07171+0.00671\ttest-logloss:0.36592+0.02823\ttest-auc:0.92452+0.02259\ttest-error:0.12895+0.03370\n",
      "[22]\ttrain-logloss:0.25756+0.00891\ttrain-auc:0.98332+0.00238\ttrain-error:0.07237+0.00658\ttest-logloss:0.35899+0.02977\ttest-auc:0.92579+0.02210\ttest-error:0.12895+0.02930\n",
      "[23]\ttrain-logloss:0.24776+0.00911\ttrain-auc:0.98352+0.00225\ttrain-error:0.07105+0.00492\ttest-logloss:0.35365+0.02966\ttest-auc:0.92544+0.02129\ttest-error:0.12632+0.02440\n",
      "[24]\ttrain-logloss:0.23958+0.00967\ttrain-auc:0.98324+0.00239\ttrain-error:0.07039+0.00534\ttest-logloss:0.34862+0.03129\ttest-auc:0.92487+0.02130\ttest-error:0.12632+0.02440\n",
      "[25]\ttrain-logloss:0.23215+0.00996\ttrain-auc:0.98386+0.00251\ttrain-error:0.06974+0.00566\ttest-logloss:0.34477+0.03310\ttest-auc:0.92427+0.02202\ttest-error:0.12632+0.02440\n",
      "[26]\ttrain-logloss:0.22554+0.01022\ttrain-auc:0.98386+0.00259\ttrain-error:0.06908+0.00588\ttest-logloss:0.34149+0.03427\ttest-auc:0.92600+0.02102\ttest-error:0.13158+0.02883\n",
      "Tuned Results:\n",
      "train-logloss-mean    0.298045\n",
      "train-logloss-std     0.008112\n",
      "train-auc-mean        0.981957\n",
      "train-auc-std         0.002353\n",
      "train-error-mean      0.072368\n",
      "train-error-std       0.007207\n",
      "test-logloss-mean     0.384398\n",
      "test-logloss-std      0.024434\n",
      "test-auc-mean         0.926142\n",
      "test-auc-std          0.020101\n",
      "test-error-mean       0.126316\n",
      "test-error-std        0.031797\n",
      "Name: 17, dtype: float64\n"
     ]
    }
   ],
   "source": [
    "# Get the best parameters from  grid search\n",
    "best_params = grid_search_xgboost_model.best_params_\n",
    "\n",
    "# Re-run XGBoost CV with early stopping and additional metrics\n",
    "xgb_grid_search_tuned_results = xgb.cv(\n",
    "    best_params, dtrain_clf,\n",
    "    num_boost_round=1000,\n",
    "    nfold=5,\n",
    "    early_stopping_rounds=10,\n",
    "    metrics=[\"logloss\", \"auc\", \"error\"],\n",
    "    verbose_eval=True\n",
    ")\n",
    "\n",
    "# Display tuned results\n",
    "print(\"Tuned Results:\")\n",
    "print(xgb_grid_search_tuned_results.iloc[-1])\n"
   ],
   "metadata": {
    "collapsed": false,
    "ExecuteTime": {
     "end_time": "2023-12-26T06:46:48.956514900Z",
     "start_time": "2023-12-26T06:46:48.788465500Z"
    }
   }
  },
  {
   "cell_type": "code",
   "execution_count": 15,
   "outputs": [],
   "source": [
    "\n",
    "try:\n",
    "    with open('data.csv', 'a', newline='') as csvfile:\n",
    "        writer = csv.writer(csvfile)\n",
    "        # Write data to the CSV file\n",
    "        writer.writerow(['xgboost_grid_search', accuracy_score(y_test, grid_predictions) ])\n",
    "        writer.writerow(['xgboost_random_search', accuracy_score(y_test, random_predictions)])\n",
    "\n",
    "except Exception as e:\n",
    "    print(f\"An error occurred: {e}\")\n",
    "\n",
    "# Close the CSV file\n",
    "csvfile.close()"
   ],
   "metadata": {
    "collapsed": false,
    "ExecuteTime": {
     "end_time": "2023-12-26T08:12:01.052672700Z",
     "start_time": "2023-12-26T08:12:01.044667200Z"
    }
   }
  },
  {
   "cell_type": "code",
   "execution_count": 9,
   "outputs": [],
   "source": [],
   "metadata": {
    "collapsed": false,
    "ExecuteTime": {
     "end_time": "2023-12-26T06:46:48.977514400Z",
     "start_time": "2023-12-26T06:46:48.963515900Z"
    }
   }
  }
 ],
 "metadata": {
  "kernelspec": {
   "display_name": "Python 3",
   "language": "python",
   "name": "python3"
  },
  "language_info": {
   "codemirror_mode": {
    "name": "ipython",
    "version": 2
   },
   "file_extension": ".py",
   "mimetype": "text/x-python",
   "name": "python",
   "nbconvert_exporter": "python",
   "pygments_lexer": "ipython2",
   "version": "2.7.6"
  }
 },
 "nbformat": 4,
 "nbformat_minor": 0
}
