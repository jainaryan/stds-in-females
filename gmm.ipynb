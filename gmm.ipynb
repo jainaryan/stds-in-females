{
 "cells": [
  {
   "cell_type": "code",
   "execution_count": 1,
   "metadata": {
    "collapsed": true,
    "ExecuteTime": {
     "end_time": "2024-01-11T08:08:57.838414900Z",
     "start_time": "2024-01-11T08:08:56.335488300Z"
    }
   },
   "outputs": [],
   "source": [
    "import csv\n",
    "\n",
    "import xgboost as xgb\n",
    "from sklearn.ensemble import BaggingClassifier\n",
    "from sklearn.mixture import GaussianMixture\n",
    "\n",
    "from sklearn.model_selection import train_test_split, RandomizedSearchCV\n",
    "from sklearn.metrics import accuracy_score, recall_score, precision_score, confusion_matrix\n",
    "import numpy as np\n",
    "import pandas as pd\n",
    "from sklearn.metrics import classification_report\n",
    "from sklearn.preprocessing import StandardScaler\n",
    "from sklearn.svm import SVC\n",
    "from sklearn import linear_model\n",
    "from scipy.stats import uniform\n",
    "import matplotlib as plt\n",
    "from sklearn.neighbors import KNeighborsClassifier\n",
    "from sklearn.model_selection import train_test_split\n",
    "from sklearn.model_selection import train_test_split, GridSearchCV\n",
    "from sklearn.model_selection import GridSearchCV"
   ]
  },
  {
   "cell_type": "code",
   "execution_count": 2,
   "outputs": [],
   "source": [
    "file_path = './data./Data Set for Chapter - Sheet1.csv'\n",
    "df = pd.read_csv(file_path)\n",
    "df.dropna(inplace=True)"
   ],
   "metadata": {
    "collapsed": false,
    "ExecuteTime": {
     "end_time": "2024-01-11T08:08:57.848686900Z",
     "start_time": "2024-01-11T08:08:57.836424800Z"
    }
   }
  },
  {
   "cell_type": "code",
   "execution_count": 3,
   "outputs": [
    {
     "name": "stdout",
     "output_type": "stream",
     "text": [
      "length of training set:  380\n",
      "length of test set:  82\n",
      "length of cv set:  82\n"
     ]
    }
   ],
   "source": [
    "x = df.loc[:,'Age':'Testing']\n",
    "y = df['STD Status']\n",
    "\n",
    "scaler = StandardScaler()\n",
    "x = scaler.fit_transform(x)\n",
    "\n",
    "# Split dataset into training set and test set\n",
    "X_train, X_test, y_train, y_test = train_test_split(x,y,test_size=0.3,random_state=41) # 70% training and 15% test, 15% cross validation\n",
    "X_cv,y_cv = X_test[:int(len(X_test)/2)],y_test[:int(len(y_test)/2)]\n",
    "X_test,y_test = X_test[int(len(X_test)/2):],y_test[int(len(y_test)/2):]\n",
    "\n",
    "print(\"length of training set: \", len(X_train))\n",
    "print(\"length of test set: \", len(X_test))\n",
    "print(\"length of cv set: \", len(X_cv))"
   ],
   "metadata": {
    "collapsed": false,
    "ExecuteTime": {
     "end_time": "2024-01-11T08:08:57.893699400Z",
     "start_time": "2024-01-11T08:08:57.852678200Z"
    }
   }
  },
  {
   "cell_type": "code",
   "execution_count": 12,
   "outputs": [
    {
     "name": "stderr",
     "output_type": "stream",
     "text": [
      "D:\\std-project\\stds-in-females\\venv\\lib\\site-packages\\sklearn\\model_selection\\_search.py:307: UserWarning: The total space of parameters 3 is smaller than n_iter=100. Running 3 iterations. For exhaustive searches, use GridSearchCV.\n",
      "  warnings.warn(\n"
     ]
    }
   ],
   "source": [
    "gmm = GaussianMixture(n_components=2,random_state=42)\n",
    "\n",
    "# Grid Search\n",
    "param_grid = {\n",
    "    \"n_components\": [2],\n",
    "    \"covariance_type\": [\"spherical\", \"diag\", \"full\"],\n",
    "}\n",
    "grid_search = GridSearchCV(gmm, param_grid, cv=5)\n",
    "grid_search.fit(X_train,y_train)\n",
    "\n",
    "# Random Search\n",
    "param_distributions = {\n",
    "    \"n_components\": [2],\n",
    "    \"covariance_type\": [\"spherical\", \"diag\", \"full\"],\n",
    "}\n",
    "random_search = RandomizedSearchCV(gmm, param_distributions, n_iter=100, cv=5)\n",
    "random_search.fit(X_train,y_train)\n",
    "\n",
    "# Access best hyperparameters\n",
    "best_grid_params = grid_search.best_params_\n",
    "best_random_params = random_search.best_params_\n",
    "\n"
   ],
   "metadata": {
    "collapsed": false,
    "ExecuteTime": {
     "end_time": "2024-01-11T15:59:17.979844900Z",
     "start_time": "2024-01-11T15:59:17.545180200Z"
    }
   }
  },
  {
   "cell_type": "code",
   "execution_count": 13,
   "outputs": [
    {
     "name": "stdout",
     "output_type": "stream",
     "text": [
      "GRID SEARCH\n",
      "              precision    recall  f1-score   support\n",
      "\n",
      "           0       0.41      0.50      0.45        34\n",
      "           1       0.59      0.50      0.54        48\n",
      "\n",
      "    accuracy                           0.50        82\n",
      "   macro avg       0.50      0.50      0.50        82\n",
      "weighted avg       0.51      0.50      0.50        82\n",
      "\n",
      "[[17 17]\n",
      " [24 24]]\n"
     ]
    }
   ],
   "source": [
    "print(\"GRID SEARCH\")\n",
    "y_pred = grid_search.predict(X_test)\n",
    "conf_matrix = confusion_matrix(y_test,y_pred)\n",
    "report = classification_report(y_test,y_pred)\n",
    "print(report)\n",
    "print(conf_matrix)"
   ],
   "metadata": {
    "collapsed": false,
    "ExecuteTime": {
     "end_time": "2024-01-11T15:59:21.179637900Z",
     "start_time": "2024-01-11T15:59:21.144605Z"
    }
   }
  },
  {
   "cell_type": "code",
   "execution_count": 14,
   "outputs": [
    {
     "name": "stdout",
     "output_type": "stream",
     "text": [
      "RANDOM SEARCH\n",
      "              precision    recall  f1-score   support\n",
      "\n",
      "           0       0.41      0.50      0.45        34\n",
      "           1       0.59      0.50      0.54        48\n",
      "\n",
      "    accuracy                           0.50        82\n",
      "   macro avg       0.50      0.50      0.50        82\n",
      "weighted avg       0.51      0.50      0.50        82\n",
      "\n",
      "[[17 17]\n",
      " [24 24]]\n"
     ]
    }
   ],
   "source": [
    "print(\"RANDOM SEARCH\")\n",
    "y_pred = random_search.predict(X_test)\n",
    "conf_matrix = confusion_matrix(y_test,y_pred)\n",
    "report = classification_report(y_test,y_pred)\n",
    "print(report)\n",
    "print(conf_matrix)"
   ],
   "metadata": {
    "collapsed": false,
    "ExecuteTime": {
     "end_time": "2024-01-11T15:59:22.320833300Z",
     "start_time": "2024-01-11T15:59:22.289939700Z"
    }
   }
  },
  {
   "cell_type": "code",
   "execution_count": 6,
   "outputs": [],
   "source": [],
   "metadata": {
    "collapsed": false,
    "ExecuteTime": {
     "end_time": "2024-01-11T08:08:58.302632100Z",
     "start_time": "2024-01-11T08:08:58.247631200Z"
    }
   }
  },
  {
   "cell_type": "code",
   "execution_count": 6,
   "outputs": [],
   "source": [
    "\n"
   ],
   "metadata": {
    "collapsed": false,
    "ExecuteTime": {
     "end_time": "2024-01-11T08:08:58.303637500Z",
     "start_time": "2024-01-11T08:08:58.263630700Z"
    }
   }
  },
  {
   "cell_type": "code",
   "execution_count": 6,
   "outputs": [],
   "source": [],
   "metadata": {
    "collapsed": false,
    "ExecuteTime": {
     "end_time": "2024-01-11T08:08:58.303637500Z",
     "start_time": "2024-01-11T08:08:58.278631Z"
    }
   }
  }
 ],
 "metadata": {
  "kernelspec": {
   "display_name": "Python 3",
   "language": "python",
   "name": "python3"
  },
  "language_info": {
   "codemirror_mode": {
    "name": "ipython",
    "version": 2
   },
   "file_extension": ".py",
   "mimetype": "text/x-python",
   "name": "python",
   "nbconvert_exporter": "python",
   "pygments_lexer": "ipython2",
   "version": "2.7.6"
  }
 },
 "nbformat": 4,
 "nbformat_minor": 0
}
