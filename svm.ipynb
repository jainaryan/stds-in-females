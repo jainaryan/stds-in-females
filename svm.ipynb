{
 "cells": [
  {
   "cell_type": "code",
   "execution_count": null,
   "metadata": {
    "collapsed": true
   },
   "outputs": [],
   "source": [
    "import csv\n",
    "\n",
    "import numpy as np\n",
    "import pandas as pd\n",
    "from sklearn.metrics import classification_report, accuracy_score, make_scorer, roc_auc_score, confusion_matrix\n",
    "from sklearn.preprocessing import StandardScaler\n",
    "from sklearn.svm import SVC\n",
    "import matplotlib as plt\n",
    "from sklearn.model_selection import train_test_split, GridSearchCV, RandomizedSearchCV\n",
    "from scipy.stats import uniform\n",
    "from scipy import stats"
   ]
  },
  {
   "cell_type": "code",
   "execution_count": null,
   "outputs": [],
   "source": [
    "file_path = './data./Data Set for Chapter - Sheet1.csv'\n",
    "df = pd.read_csv(file_path)\n",
    "df.dropna(inplace=True)"
   ],
   "metadata": {
    "collapsed": false
   }
  },
  {
   "cell_type": "code",
   "execution_count": null,
   "outputs": [],
   "source": [
    "df"
   ],
   "metadata": {
    "collapsed": false
   }
  },
  {
   "cell_type": "markdown",
   "source": [
    "for protection usage:\n",
    "0: never\n",
    "1: sometimes\n",
    "2: always\n",
    "\n",
    "for STD testing history:\n",
    "0: no\n",
    "1: yes\n"
   ],
   "metadata": {
    "collapsed": false
   }
  },
  {
   "cell_type": "code",
   "execution_count": null,
   "outputs": [],
   "source": [
    "\n",
    "x = df.loc[:,'Age':'Testing']\n",
    "y = df['STD Status']\n",
    "\n",
    "scaler = StandardScaler()\n",
    "x = scaler.fit_transform(x)\n",
    "# Split dataset into training set and test set\n",
    "X_train, X_test, y_train, y_test = train_test_split(x,y,test_size=0.2,random_state=41)\n"
   ],
   "metadata": {
    "collapsed": false
   }
  },
  {
   "cell_type": "code",
   "execution_count": null,
   "outputs": [],
   "source": [],
   "metadata": {
    "collapsed": false
   }
  },
  {
   "cell_type": "code",
   "execution_count": null,
   "outputs": [],
   "source": [
    "param_grid = {'C': [0.1,0.001,0.01,1,5, 10, 50,100, 1000],\n",
    "              'gamma': [1, 0.1, 0.01, 0.05,0.001, 0.0001,10,50,100],\n",
    "              'kernel': ['rbf','linear'],\n",
    "              }\n",
    "\n",
    "rbf_linear_grid = GridSearchCV(SVC(), param_grid,verbose=10)\n",
    "\n",
    "# fitting the model for grid search\n",
    "rbf_linear_grid.fit(X_train, y_train)\n",
    "print(\"\\n \\n\")\n",
    "print(rbf_linear_grid.best_params_)\n"
   ],
   "metadata": {
    "collapsed": false
   }
  },
  {
   "cell_type": "code",
   "execution_count": null,
   "outputs": [],
   "source": [
    "'''param_grid = {'C': [0.1,0.001,0.01,1,5, 10, 50,100, 1000],\n",
    "              'gamma': [1, 0.1, 0.01, 0.05,0.001, 0.0001,10,50,100],\n",
    "              \n",
    "              'kernel': ['poly',],\n",
    "              'degree': [1,2,3,4,5],}\n",
    "\n",
    "poly_grid = GridSearchCV(SVC(), param_grid,verbose=10)\n",
    "\n",
    "# fitting the model for grid search\n",
    "poly_grid.fit(X_train, y_train)\n",
    "print(\"\\n \\n\")\n",
    "print(poly_grid.best_params_)\n",
    "print(poly_grid.best_estimator_)'''"
   ],
   "metadata": {
    "collapsed": false
   }
  },
  {
   "cell_type": "code",
   "execution_count": null,
   "outputs": [],
   "source": [
    "auc = make_scorer(roc_auc_score)\n",
    "rand_params = {'C': [0.1,0.001,0.01,1,5, 10, 50,100, 1000],\n",
    "              'gamma': [1, 0.1, 0.01, 0.05,0.001, 0.0001,10,50,100],\n",
    "              'epsilon': [0.001, 0.01,1,10,100,1000],\n",
    "              'kernel': ['poly',],\n",
    "              'degree': [1,2,3,4,5]\n",
    "               }\n",
    "\n",
    "rand_search = RandomizedSearchCV(SVC(), param_distributions = rand_params, n_iter = 30)\n",
    "rand_search.fit(X_train, y_train)\n",
    "print(rand_search.best_params_)\n",
    "\n"
   ],
   "metadata": {
    "collapsed": false
   }
  },
  {
   "cell_type": "code",
   "execution_count": null,
   "outputs": [],
   "source": [
    "print(rand_search.best_estimator_)"
   ],
   "metadata": {
    "collapsed": false
   }
  },
  {
   "cell_type": "code",
   "execution_count": null,
   "outputs": [],
   "source": [
    "'''polynomial_grid_predictions = poly_grid.predict(X_test)\n",
    "rand_search_predictions = rand_search.predict(X_test)\n",
    "rbf_linear_grid_predictions = rbf_linear_grid.predict(X_test)'''"
   ],
   "metadata": {
    "collapsed": false
   }
  },
  {
   "cell_type": "code",
   "execution_count": null,
   "outputs": [],
   "source": [],
   "metadata": {
    "collapsed": false
   }
  },
  {
   "cell_type": "code",
   "execution_count": null,
   "outputs": [],
   "source": [
    "'''rbf_linear_grid_accuracy = accuracy_score(y_test, rbf_linear_grid_predictions)\n",
    "rand_search_accuracy = accuracy_score(y_test, rand_search_predictions)\n",
    "polynomial_grid_accuracy = accuracy_score(y_test, polynomial_grid_predictions)\n",
    "\n",
    "if ((polynomial_grid_accuracy > rbf_linear_grid_accuracy)):\n",
    "    if (polynomial_grid_accuracy > rand_search_accuracy):\n",
    "        print(\"Polynomial Grid Search: \")\n",
    "        conf_matrix = confusion_matrix(y_test, polynomial_grid_predictions)\n",
    "        report = classification_report(y_test, polynomial_grid_predictions)\n",
    "        print(report)\n",
    "        print(conf_matrix)\n",
    "    else:\n",
    "        print(\"Random Search: \")\n",
    "        conf_matrix = confusion_matrix(y_test, rand_search_predictions)\n",
    "        report = classification_report(y_test, rand_search_predictions)\n",
    "        print(report)\n",
    "        print(conf_matrix)\n",
    "if (rbf_linear_grid_accuracy >= polynomial_grid_accuracy):\n",
    "    if (rbf_linear_grid_accuracy >= rand_search_accuracy):\n",
    "        print(\"RBF and Linear Grid Search: \")\n",
    "        conf_matrix = confusion_matrix(y_test, rbf_linear_grid_predictions)\n",
    "        report = classification_report(y_test, rbf_linear_grid_predictions)\n",
    "        print(report)\n",
    "        print(conf_matrix)\n",
    "    else:\n",
    "        print(\"Random Search: \")\n",
    "        conf_matrix = confusion_matrix(y_test, rand_search_predictions)\n",
    "        report = classification_report(y_test, rand_search_predictions)\n",
    "        print(report)\n",
    "        print(conf_matrix)\n",
    "   '''"
   ],
   "metadata": {
    "collapsed": false
   }
  },
  {
   "cell_type": "code",
   "execution_count": null,
   "outputs": [],
   "source": [
    "#polynomial_grid_predictions = poly_grid.predict(X_test)\n",
    "rand_search_predictions = rand_search.predict(X_test)\n",
    "rand_search_accuracy = accuracy_score(y_test, rand_search_predictions)\n",
    "rbf_linear_grid_predictions = rbf_linear_grid.predict(X_test)\n",
    "rbf_linear_grid_accuracy = accuracy_score(y_test, rbf_linear_grid_predictions)\n",
    "#polynomial_grid_accuracy = accuracy_score(y_test, polynomial_grid_predictions)"
   ],
   "metadata": {
    "collapsed": false
   }
  },
  {
   "cell_type": "code",
   "outputs": [],
   "source": [
    "if rand_search_accuracy > rbf_linear_grid_accuracy:\n",
    "    print(\"Random Search: \")\n",
    "    conf_matrix = confusion_matrix(y_test, rand_search_predictions)\n",
    "    report = classification_report(y_test, rand_search_predictions)\n",
    "    print(report)\n",
    "    print(conf_matrix)\n",
    "else:\n",
    "    print(\"RBF and Linear Grid Search: \")\n",
    "    conf_matrix = confusion_matrix(y_test, rbf_linear_grid_predictions)\n",
    "    report = classification_report(y_test, rbf_linear_grid_predictions)\n",
    "    print(report)\n",
    "    print(conf_matrix)"
   ],
   "metadata": {
    "collapsed": false
   }
  }
 ],
 "metadata": {
  "kernelspec": {
   "display_name": "Python 3",
   "language": "python",
   "name": "python3"
  },
  "language_info": {
   "codemirror_mode": {
    "name": "ipython",
    "version": 2
   },
   "file_extension": ".py",
   "mimetype": "text/x-python",
   "name": "python",
   "nbconvert_exporter": "python",
   "pygments_lexer": "ipython2",
   "version": "2.7.6"
  }
 },
 "nbformat": 4,
 "nbformat_minor": 0
}
